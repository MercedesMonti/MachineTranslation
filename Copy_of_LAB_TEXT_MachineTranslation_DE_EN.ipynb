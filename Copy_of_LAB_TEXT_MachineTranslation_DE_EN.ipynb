{
  "nbformat": 4,
  "nbformat_minor": 0,
  "metadata": {
    "kernelspec": {
      "display_name": "Python 3",
      "language": "python",
      "name": "python3"
    },
    "language_info": {
      "codemirror_mode": {
        "name": "ipython",
        "version": 3
      },
      "file_extension": ".py",
      "mimetype": "text/x-python",
      "name": "python",
      "nbconvert_exporter": "python",
      "pygments_lexer": "ipython3",
      "version": "3.7.4"
    },
    "colab": {
      "name": "Copy of LAB_TEXT_MachineTranslation_DE_EN.ipynb",
      "provenance": []
    }
  },
  "cells": [
    {
      "cell_type": "markdown",
      "metadata": {
        "id": "6myeL_73koGv",
        "colab_type": "text"
      },
      "source": [
        "### Import Required Libraries"
      ]
    },
    {
      "cell_type": "code",
      "metadata": {
        "id": "yHumd79dkoGw",
        "colab_type": "code",
        "outputId": "8759c0ad-739f-4727-d55a-2477b53cff0d",
        "colab": {
          "base_uri": "https://localhost:8080/",
          "height": 34
        }
      },
      "source": [
        "import string\n",
        "import re\n",
        "from numpy import array, argmax, random, take, delete\n",
        "import numpy as np\n",
        "import pandas as pd\n",
        "from keras.models import Sequential\n",
        "from keras.layers import Dense, LSTM, Embedding, Bidirectional, RepeatVector, TimeDistributed, SimpleRNN, GRU\n",
        "from keras.preprocessing.text import Tokenizer\n",
        "from keras.callbacks import ModelCheckpoint\n",
        "from keras.preprocessing.sequence import pad_sequences\n",
        "from keras.models import load_model\n",
        "from keras import optimizers\n",
        "import matplotlib.pyplot as plt\n",
        "% matplotlib inline\n",
        "pd.set_option('display.max_colwidth', 200)"
      ],
      "execution_count": 1,
      "outputs": [
        {
          "output_type": "stream",
          "text": [
            "Using TensorFlow backend.\n"
          ],
          "name": "stderr"
        }
      ]
    },
    {
      "cell_type": "markdown",
      "metadata": {
        "id": "edvSCTzPkoG1",
        "colab_type": "text"
      },
      "source": [
        "### Read Data"
      ]
    },
    {
      "cell_type": "markdown",
      "metadata": {
        "id": "891_lk8xkoG1",
        "colab_type": "text"
      },
      "source": [
        "Our data is a text file of English-German sentence pairs. First we will read the file using the function defined below."
      ]
    },
    {
      "cell_type": "code",
      "metadata": {
        "id": "s13TBC8ZkoG2",
        "colab_type": "code",
        "colab": {}
      },
      "source": [
        "# function to read raw text file\n",
        "def read_text(filename):\n",
        "    # open the file\n",
        "    file = open(filename, mode='rt', encoding='utf-8')\n",
        "    # read all text\n",
        "    text = file.read()\n",
        "    file.close()\n",
        "    return text\n",
        "    "
      ],
      "execution_count": 0,
      "outputs": []
    },
    {
      "cell_type": "markdown",
      "metadata": {
        "id": "p15420mNkoG5",
        "colab_type": "text"
      },
      "source": [
        "Now let's define a function to split the text into English-German pairs separated by '\\n' and then split these pairs into English sentences and German sentences."
      ]
    },
    {
      "cell_type": "code",
      "metadata": {
        "id": "1FnZsbgukoG5",
        "colab_type": "code",
        "outputId": "6dbf7c52-46f7-4ce0-f76f-3cdc7a5b9dfb",
        "colab": {
          "base_uri": "https://localhost:8080/",
          "height": 34
        }
      },
      "source": [
        "# split a text into sentences\n",
        "def to_lines(text):\n",
        "    sents = text.strip().split('\\n')\n",
        "    sents = [i.split('\\t') for i in sents]\n",
        "    return sents\n",
        "from google.colab import drive\n",
        "drive.mount('/content/drive')"
      ],
      "execution_count": 3,
      "outputs": [
        {
          "output_type": "stream",
          "text": [
            "Drive already mounted at /content/drive; to attempt to forcibly remount, call drive.mount(\"/content/drive\", force_remount=True).\n"
          ],
          "name": "stdout"
        }
      ]
    },
    {
      "cell_type": "markdown",
      "metadata": {
        "id": "yc4DAXQ-koG8",
        "colab_type": "text"
      },
      "source": [
        "__Download the data from [here.](http://www.manythings.org/anki/deu-eng.zip)__ and extract \"deu.txt\" in your working directory."
      ]
    },
    {
      "cell_type": "code",
      "metadata": {
        "id": "Zizgk7CJkoG8",
        "colab_type": "code",
        "colab": {}
      },
      "source": [
        "data = read_text(\"/content/drive/My Drive/ULTIMA PRACTICA ANALISIS/spa.txt\")\n",
        "deu_eng = to_lines(data)\n",
        "deu_eng = array(deu_eng)"
      ],
      "execution_count": 0,
      "outputs": []
    },
    {
      "cell_type": "markdown",
      "metadata": {
        "id": "LV5IMWKXkoG_",
        "colab_type": "text"
      },
      "source": [
        "The actual data contains over 150,000 sentence-pairs. However, we will use the first 50,000 sentence pairs only to reduce the training time of the model. You can change this number as per you system computation power."
      ]
    },
    {
      "cell_type": "code",
      "metadata": {
        "id": "DnJsmGqokoHA",
        "colab_type": "code",
        "colab": {}
      },
      "source": [
        "deu_eng = deu_eng[:50000,:]"
      ],
      "execution_count": 0,
      "outputs": []
    },
    {
      "cell_type": "markdown",
      "metadata": {
        "id": "4uKjR5XZkoHC",
        "colab_type": "text"
      },
      "source": [
        "### Text Pre-Processing"
      ]
    },
    {
      "cell_type": "markdown",
      "metadata": {
        "id": "eQi_tpRckoHD",
        "colab_type": "text"
      },
      "source": [
        "#### Text Cleaning\n",
        "\n",
        "Let's take a look at our data, then we will decide which pre-processing steps to adopt."
      ]
    },
    {
      "cell_type": "code",
      "metadata": {
        "scrolled": true,
        "id": "to9MsV0tkoHE",
        "colab_type": "code",
        "outputId": "60c1846f-c399-4ed1-d5b1-5bfdc6b47b96",
        "colab": {
          "base_uri": "https://localhost:8080/",
          "height": 269
        }
      },
      "source": [
        "deu_eng"
      ],
      "execution_count": 6,
      "outputs": [
        {
          "output_type": "execute_result",
          "data": {
            "text/plain": [
              "array([['Go.', 'Ve.',\n",
              "        'CC-BY 2.0 (France) Attribution: tatoeba.org #2877272 (CM) & #4986655 (cueyayotl)'],\n",
              "       ['Go.', 'Vete.',\n",
              "        'CC-BY 2.0 (France) Attribution: tatoeba.org #2877272 (CM) & #4986656 (cueyayotl)'],\n",
              "       ['Go.', 'Vaya.',\n",
              "        'CC-BY 2.0 (France) Attribution: tatoeba.org #2877272 (CM) & #4986657 (cueyayotl)'],\n",
              "       ...,\n",
              "       ['Fatigue showed on her face.', 'Su cara mostraba fatiga.',\n",
              "        'CC-BY 2.0 (France) Attribution: tatoeba.org #317786 (CM) & #1630578 (teskmon)'],\n",
              "       ['Few students knew his name.',\n",
              "        'Pocos estudiantes conocían su nombre.',\n",
              "        'CC-BY 2.0 (France) Attribution: tatoeba.org #287661 (CK) & #1332261 (Shishir)'],\n",
              "       ['Fill out the questionnaire.', 'Rellena el cuestionario.',\n",
              "        'CC-BY 2.0 (France) Attribution: tatoeba.org #4305622 (CK) & #5869213 (albrusgher)']],\n",
              "      dtype='<U278')"
            ]
          },
          "metadata": {
            "tags": []
          },
          "execution_count": 6
        }
      ]
    },
    {
      "cell_type": "markdown",
      "metadata": {
        "id": "zmteZiJzkoHG",
        "colab_type": "text"
      },
      "source": [
        "We will get rid of the punctuation marks, and then convert the text to lower case."
      ]
    },
    {
      "cell_type": "code",
      "metadata": {
        "id": "nBa8MdP0koHH",
        "colab_type": "code",
        "colab": {}
      },
      "source": [
        "# Remove punctuation\n",
        "deu_eng[:,0] = [s.translate(str.maketrans('', '', string.punctuation)) for s in deu_eng[:,0]]\n",
        "deu_eng[:,1] = [s.translate(str.maketrans('', '', string.punctuation)) for s in deu_eng[:,1]]"
      ],
      "execution_count": 0,
      "outputs": []
    },
    {
      "cell_type": "code",
      "metadata": {
        "id": "bBWNDxJXkoHJ",
        "colab_type": "code",
        "outputId": "2fc5df53-1439-4aa1-a0be-5b93ea6e1fdc",
        "colab": {
          "base_uri": "https://localhost:8080/",
          "height": 269
        }
      },
      "source": [
        "deu_eng"
      ],
      "execution_count": 8,
      "outputs": [
        {
          "output_type": "execute_result",
          "data": {
            "text/plain": [
              "array([['Go', 'Ve',\n",
              "        'CC-BY 2.0 (France) Attribution: tatoeba.org #2877272 (CM) & #4986655 (cueyayotl)'],\n",
              "       ['Go', 'Vete',\n",
              "        'CC-BY 2.0 (France) Attribution: tatoeba.org #2877272 (CM) & #4986656 (cueyayotl)'],\n",
              "       ['Go', 'Vaya',\n",
              "        'CC-BY 2.0 (France) Attribution: tatoeba.org #2877272 (CM) & #4986657 (cueyayotl)'],\n",
              "       ...,\n",
              "       ['Fatigue showed on her face', 'Su cara mostraba fatiga',\n",
              "        'CC-BY 2.0 (France) Attribution: tatoeba.org #317786 (CM) & #1630578 (teskmon)'],\n",
              "       ['Few students knew his name',\n",
              "        'Pocos estudiantes conocían su nombre',\n",
              "        'CC-BY 2.0 (France) Attribution: tatoeba.org #287661 (CK) & #1332261 (Shishir)'],\n",
              "       ['Fill out the questionnaire', 'Rellena el cuestionario',\n",
              "        'CC-BY 2.0 (France) Attribution: tatoeba.org #4305622 (CK) & #5869213 (albrusgher)']],\n",
              "      dtype='<U278')"
            ]
          },
          "metadata": {
            "tags": []
          },
          "execution_count": 8
        }
      ]
    },
    {
      "cell_type": "code",
      "metadata": {
        "scrolled": true,
        "id": "T_NcqYNAkoHL",
        "colab_type": "code",
        "colab": {}
      },
      "source": [
        "# convert to lowercase\n",
        "for i in range(len(deu_eng)):\n",
        "    deu_eng[i,0] = deu_eng[i,0].lower()\n",
        "    \n",
        "    deu_eng[i,1] = deu_eng[i,1].lower()"
      ],
      "execution_count": 0,
      "outputs": []
    },
    {
      "cell_type": "code",
      "metadata": {
        "id": "LJoqWTzykoHN",
        "colab_type": "code",
        "outputId": "35ac33f0-25a1-41a9-b4ff-90187faa9385",
        "colab": {
          "base_uri": "https://localhost:8080/",
          "height": 269
        }
      },
      "source": [
        "deu_eng"
      ],
      "execution_count": 0,
      "outputs": [
        {
          "output_type": "execute_result",
          "data": {
            "text/plain": [
              "array([['go', 've',\n",
              "        'CC-BY 2.0 (France) Attribution: tatoeba.org #2877272 (CM) & #4986655 (cueyayotl)'],\n",
              "       ['go', 'vete',\n",
              "        'CC-BY 2.0 (France) Attribution: tatoeba.org #2877272 (CM) & #4986656 (cueyayotl)'],\n",
              "       ['go', 'vaya',\n",
              "        'CC-BY 2.0 (France) Attribution: tatoeba.org #2877272 (CM) & #4986657 (cueyayotl)'],\n",
              "       ...,\n",
              "       ['fatigue showed on her face', 'su cara mostraba fatiga',\n",
              "        'CC-BY 2.0 (France) Attribution: tatoeba.org #317786 (CM) & #1630578 (teskmon)'],\n",
              "       ['few students knew his name',\n",
              "        'pocos estudiantes conocían su nombre',\n",
              "        'CC-BY 2.0 (France) Attribution: tatoeba.org #287661 (CK) & #1332261 (Shishir)'],\n",
              "       ['fill out the questionnaire', 'rellena el cuestionario',\n",
              "        'CC-BY 2.0 (France) Attribution: tatoeba.org #4305622 (CK) & #5869213 (albrusgher)']],\n",
              "      dtype='<U278')"
            ]
          },
          "metadata": {
            "tags": []
          },
          "execution_count": 11
        }
      ]
    },
    {
      "cell_type": "markdown",
      "metadata": {
        "id": "drq7unjMkoHP",
        "colab_type": "text"
      },
      "source": [
        "#### Text to Sequence Conversion\n",
        "\n",
        "To feed our data in a Seq2Seq model, we will have to convert both the input and the output sentences into integer sequences of fixed length. Before that, let's visualise the length of the sentences. We will capture the lengths of all the sentences in two separate lists for English and German, respectively."
      ]
    },
    {
      "cell_type": "code",
      "metadata": {
        "id": "RnNGK64hkoHQ",
        "colab_type": "code",
        "colab": {}
      },
      "source": [
        "# empty lists\n",
        "eng_l = []\n",
        "deu_l = []\n",
        "\n",
        "# populate the lists with sentence lengths\n",
        "for i in deu_eng[:,0]:\n",
        "    eng_l.append(len(i.split()))\n",
        "\n",
        "for i in deu_eng[:,1]:\n",
        "    deu_l.append(len(i.split()))"
      ],
      "execution_count": 0,
      "outputs": []
    },
    {
      "cell_type": "code",
      "metadata": {
        "id": "4bSCrMcK6B4T",
        "colab_type": "code",
        "colab": {}
      },
      "source": [
        "#Escojo las palabras que tengan menos de 4 de longitud\n",
        "spa = []\n",
        "engnew= []\n",
        "\n",
        "for position, sentence in enumerate(deu_eng[:,0]):\n",
        "  if(len(sentence.split()) <=6 and len(engnew) < 48099):\n",
        "    engnew.append(sentence)\n",
        "   \n",
        "\n",
        "for position, sentence in enumerate(deu_eng[:,1]):\n",
        "  if(len(sentence.split()) <= 6 ):\n",
        "    spa.append(sentence)"
      ],
      "execution_count": 0,
      "outputs": []
    },
    {
      "cell_type": "code",
      "metadata": {
        "id": "hKFC7Ikq6CEv",
        "colab_type": "code",
        "colab": {}
      },
      "source": [
        "\n",
        "# empty lists\n",
        "english_len = []\n",
        "spanish_len = []\n",
        "\n",
        "# populate the lists with sentence lengths\n",
        "for i in engnew:\n",
        "    english_len.append(len(i.split()))\n",
        "\n",
        "for i in spa:\n",
        "    spanish_len.append(len(i.split()))"
      ],
      "execution_count": 0,
      "outputs": []
    },
    {
      "cell_type": "code",
      "metadata": {
        "id": "MpA_Yj-i6CHc",
        "colab_type": "code",
        "outputId": "651e3b37-1cce-4b3f-efdc-afc4f6f2ce1c",
        "colab": {
          "base_uri": "https://localhost:8080/",
          "height": 50
        }
      },
      "source": [
        "\n",
        "print(len(english_len))\n",
        "print(len(spanish_len))"
      ],
      "execution_count": 64,
      "outputs": [
        {
          "output_type": "stream",
          "text": [
            "48099\n",
            "48099\n"
          ],
          "name": "stdout"
        }
      ]
    },
    {
      "cell_type": "code",
      "metadata": {
        "id": "PI7KP6oO6CWK",
        "colab_type": "code",
        "colab": {}
      },
      "source": [
        ""
      ],
      "execution_count": 0,
      "outputs": []
    },
    {
      "cell_type": "code",
      "metadata": {
        "id": "PdsolBf4koHR",
        "colab_type": "code",
        "outputId": "8a07b54c-6cda-4802-9897-e9994b22e8ba",
        "colab": {
          "base_uri": "https://localhost:8080/",
          "height": 554
        }
      },
      "source": [
        "length_df = pd.DataFrame({'eng':eng_l, 'deu':deu_l})\n",
        "print(length_df)\n",
        "print(max(length_df.eng))\n",
        "print(max(length_df.deu))\n",
        "#mio\n",
        "length_df_new = pd.DataFrame({'spa':spanish_len, 'engnew':english_len})\n",
        "print(length_df_new)\n",
        "print(max(length_df_new.spa))\n",
        "print(max(length_df_new.engnew))"
      ],
      "execution_count": 12,
      "outputs": [
        {
          "output_type": "stream",
          "text": [
            "       eng  deu\n",
            "0        1    1\n",
            "1        1    1\n",
            "2        1    1\n",
            "3        1    1\n",
            "4        1    1\n",
            "...    ...  ...\n",
            "49995    4    4\n",
            "49996    6    6\n",
            "49997    5    4\n",
            "49998    5    5\n",
            "49999    4    3\n",
            "\n",
            "[50000 rows x 2 columns]\n",
            "8\n",
            "12\n",
            "       spa  engnew\n",
            "0        1       1\n",
            "1        1       1\n",
            "2        1       1\n",
            "3        1       1\n",
            "4        1       1\n",
            "...    ...     ...\n",
            "48094    4       4\n",
            "48095    6       5\n",
            "48096    4       6\n",
            "48097    5       6\n",
            "48098    3       6\n",
            "\n",
            "[48099 rows x 2 columns]\n",
            "6\n",
            "6\n"
          ],
          "name": "stdout"
        }
      ]
    },
    {
      "cell_type": "code",
      "metadata": {
        "id": "7CD6z4rH6a1i",
        "colab_type": "code",
        "outputId": "3a8ad915-1eda-4dfb-fd56-e4c138f2da9d",
        "colab": {
          "base_uri": "https://localhost:8080/",
          "height": 281
        }
      },
      "source": [
        "#comprobamos que tiene longitud 6\n",
        "length_df_new.hist(bins = 30)\n",
        "plt.show()"
      ],
      "execution_count": 66,
      "outputs": [
        {
          "output_type": "display_data",
          "data": {
            "image/png": "[encoded data removed]",
            "text/plain": [
              "<Figure size 432x288 with 2 Axes>"
            ]
          },
          "metadata": {
            "tags": [],
            "needs_background": "light"
          }
        }
      ]
    },
    {
      "cell_type": "code",
      "metadata": {
        "id": "2xktsES_koHT",
        "colab_type": "code",
        "outputId": "7d9d7b9a-7f27-40b4-e854-dbaf190e3499",
        "colab": {
          "base_uri": "https://localhost:8080/",
          "height": 281
        }
      },
      "source": [
        "length_df.hist(bins = 30)\n",
        "plt.show()"
      ],
      "execution_count": 67,
      "outputs": [
        {
          "output_type": "display_data",
          "data": {
            "image/png": "[encoded data removed]",
            "text/plain": [
              "<Figure size 432x288 with 2 Axes>"
            ]
          },
          "metadata": {
            "tags": [],
            "needs_background": "light"
          }
        }
      ]
    },
    {
      "cell_type": "markdown",
      "metadata": {
        "id": "TK6SAu1zkoHV",
        "colab_type": "text"
      },
      "source": [
        "The maximum length of the German sentences is 11 and that of the English phrases is 8."
      ]
    },
    {
      "cell_type": "markdown",
      "metadata": {
        "id": "82yNR7WgkoHV",
        "colab_type": "text"
      },
      "source": [
        "Let's vectorize our text data by using Keras's Tokenizer() class. It will turn our sentences into sequences of integers. Then we will pad those sequences with zeros to make all the sequences of same length."
      ]
    },
    {
      "cell_type": "code",
      "metadata": {
        "id": "ByCRonf7koHW",
        "colab_type": "code",
        "colab": {}
      },
      "source": [
        "# function to build a tokenizer\n",
        "def tokenization(lines):\n",
        "    tokenizer = Tokenizer()\n",
        "    tokenizer.fit_on_texts(lines)\n",
        "    return tokenizer"
      ],
      "execution_count": 0,
      "outputs": []
    },
    {
      "cell_type": "code",
      "metadata": {
        "id": "GmYeiWI-koHX",
        "colab_type": "code",
        "outputId": "bd1394e3-fe4b-440c-b187-345a6694620d",
        "colab": {
          "base_uri": "https://localhost:8080/",
          "height": 34
        }
      },
      "source": [
        "# prepare english tokenizer\n",
        "engnew_tokenizer = tokenization(engnew)\n",
        "engnew_vocab_size = len(engnew_tokenizer.word_index) + 1\n",
        "\n",
        "engnew_length = 6\n",
        "print('English Vocabulary Size: %d' % engnew_vocab_size)"
      ],
      "execution_count": 14,
      "outputs": [
        {
          "output_type": "stream",
          "text": [
            "English Vocabulary Size: 6793\n"
          ],
          "name": "stdout"
        }
      ]
    },
    {
      "cell_type": "code",
      "metadata": {
        "id": "kvVJmdoGkoHZ",
        "colab_type": "code",
        "outputId": "eb469466-1d2a-4d33-e0fd-b0ef23325f74",
        "colab": {
          "base_uri": "https://localhost:8080/",
          "height": 34
        }
      },
      "source": [
        "# prepare Deutch tokenizer\n",
        "spa_tokenizer = tokenization(spa)\n",
        "spa_vocab_size = len(spa_tokenizer.word_index) + 1\n",
        "\n",
        "spa_length = 6\n",
        "print('Spanish Vocabulary Size: %d' % spa_vocab_size)"
      ],
      "execution_count": 15,
      "outputs": [
        {
          "output_type": "stream",
          "text": [
            "Spanish Vocabulary Size: 13923\n"
          ],
          "name": "stdout"
        }
      ]
    },
    {
      "cell_type": "code",
      "metadata": {
        "id": "3NzhcXcBkoHb",
        "colab_type": "code",
        "outputId": "377ee16c-bf9d-4d99-ccfb-3d8170492d15",
        "colab": {
          "base_uri": "https://localhost:8080/",
          "height": 54
        }
      },
      "source": [
        "print(spa_tokenizer.word_counts)"
      ],
      "execution_count": 16,
      "outputs": [
        {
          "output_type": "stream",
          "text": [
            "OrderedDict([('ve', 112), ('vete', 30), ('vaya', 31), ('váyase', 7), ('hola', 12), ('¡corre', 1), ('¡corran', 1), ('¡corra', 1), ('¡corred', 1), ('corred', 1), ('¿quién', 370), ('¡órale', 10), ('¡fuego', 4), ('¡incendio', 1), ('¡disparad', 3), ('¡ayuda', 2), ('¡socorro', 1), ('¡auxilio', 2), ('¡salta', 1), ('salte', 2), ('¡parad', 1), ('¡para', 4), ('¡pare', 1), ('¡espera', 4), ('esperen', 10), ('continúa', 14), ('continúe', 6), ('me', 2866), ('oculté', 1), ('escondí', 3), ('ocultaba', 1), ('escondía', 1), ('corrí', 10), ('corría', 4), ('lo', 1928), ('intento', 8), ('¡he', 2), ('ganado', 16), ('¡oh', 3), ('no', 5539), ('tomátelo', 2), ('con', 769), ('soda', 3), ('¡disparen', 1), ('¡dispara', 1), ('¡dispará', 1), ('¡dispare', 1), ('sonríe', 5), ('¡al', 2), ('ataque', 5), ('¡atacad', 1), ('¡ataque', 1), ('¡ataquen', 1), ('¡ataca', 1), ('levanta', 22), ('ahora', 487), ('mismo', 125), ('id', 7), ('vayan', 10), ('ya', 325), ('¡lo', 10), ('tengo', 848), ('¿lo', 63), ('pillas', 1), ('¿entendiste', 2), ('él', 2191), ('corrió', 21), ('métete', 3), ('adentro', 27), ('abrázame', 1), ('preocupo', 6), ('caí', 5), ('huí', 2), ('escapé', 1), ('huía', 1), ('escapaba', 1), ('yo', 1093), ('sé', 413), ('salí', 11), ('mentí', 7), ('perdí', 63), ('dimito', 2), ('renuncié', 7), ('dejo', 15), ('canté', 3), ('lloré', 5), ('lloraba', 2), ('estoy', 1159), ('trabajando', 32), ('diecinueve', 2), ('levantado', 10), ('escucha', 28), ('escuche', 6), ('escuchen', 3), ('¡no', 87), ('puede', 411), ('ser', 305), ('de', 3317), ('ninguna', 37), ('manera', 36), ('¡de', 5), ('¡imposible', 1), ('ningún', 49), ('modo', 7), ('eso', 1087), ('nada', 355), ('¡ni', 2), ('cagando', 3), ('¡mangos', 1), ('¡minga', 1), ('en', 1797), ('pedo', 2), ('¿en', 51), ('serio', 42), ('¿la', 17), ('verdad', 199), ('¡gracias', 3), ('gracias', 101), ('pruébalo', 2), ('procuramos', 1), ('ganamos', 8), ('¿por', 470), ('qué', 775), ('pregúntale', 17), ('a', 4141), ('tom', 6270), ('mantente', 22), ('calma', 16), ('estate', 10), ('tranquilo', 13), ('justo', 48), ('bueno', 134), ('buena', 139), ('sed', 27), ('buenas', 28), ('buenos', 27), ('sea', 66), ('sean', 8), ('gentiles', 1), ('agradable', 31), ('pírate', 1), ('llamame', 2), ('llamadme', 1), ('llámame', 18), ('llámanos', 1), ('entre', 20), ('pase', 5), ('¡entren', 1), ('ándale', 1), ('suéltalo', 2), ('agarra', 6), ('bájate', 2), ('sal', 42), ('salid', 6), ('salgan', 3), ('¡vete', 12), ('aquí', 875), ('¡lárgate', 4), ('¡salga', 2), ('¡largo', 4), ('¡a', 4), ('la', 3225), ('calle', 21), ('lárguese', 1), ('casa', 498), ('despacio', 33), ('¡hasta', 6), ('luego', 25), ('hasta', 87), ('vista', 27), ('¡chau', 1), ('un', 3133), ('momento', 70), ('¡un', 1), ('segundo', 30), ('fuertemente', 5), ('vino', 129), ('renunció', 11), ('ayúdame', 18), ('échame', 1), ('una', 1695), ('mano', 78), ('ayudame', 2), ('ayúdanos', 3), ('¡hola', 9), ('golpea', 2), ('espera', 63), ('sostenlo', 2), ('sostenedlo', 1), ('sosténgalo', 1), ('sosténganlo', 1), ('sosténganla', 1), ('sosténgala', 1), ('sostenla', 1), ('sostenedla', 1), ('resista', 1), ('resiste', 2), ('abraza', 2), ('acuerdo', 95), ('incliné', 2), ('disparé', 5), ('congelé', 1), ('helé', 1), ('quedé', 27), ('quieto', 16), ('he', 419), ('mudado', 1), ('mudé', 3), ('trasladé', 1), ('trasladado', 1), ('dormí', 19), ('intenté', 16), ('iré', 31), ('soy', 580), ('gordo', 27), ('gorda', 11), ('forma', 15), ('afectado', 1), ('viejo', 58), ('tímido', 21), ('mojada', 4), ('está', 2193), ('bien', 493), ('únete', 1), ('nosotros', 176), ('parte', 40), ('nuestra', 49), ('guárdalo', 1), ('pasa', 63), ('desapercibido', 1), ('también', 129), ('abre', 24), ('¡perfecto', 1), ('empújala', 1), ('empújalo', 1), ('empújadlo', 1), ('empújadla', 1), ('empújelo', 1), ('empújela', 1), ('empújenlo', 1), ('empújenla', 1), ('nos', 410), ('vemos', 18), ('muéstramelo', 1), ('enséñamelo', 2), ('mostrame', 4), ('¡cierra', 4), ('boca', 41), ('¡cerrá', 1), ('el', 3037), ('pico', 3), ('sáltatelo', 1), ('páralo', 2), ('detenlo', 1), ('cógelo', 3), ('decime', 5), ('cuéntame', 13), ('comió', 46), ('ganó', 34), ('espérame', 2), ('despierto', 32), ('¡despierta', 2), ('¡despiértate', 1), ('¡despertate', 1), ('despierta', 9), ('lávate', 9), ('las', 784), ('manos', 57), ('preocupamos', 1), ('sabemos', 22), ('perdimos', 11), ('bienvenidos', 3), ('bienvenidas', 2), ('ha', 406), ('corre', 18), ('has', 146), ('¿estoy', 18), ('preguntales', 1), ('pregúntales', 1), ('aparta', 1), ('apártate', 2), ('hombre', 152), ('fuerte', 66), ('breve', 16), ('breves', 2), ('te', 1249), ('muevas', 10), ('¡llamalo', 2), ('tomás', 512), ('¡llámalo', 2), ('¡llámenlo', 2), ('anímate', 1), ('venga', 40), ('¡cálmate', 1), ('espósale', 1), ('vayas', 27), ('encontralo', 1), ('encuéntralo', 1), ('encuéntrelo', 1), ('encuéntrenlo', 1), ('encuentre', 4), ('encuentren', 2), ('arregla', 2), ('esto', 888), ('ponte', 22), ('ello', 43), ('abajo', 30), ('túmbate', 2), ('¡piérdete', 1), ('esfúmate', 1), ('¡piénsalo', 1), ('los', 964), ('ojos', 72), ('adelante', 24), ('entra', 19), ('entren', 3), ('entrá', 2), ('entrad', 1), ('¿subes', 1), ('¡buen', 7), ('trabajo', 314), ('sujeta', 4), ('agárralo', 1), ('diviértanse', 2), ('pásala', 4), ('pásenla', 4), ('habló', 30), ('intenta', 24), ('prueba', 21), ('ayuda', 175), ('¿qué', 820), ('hay', 252), ('ey', 2), ('chavales', 2), ('troncos', 1), ('tal', 71), ('os', 98), ('va', 212), ('por', 1259), ('¡qué', 181), ('encanto', 1), ('tan', 381), ('profundo', 13), ('¿cómo', 314), ('hazme', 3), ('favor', 601), ('compláceme', 1), ('¡date', 1), ('prisa', 25), ('apresúrate', 3), ('apúrese', 1), ('convine', 1), ('acepté', 3), ('accedí', 2), ('comí', 27), ('puedo', 546), ('ir', 393), ('maldije', 1), ('despotriqué', 1), ('hice', 145), ('fracasé', 2), ('olvidé', 32), ('arreglo', 2), ('entiendo', 48), ('salté', 2), ('llamé', 17), ('teléfono', 84), ('niego', 7), ('renuncio', 2), ('senté', 11), ('vi', 141), ('suspiré', 1), ('sonreí', 2), ('hablé', 10), ('hablaba', 6), ('charlé', 1), ('charlaba', 1), ('uso', 12), ('esperé', 8), ('pagaré', 14), ('vuelto', 29), ('vuelta', 45), ('calvo', 17), ('calmado', 2), ('terminado', 35), ('acabado', 12), ('bastante', 112), ('facilón', 1), ('perfectamente', 14), ('¡soy', 3), ('libre', 63), ('lleno', 25), ('llena', 17), ('llené', 1), ('herido', 31), ('llego', 9), ('tarde', 189), ('vago', 13), ('perdida', 4), ('malo', 55), ('toca', 28), ('mí', 251), ('pobre', 18), ('rica', 15), ('rico', 54), ('salvo', 16), ('enferma', 26), ('delgado', 9), ('limpio', 13), ('calentito', 1), ('débil', 16), ('listo', 97), ('gané', 11), ('duele', 67), ('funciona', 48), ('es', 5044), ('divertido', 54), ('suyo', 31), ('nuevo', 188), ('extraño', 52), ('rojo', 32), ('triste', 58), ('prohibido', 5), ('pasar', 28), ('entrar', 62), ('besá', 1), ('besa', 2), ('besen', 1), ('déjalo', 19), ('déjame', 87), ('déjanos', 8), ('vámonos', 8), ('vamos', 118), ('cuidado', 41), ('cásate', 1), ('conmigo', 148), ('¿puedo', 260), ('salva', 1), ('ella', 1280), ('murió', 83), ('¡sentate', 1), ('siéntate', 17), ('sentate', 9), ('¡hable', 1), ('más', 583), ('habla', 99), ('¡habla', 2), ('alto', 78), ('prepárate', 4), ('¡parate', 1), ('pie', 27), ('detén', 7), ('llévate', 4), ('díselo', 3), ('¡genial', 1), ('ellos', 506), ('ganaron', 5), ('muerto', 62), ('se', 1878), ('cayó', 40), ('sabía', 114), ('tenía', 141), ('constancia', 1), ('fue', 536), ('mintió', 23), ('miente', 9), ('perdió', 60), ('pagó', 18), ('nadó', 3), ('lloró', 24), ('demasiado', 273), ('confía', 11), ('inténtalo', 11), ('veras', 8), ('poco', 255), ('pruebe', 2), ('prueben', 3), ('probá', 4), ('usa', 18), ('avísale', 1), ('avísele', 1), ('avísenle', 1), ('avisale', 1), ('mírame', 3), ('vigílame', 1), ('obsérvame', 1), ('obsérvalos', 1), ('obsérvanos', 2), ('estamos', 299), ('intentamos', 3), ('iremos', 15), ('¿para', 46), ('calló', 1), ('ido', 52), ('dejado', 15), ('escríbeme', 5), ('perdiste', 6), ('perdido', 74), ('perdisteis', 1), ('habéis', 28), ('usted', 268), ('perdieron', 9), ('ustedes', 122), ('han', 73), ('después', 45), ('ti', 203), ('tú', 287), ('primero', 44), ('vosotras', 17), ('apunta', 3), ('respóndeme', 3), ('respondedme', 1), ('respóndanme', 1), ('pájaros', 18), ('vuelan', 3), ('jesús', 3), ('¡llama', 5), ('cálmate', 6), ('tranquilízate', 1), ('paz', 13), ('bajá', 2), ('cambio', 11), ('¿podemos', 52), ('irnos', 20), ('marcharnos', 2), ('¡atrápelo', 1), ('captúralo', 1), ('captúrenlo', 1), ('atrápenlo', 1), ('atrápalo', 1), ('vuelve', 41), ('vení', 5), ('ven', 97), ('venid', 19), ('vente', 6), ('veníos', 3), ('pronto', 106), ('¿yo', 10), ('¿gané', 1), ('hazlo', 39), ('perros', 57), ('ladran', 1), ('preguntes', 6), ('llores', 10), ('llorés', 3), ('lloren', 1), ('lloréis', 1), ('llore', 1), ('mueras', 9), ('mintáis', 1), ('corras', 2), ('¡fantástico', 1), ('¡es', 9), ('estupendo', 19), ('tienta', 1), ('tiente', 1), ('tienten', 1), ('tentad', 1), ('tentá', 1), ('sígueme', 2), ('seguidme', 1), ('síguenos', 2), ('olvídame', 1), ('olvídate', 4), ('olvídenme', 1), ('olvídense', 1), ('preparaos', 1), ('cogerlo', 4), ('cama', 73), ('coge', 23), ('alguno', 11), ('toma', 48), ('algo', 328), ('tome', 17), ('anciano', 5), ('afeitó', 4), ('sonrió', 23), ('dj', 3), ('veloz', 9), ('acá', 59), ('sostén', 3), ('horror', 1), ('raro', 30), ('divierte', 2), ('ruego', 6), ('suplico', 2), ('eructé', 1), ('volar', 17), ('correr', 35), ('esquiar', 16), ('sentí', 36), ('vergüenza', 10), ('exhalé', 1), ('consciencia', 3), ('inconsciente', 9), ('dejé', 27), ('rendí', 2), ('tiré', 1), ('toalla', 16), ('cedí', 3), ('pillo', 4), ('dieron', 10), ('alcanzaron', 2), ('odio', 106), ('seca', 13), ('baja', 18), ('golpeo', 1), ('espero', 88), ('arrodillé', 1), ('arrodillaba', 1), ('reí', 4), ('gusta', 659), ('adoro', 19), ('encanta', 108), ('hablo', 42), ('digo', 19), ('echo', 12), ('falta', 41), ('menos', 75), ('añoro', 2), ('necesito', 327), ('le', 874), ('uno', 85), ('veía', 20), ('visto', 106), ('veo', 83), ('tropecé', 2), ('cocinaré', 2), ('guisaré', 1), ('viviré', 2), ('cantaré', 1), ('pararé', 1), ('dejaré', 15), ('esperaré', 11), ('aguardaré', 1), ('caminaré', 1), ('andaré', 1), ('voy', 298), ('trabajar', 72), ('pro', 1), ('solo', 353), ('sola', 62), ('enojado', 36), ('enojada', 9), ('ciega', 7), ('sin', 94), ('dinero', 247), ('quebrado', 4), ('blanca', 12), ('loco', 68), ('borracho', 46), ('tomada', 1), ('prendida', 2), ('muriendo', 15), ('feliz', 189), ('amado', 3), ('amada', 2), ('obeso', 2), ('¡estoy', 7), ('siento', 151), ('cansado', 87), ('cansada', 27), ('tuyo', 37), ('tuya', 24), ('ólvidalo', 1), ('hagas', 44), ('caso', 26), ('¿está', 116), ('¿es', 184), ('grave', 13), ('lejos', 55), ('¿eres', 67), ('quemó', 9), ('consiguió', 15), ('falló', 4), ('fracasó', 6), ('diluviaba', 1), ('llovió', 15), ('nevó', 8), ('apesta', 6), ('funcionó', 11), ('son', 581), ('830', 2), ('televisor', 14), ('hace', 200), ('frío', 77), ('fresco', 13), ('oscuro', 18), ('¡está', 3), ('perfecto', 37), ('mío', 77), ('mía', 52), ('buen', 202), ('tiempo', 254), ('vale', 43), ('nuestro', 103), ('terminó', 32), ('acabó', 32), ('llegado', 22), ('hora', 124), ('mi', 1383), ('guárdalos', 1), ('quédatelos', 1), ('guárdenselos', 1), ('guarda', 9), ('guarde', 1), ('guardá', 1), ('guardad', 1), ('guarden', 3), ('caliente', 29), ('manténgase', 7), ('mantenete', 3), ('abrigado', 3), ('manténganse', 3), ('calientes', 2), ('abrigados', 1), ('dejalo', 2), ('déjelo', 5), ('márchate', 2), ('lárgate', 2), ('¡déjame', 8), ('marchar', 4), ('¡suéltame', 2), ('¡déjeme', 2), ('déjeme', 6), ('comamos', 11), ('veamos', 10), ('¡intentémoslo', 1), ('silencio', 24), ('suelo', 18), ('escuchá', 6), ('mirá', 14), ('para', 497), ('otro', 59), ('lado', 46), ('mira', 61), ('mire', 10), ('miren', 7), ('¡mira', 3), ('hacia', 54), ('atrás', 31), ('mirad', 7), ('aflójalo', 1), ('suéltala', 1), ('aflójala', 1), ('hazte', 5), ('deja', 100), ('sitio', 24), ('mueve', 7), ('culo', 1), ('tiro', 4), ('¡por', 6), ('supuesto', 8), ('discreción', 1), ('¿perdona', 1), ('póntelo', 1), ('póngaselo', 1), ('ponéoslo', 1), ('pónganselo', 1), ('lee', 20), ('lea', 4), ('lean', 3), ('leed', 2), ('decí', 6), ('que', 2767), ('registren', 1), ('véase', 2), ('arriba', 21), ('¡cogedlo', 1), ('¡arrestadlo', 1), ('¡prendedlo', 1), ('¡capturadlo', 1), ('intentó', 27), ('probó', 4), ('anda', 16), ('camina', 13), ('candente', 1), ('como', 301), ('tren', 77), ('pan', 33), ('y', 246), ('moja', 1), ('cruje', 1), ('firme', 9), ('firma', 9), ('firmen', 2), ('firmá', 1), ('firmad', 2), ('quédate', 31), ('ahí', 197), ('fuera', 79), ('aléjate', 6), ('mantén', 13), ('mantené', 4), ('quedate', 5), ('da', 42), ('paso', 11), ('párate', 6), ('detente', 4), ('deténgase', 1), ('deténganse', 1), ('paraos', 1), ('parad', 1), ('detenlos', 1), ('párales', 1), ('¡cuidate', 1), ('¡te', 6), ('cuidas', 1), ('cuídate', 2), ('cuidaos', 2), ('asume', 1), ('mando', 18), ('control', 10), ('encárgate', 2), ('tomen', 4), ('tomá', 5), ('ese', 273), ('¿entonces', 8), ('cayeron', 5), ('fueron', 32), ('marcharon', 2), ('iban', 6), ('inclinó', 13), ('preocupó', 1), ('preocupaba', 2), ('importaba', 1), ('preocupa', 6), ('importa', 52), ('dormitó', 1), ('condujo', 9), ('dentro', 45), ('teje', 1), ('sabe', 202), ('mudó', 3), ('movió', 6), ('mece', 1), ('quedó', 45), ('juró', 3), ('votó', 5), ('saludó', 3), ('trabaja', 58), ('irá', 9), ('intentadlo', 1), ('otra', 147), ('vez', 214), ('pruébatelo', 2), ('aguarda', 6), ('esperad', 9), ('vigila', 6), ('¡abusado', 1), ('podemos', 89), ('fallamos', 1), ('hemos', 91), ('fallado', 3), ('olvidamos', 1), ('vimos', 24), ('veíamos', 2), ('conversamos', 2), ('esperamos', 9), ('veremos', 4), ('intentaremos', 2), ('¡hemos', 1), ('hecho', 122), ('¿a', 123), ('quién', 201), ('conducía', 2), ('aabe', 1), ('escribe', 25), ('maneja', 6), ('¡pedazo', 1), ('idiota', 38), ('empieza', 31), ('intentaste', 1), ('estás', 410), ('apuntad', 1), ('¡todos', 1), ('bordo', 5), ('¿tengo', 11), ('razón', 100), ('¿me', 161), ('equivoco', 4), ('equivocada', 9), ('¡respóndale', 1), ('¡respondele', 1), ('¡respóndanle', 1), ('¿tienes', 136), ('dieciocho', 4), ('¿has', 60), ('cumplido', 6), ('¿estás', 143), ('¿te', 273), ('apuntas', 1), ('cualquiera', 24), ('preguntadle', 1), ('pregúntele', 1), ('pregúntenle', 1), ('pregunta', 56), ('alrededores', 2), ('¡ten', 3), ('¡sé', 3), ('cuidadoso', 12), ('contento', 32), ('llega', 22), ('llegue', 3), ('paciente', 35), ('cantan', 3), ('están', 433), ('cantando', 25), ('traed', 3), ('comida', 114), ('trae', 15), ('venir', 69), ('acercarme', 1), ('ayudar', 103), ('quedar', 22), ('lleva', 46), ('comprobad', 1), ('comprueba', 3), ('escoge', 3), ('vénganse', 2), ('temprano', 66), ('vengan', 13), ('¡pásale', 1), ('¡pásele', 1), ('¡pásenle', 1), ('¡ven', 3), ('rápido', 121), ('¡vení', 1), ('¡ya', 1), ('párale', 1), ('¿fue', 8), ('¿los', 9), ('hombres', 30), ('lloran', 2), ('vengas', 11), ('saltéis', 1), ('miréis', 2), ('mováis', 1), ('mueva', 1), ('muevan', 1), ('cantes', 3), ('canten', 1), ('pares', 6), ('hables', 21), ('esperes', 4), ('grites', 7), ('chilles', 3), ('chilléis', 1), ('chille', 1), ('chillen', 1), ('come', 42), ('¡comé', 1), ('¡enfréntate', 1), ('hechos', 14), ('¡enfrentaos', 1), ('¡enfréntese', 1), ('¡enfréntense', 1), ('fuego', 30), ('quema', 8), ('seguilo', 1), ('síguelo', 3), ('sígalo', 1), ('síganlo', 1), ('síguele', 1), ('olvidate', 1), ('olvídese', 1), ('olvídenlo', 1), ('perdónanos', 1), ('perdónenos', 1), ('consíguete', 1), ('vida', 117), ('ver', 149), ('andá', 9), ('dios', 32), ('existe', 9), ('ten', 25), ('fe', 10), ('tened', 1), ('tengan', 9), ('confíen', 1), ('salió', 51), ('comer', 148), ('rindió', 5), ('dejó', 86), ('cedió', 6), ('tiró', 4), ('descolgó', 1), ('cogió', 12), ('¡él', 5), ('gentil', 5), ('amable', 36), ('generoso', 3), ('mezquino', 2), ('reía', 1), ('hizo', 240), ('logró', 7), ('arruinado', 4), ('cruel', 16), ('mintiendo', 44), ('inteligente', 50), ('al', 501), ('sur', 7), ('¡helo', 1), ('¡aquí', 3), ('hey', 8), ('aburrimiento', 2), ('bonito', 17), ('¡encantador', 1), ('preciosidad', 2), ('trágico', 1), ('admito', 6), ('persona', 76), ('humano', 4), ('rompí', 8), ('saltar', 8), ('leer', 79), ('cantar', 65), ('nadar', 106), ('solté', 2), ('risita', 4), ('dudo', 15), ('carne', 34), ('envidio', 7), ('mal', 148), ('sentía', 29), ('encontré', 46), ('puse', 14), ('enfermo', 59), ('cogido', 5), ('imagino', 3), ('sí', 83), ('supongo', 30), ('detesto', 26), ('oigo', 8), ('ayudo', 3), ('conocí', 18), ('conozco', 99), ('les', 94), ('agrada', 18), ('arte', 11), ('té', 57), ('agradas', 3), ('gustó', 33), ('permanecí', 1), ('amo', 53), ('enamorada', 10), ('quiero', 662), ('encantó', 6), ('hielo', 23), ('objeté', 1), ('prometí', 3), ('fui', 95), ('corriendo', 30), ('apresuré', 2), ('recuerdo', 35), ('dije', 94), ('decía', 3), ('sentaba', 1), ('grité', 4), ('sobreviví', 2), ('creo', 251), ('vomité', 3), ('dicho', 40), ('utilizo', 1), ('¡quiero', 7), ('último', 15), ('era', 383), ('llegué', 15), ('estaba', 593), ('hago', 34), ('ejercicio', 13), ('escribí', 15), ('compraría', 2), ('estaré', 58), ('haré', 58), ('entraré', 1), ('héroe', 17), ('mentiroso', 19), ('gemelo', 7), ('mejor', 191), ('agotado', 16), ('comprando', 6), ('torpe', 5), ('comiendo', 49), ('codicioso', 1), ('escondido', 8), ('hambre', 74), ('pica', 5), ('bagre', 3), ('inmune', 2), ('moviendo', 1), ('mudaré', 1), ('normal', 31), ('asustado', 20), ('soltero', 18), ('soltera', 7), ('flacucho', 1), ('¡tengo', 2), ('sueño', 72), ('intentando', 24), ('esforzando', 1), ('doce', 6), ('años', 93), ('comido', 19), ('ignora', 3), ('grande', 99), ('¿tom', 86), ('¿tiene', 43), ('calor', 66), ('gratis', 18), ('¿aquí', 3), ('¿esto', 29), ('real', 18), ('inofensivo', 2), ('seguro', 77), ('¿vale', 9), ('¿eso', 30), ('todo', 416), ('¿acaso', 34), ('así', 70), ('este', 578), ('vivo', 63), ('vacío', 10), ('grandioso', 1), ('verde', 20), ('magia', 6), ('cd', 16), ('noche', 144), ('anochecido', 1), ('correcto', 26), ('blanco', 28), ('viento', 18), ('sólo', 100), ('¡continúa', 1), ('¡continúe', 1), ('apuntes', 6), ('tomad', 3), ('notas', 5), ('¡quédate', 3), ('¡guarden', 1), ('quietos', 1), ('abandona', 4), ('ciudad', 59), ('dejar', 65), ('¡déjale', 1), ('irse', 28), ('déjenlo', 2), ('dejadlo', 2), ('salir', 62), ('¡dejadme', 3), ('pague', 3), ('charlemos', 1), ('charlar', 8), ('besémonos', 1), ('juguemos', 10), ('oremos', 1), ('recemos', 2), ('desistamos', 1), ('renunciemos', 1), ('cantemos', 4), ('nademos', 1), ('conversemos', 3), ('votemos', 2), ('caminemos', 2), ('trabajemos', 1), ('levántalo', 1), ('míralo', 4), ('obsérvalo', 1), ('contémplalo', 1), ('míranos', 1), ('búscalo', 2), ('búsquenlo', 1), ('allí', 197), ('amor', 47), ('dura', 12), ('mamá', 29), ('comentarios', 7), ('problema', 124), ('¡sin', 1), ('problemas', 37), ('nadie', 345), ('siéntese', 6), ('sentaos', 4), ('voz', 30), ('reemplazadlo', 1), ('di', 51), ('patata', 2), ('decid', 3), ('güisqui', 2), ('sonría', 1), ('vieja', 16), ('ocupada', 41), ('guapa', 33), ('canta', 21), ('huele', 30), ('olé', 1), ('huelan', 1), ('oled', 1), ('huela', 1), ('¡retrocede', 1), ('alerta', 6), ('consciente', 15), ('duermas', 5), ('cerca', 70), ('alejes', 1), ('vera', 1), ('¡más', 1), ('dejá', 10), ('mentir', 14), ('bolacear', 1), ('estudia', 14), ('harto', 8), ('estudiá', 1), ('bus', 31), ('estos', 72), ('¡háblame', 1), ('¡hablad', 1), ('¡ése', 1), ('chico', 48), ('valdrá', 3), ('sirve', 5), ('ése', 27), ('ésa', 20), ('pertenece', 29), ('mojado', 5), ('engañaron', 3), ('hicieron', 31), ('trampas', 11), ('quedaron', 6), ('mantuvieron', 1), ('intentaron', 4), ('votaron', 4), ('ellas', 72), ('apuntan', 2), ('fin', 31), ('éste', 38), ('basta', 6), ('vuela', 3), ('convino', 1), ('aquiescente', 1), ('estuvo', 72), ('mordió', 12), ('eructó', 1), ('llamó', 36), ('trampa', 32), ('bailó', 4), ('baila', 5), ('bebe', 28), ('conduce', 16), ('reprobó', 4), ('olvidó', 15), ('peleó', 1), ('luchó', 1), ('soltó', 8), ('grito', 10), ('ahogado', 3), ('aliento', 11), ('dio', 93), ('metió', 7), ('pata', 2), ('levantó', 27), ('ayudó', 28), ('golpeó', 17), ('salido', 11), ('saltó', 13), ('miró', 30), ('gimió', 2), ('asintió', 5), ('obedeció', 2), ('detuvo', 8), ('telefoneó', 2), ('rezó', 1), ('rezaba', 1), ('vio', 66), ('rasuró', 1), ('suspiró', 2), ('ronca', 2), ('charló', 2), ('esperó', 8), ('caminó', 6), ('guiño', 3), ('lanzó', 2), ('guiñó', 1), ('ojo', 23), ('trabajó', 14), ('bostezó', 1), ('gritó', 20), ('llorará', 1), ('morirá', 1), ('pagará', 3), ('ocupado', 105), ('sordo', 11), ('marchado', 3), ('disparado', 1), ('feo', 10), ('¡mala', 1), ('suerte', 66), ('mala', 57), ('enciéndelo', 3), ('gira', 6), ('derecha', 9), ('¿era', 8), ('somos', 148), ('compramos', 3), ('cedés', 1), ('pagar', 57), ('intentarlo', 19), ('probarlo', 11), ('probar', 8), ('ganar', 40), ('divertimos', 5), ('pasamos', 8), ('reímos', 4), ('hicimos', 23), ('deberíamos', 50), ('debemos', 31), ('queremos', 65), ('haremos', 8), ('fracasaremos', 1), ('ayudaremos', 4), ('echaremos', 1), ('cantaremos', 1), ('esperaremos', 6), ('nosotras', 26), ('caminar', 38), ('trabajaremos', 3), ('regresado', 3), ('ocupados', 22), ('tenemos', 202), ('terminamos', 4), ('perdidos', 3), ('pobres', 5), ('ricos', 8), ('ricas', 3), ('hartos', 2), ('débiles', 3), ('¡pero', 9), ('día', 155), ('cuentas', 7), ('¿dónde', 364), ('dónde', 151), ('madera', 17), ('arde', 3), ('¿llamaste', 4), ('puedes', 246), ('irte', 27), ('marcharte', 6), ('decides', 3), ('podéis', 35), ('iros', 2), ('pueden', 71), ('marcharos', 1), ('marcharse', 4), ('podés', 24), ('fallaste', 2), ('verás', 5), ('veréis', 1), ('eres', 398), ('¡has', 1), ('¿hay', 52), ('alguien', 147), ('¿alguien', 23), ('¿hemos', 1), ('¿tú', 51), ('¿tenéis', 12), ('enfadado', 33), ('loca', 15), ('nueva', 31), ('creativos', 2), ('discreto', 3), ('discretos', 1), ('clemente', 1), ('¡prepárate', 2), ('preparado', 26), ('estad', 1), ('preparados', 3), ('puntual', 14), ('puntuales', 1), ('razonable', 13), ('razonables', 2), ('específico', 2), ('específica', 1), ('especifica', 1), ('exhaustivo', 1), ('tolerante', 2), ('vigilante', 1), ('atento', 6), ('cerveza', 65), ('comenzar', 9), ('¿puede', 45), ('esperar', 58), ('hablar', 199), ('conversar', 5), ('¿puedes', 146), ('¿podéis', 10), ('compruébalo', 1), ('revísalo', 1), ('sube', 8), ('acercate', 1), ('verme', 26), ('consuela', 1), ('contacto', 15), ('cocíname', 1), ('cocina', 29), ('cuenta', 51), ('cuente', 5), ('¿ha', 24), ('¿ganaste', 4), ('haz', 56), ('¡hacedlo', 1), ('ahorita', 5), ('ratito', 2), ('¿juegas', 5), ('boliche', 3), ('discutáis', 2), ('copiéis', 1), ('hagáis', 6), ('hagan', 9), ('haga', 32), ('peleéis', 1), ('entres', 5), ('rías', 4), ('dispares', 3), ('dispare', 2), ('disparéis', 1), ('sonrías', 1), ('sonrían', 1), ('fumes', 5), ('fuméis', 2), ('preocupes', 14), ('preocupéis', 3), ('preocupen', 2), ('termine', 3), ('termina', 16), ('terminá', 1), ('terminen', 1), ('terminad', 1), ('lanza', 5), ('moneda', 9), ('tira', 4), ('aire', 25), ('vístete', 3), ('vestite', 1), ('¡entra', 1), ('¡ponte', 1), ('encontrar', 42), ('buscar', 8), ('descúbrelo', 2), ('pedir', 19), ('delante', 9), ('recto', 4), ('dormir', 87), ('¡váyanse', 1), ('¡ve', 3), ('asiento', 35), ('vistazo', 10), ('encontró', 22), ('escapó', 8), ('envejeció', 1), ('¡ha', 1), ('venido', 34), ('tiene', 691), ('agallas', 4), ('ocho', 14), ('odiado', 5), ('guarro', 4), ('asqueroso', 8), ('grima', 1), ('joven', 87), ('gusto', 24), ('quiere', 244), ('pajero', 1), ('fingiendo', 3), ('estúpido', 51), ('agua', 102), ('tanque', 5), ('salame', 2), ('écheme', 1), ('vengo', 13), ('curioso', 4), ('cocinero', 13), ('monje', 1), ('encuentro', 16), ('quedando', 13), ('dormido', 38), ('pido', 6), ('disculpas', 12), ('pregunté', 10), ('culpo', 5), ('comprado', 21), ('compré', 71), ('lugar', 56), ('última', 15), ('hacerlo', 152), ('compartir', 6), ('decir', 95), ('confesé', 1), ('lloro', 5), ('mucho', 326), ('conduzco', 7), ('fruta', 16), ('noto', 2), ('enfadé', 1), ('emborraché', 1), ('tuve', 64), ('gatos', 49), ('leche', 71), ('ratas', 7), ('arena', 7), ('odiaba', 6), ('odié', 1), ('trescientos', 1), ('dólares', 23), ('gota', 1), ('traigo', 6), ('noticias', 35), ('escucho', 8), ('oí', 30), ('oído', 35), ('contraté', 2), ('gustan', 145), ('dos', 199), ('encantan', 38), ('jazz', 5), ('arroz', 17), ('rock', 7), ('nieve', 31), ('amaba', 13), ('pescado', 34), ('golf', 18), ('niños', 67), ('chicos', 24), ('matemáticas', 15), ('música', 52), ('sopa', 38), ('quería', 155), ('quise', 16), ('refiero', 4), ('extrañaba', 1), ('debo', 96), ('esconderme', 5), ('efectivo', 8), ('metálico', 2), ('¡necesito', 1), ('necesité', 6), ('nunca', 309), ('gano', 5), ('frecuencia', 17), ('pago', 9), ('impuestos', 7), ('leo', 13), ('labios', 8), ('pararas', 1), ('detuvieras', 1), ('ovni', 7), ('perro', 217), ('vendo', 4), ('autos', 5), ('debería', 124), ('huelo', 10), ('gas', 11), ('agradezco', 7), ('confío', 20), ('voté', 4), ('aburrido', 39), ('mareado', 7), ('mareada', 2), ('despedido', 11), ('despidieron', 6), ('ingenuo', 30), ('desnudo', 10), ('equivocado', 53), ('preguntaré', 8), ('preguntaría', 2), ('presente', 11), ('estar', 237), ('cambiaré', 2), ('probaré', 4), ('17', 1), ('panadero', 1), ('perdedor', 5), ('perdedora', 1), ('mujer', 80), ('desconcertado', 5), ('cocinando', 12), ('curiosidad', 8), ('bailando', 12), ('comprometida', 3), ('emocionado', 15), ('emocionada', 8), ('ayunando', 1), ('quisquilloso', 3), ('fraile', 1), ('saludable', 12), ('cárcel', 9), ('nervioso', 28), ('inquieto', 5), ('jodiendo', 4), ('saliendo', 10), ('casado', 40), ('casada', 14), ('neutral', 2), ('tímida', 9), ('mentalizado', 3), ('leyendo', 41), ('descansando', 2), ('egoísta', 9), ('¡me', 16), ('muero', 8), ('atrapado', 18), ('esperando', 61), ('preocupada', 6), ('ignoralos', 1), ('¿se', 36), ('encuentra', 7), ('acertado', 1), ('cierto', 59), ('dice', 60), ('limpia', 13), ('llevar', 17), ('ventoso', 4), ('vuestro', 38), ('¿ella', 18), ('simpática', 3), ('costó', 8), ('30', 9), ('pasó', 80), ('sucedió', 10), ('invito', 2), ('llueva', 8), ('podría', 122), ('nevar', 15), ('posible', 33), ('salvó', 9), ('chido', 1), ('chilo', 1), ('padre', 131), ('fácil', 86), ('50', 3), ('yenes', 9), ('lunes', 122), ('muñeca', 20), ('pez', 16), ('arpa', 3), ('harpa', 2), ('broma', 36), ('quilombo', 2), ('normativa', 1), ('canción', 50), ('vicio', 2), ('roto', 24), ('estropeado', 2), ('rota', 15), ('fresquito', 1), ('biruji', 1), ('veas', 4), ('nublado', 9), ('inútil', 9), ('secreto', 55), ('simple', 16), ('sigue', 55), ('moviéndote', 1), ('ayudarte', 41), ('házmelo', 2), ('saber', 47), ('vivir', 44), ('¡empecemos', 3), ('comencemos', 7), ('bailemos', 3), ('¡hagámoslo', 1), ('hagámoslo', 9), ('entremos', 3), ('apurémonos', 3), ('vayámonos', 5), ('¡vamos', 4), ('guateque', 1), ('festejemos', 1), ('relajémonos', 2), ('divertida', 11), ('desde', 19), ('busca', 7), ('lista', 51), ('pide', 4), ('deseo', 25), ('¡muchas', 1), ('memórizalo', 1), ('memórizala', 1), ('mundo', 75), ('poderoso', 5), ('caballero', 11), ('don', 4), ('llegas', 8), ('significa', 21), ('ninguno', 22), ('acudió', 1), ('prosigue', 3), ('callate', 2), ('azul', 23), ('quédense', 7), ('quédese', 7), ('bájalo', 2), ('póngase', 5), ('libérale', 1), ('recuérdalo', 1), ('responded', 1), ('sus', 157), ('disparos', 5), ('adiós', 9), ('digas', 27), ('mándalo', 2), ('mándelo', 2), ('mándenlo', 2), ('mandalo', 2), ('¿nos', 16), ('pegó', 15), ('muerta', 9), ('despertó', 11), ('zorra', 1), ('¿debería', 13), ('muéstrame', 13), ('cómo', 73), ('háblame', 2), ('¡dejad', 2), ('haciéndolo', 4), ('llorar', 61), ('¡quieto', 1), ('moverte', 1), ('¡alto', 1), ('¡ladrón', 1), ('saque', 2), ('carta', 55), ('saca', 6), ('echa', 8), ('ojeada', 1), ('descansad', 2), ('repósate', 1), ('actúa', 2), ('coche', 179), ('tontería', 8), ('enorme', 17), ('esa', 238), ('pasado', 57), ('ésos', 13), ('televisión', 74), ('encendida', 7), ('¡allá', 1), ('quemaron', 3), ('llamaron', 7), ('bailaron', 1), ('lograron', 1), ('abrazaron', 3), ('besaron', 4), ('quizá', 27), ('obedecieron', 1), ('vieron', 14), ('veían', 2), ('sonrieron', 7), ('esperaron', 2), ('caminaron', 2), ('pasearon', 1), ('gritaron', 5), ('malos', 5), ('nuevos', 15), ('nuevas', 5), ('viejos', 10), ('mayores', 10), ('ancianos', 4), ('piensa', 23), ('piénsalo', 5), ('ésta', 26), ('suya', 10), ('ésto', 1), ('mierda', 2), ('llegó', 57), ('sonrojó', 3), ('cambió', 20), ('varió', 1), ('vitoreó', 4), ('aplaudió', 5), ('tuvo', 52), ('accidente', 19), ('estrelló', 1), ('decidió', 18), ('ahogó', 5), ('espiró', 1), ('desmayó', 4), ('regodeó', 1), ('gruñó', 2), ('doc', 1), ('inhaló', 1), ('pelón', 1), ('malvado', 4), ('satisfecho', 14), ('perezoso', 5), ('ordenado', 3), ('arrodilló', 2), ('rio', 7), ('adelantado', 11), ('pagaba', 1), ('negó', 15), ('cerró', 15), ('banda', 11), ('relajó', 1), ('relajaba', 1), ('resbaló', 2), ('estornudó', 2), ('enseña', 14), ('mayor', 27), ('ayudará', 11), ('furioso', 9), ('polvo', 8), ('alegre', 6), ('disgustado', 5), ('pruébate', 5), ('apágalo', 2), ('esperame', 1), ('espéranos', 1), ('despertalo', 1), ('lentamente', 16), ('¿estaba', 6), ('¿hacía', 2), ('¿estuvo', 4), ('todos', 449), ('trabajamos', 9), ('comimos', 8), ('huevos', 24), ('separamos', 2), ('dejamos', 4), ('rompimos', 1), ('encontrarnos', 2), ('vernos', 12), ('ayudamos', 6), ('conocemos', 19), ('porqué', 9), ('gustas', 18), ('amamos', 7), ('extrañamos', 4), ('actuar', 8), ('necesitamos', 81), ('prometimos', 1), ('acordamos', 4), ('recordamos', 1), ('sentamos', 6), ('sentábamos', 2), ('sobrevivimos', 1), ('esos', 42), ('estaremos', 10), ('conduciremos', 1), ('luchar', 6), ('compartiremos', 2), ('despiertos', 3), ('aburridos', 5), ('arruinados', 4), ('duro', 55), ('velas', 2), ('limpios', 5), ('felices', 50), ('listos', 29), ('sentimos', 6), ('cansados', 18), ('gemelos', 6), ('jóvenes', 11), ('burro', 2), ('tipo', 47), ('arrastrado', 2), ('pendejo', 1), ('imbécil', 4), ('pérdida', 6), ('desastre', 8), ('mugre', 1), ('confusión', 1), ('dolor', 38), ('lástima', 7), ('pena', 24), ('equipo', 38), ('ego', 2), ('¿quiénes', 19), ('sois', 33), ('sos', 128), ('dibujó', 1), ('pegado', 4), ('siguiente', 7), ('dijo', 151), ('viene', 65), ('cocinar', 36), ('¿de', 146), ('¿vas', 32), ('¿irás', 3), ('¿va', 11), ('escríbelo', 2), ('ponlo', 8), ('escrito', 14), ('hiciste', 59), ('hicisteis', 4), ('desmayaron', 2), ('desmayaste', 1), ('lastimas', 2), ('quédatelo', 1), ('conoces', 26), ('conseguido', 5), ('logrado', 2), ('necesita', 99), ('necesitáis', 7), ('necesitas', 63), ('¡así', 1), ('exactamente', 17), ('regreso', 4), ('langa', 1), ('hermosa', 29), ('estáis', 48), ('retrasado', 4), ('simpático', 9), ('¡estás', 6), ('chiflado', 2), ('¡estáis', 1), ('enfermos', 4), ('¡abandonen', 1), ('nave', 5), ('acorde', 1), ('tu', 737), ('edad', 43), ('invitado', 10), ('¿nada', 1), ('¿estamos', 5), ('¿estáis', 27), ('herida', 6), ('¿os', 35), ('encuentras', 7), ('¿usted', 27), ('segura', 22), ('seguras', 5), ('seguros', 13), ('¿están', 30), ('invita', 4), ('mary', 708), ('confiado', 5), ('confianza', 12), ('seguridad', 14), ('despiadado', 1), ('objetivo', 12), ('objetivos', 5), ('realista', 6), ('paciencia', 20), ('ternera', 1), ('hierve', 3), ('huevo', 11), ('tropas', 1), ('apoyo', 12), ('hazle', 1), ('sombrero', 56), ('llamá', 4), ('fbi', 3), ('intentar', 10), ('¿sabes', 67), ('andar', 25), ('revisa', 4), ('alrededor', 22), ('¡échale', 2), ('¡míralo', 1), ('¡compruébalo', 1), ('cuando', 38), ('quieras', 40), ('alguna', 41), ('enseguida', 18), ('acércate', 4), ('ayudarme', 27), ('echarme', 4), ('regresa', 5), ('baje', 3), ('subid', 2), ('suba', 3), ('suban', 2), ('véngase', 2), ('enfríalo', 1), ('describilo', 1), ('descríbelo', 1), ('descríbalo', 1), ('llamado', 9), ('¿vino', 2), ('¿ayudaste', 2), ('¿ayudasteis', 1), ('¿ustedes', 15), ('ayudaron', 5), ('¿ayudabas', 1), ('¿ayudabais', 1), ('ayudaba', 1), ('ayudaban', 2), ('¿perdiste', 2), ('¿firmaste', 2), ('¿firmaron', 1), ('¿luzco', 2), ('hágalo', 5), ('hacelo', 3), ('saben', 48), ('conocen', 34), ('¿bebes', 6), ('¿bebéis', 2), ('¿bebe', 1), ('fuma', 14), ('¿fumas', 1), ('roncas', 1), ('¿duele', 3), ('nota', 5), ('¿funciona', 3), ('estés', 22), ('seas', 51), ('tengas', 12), ('sueltes', 5), ('divagues', 1), ('tientes', 2), ('conduzca', 2), ('examina', 1), ('examine', 1), ('examiná', 1), ('examinad', 1), ('examinen', 1), ('temas', 3), ('miedo', 101), ('lucha', 3), ('o', 60), ('muere', 4), ('gato', 99), ('libro', 278), ('consigue', 3), ('recoge', 4), ('traiga', 4), ('recoja', 2), ('fantasmas', 11), ('existen', 9), ('dame', 87), ('mitad', 14), ('deme', 16), ('denme', 5), ('dadme', 3), ('devuélvete', 1), ('escuela', 89), ('días', 89), ('pascua', 3), ('¡feliz', 4), ('rosquilla', 3), ('cómete', 4), ('trago', 12), ('tómate', 5), ('botana', 2), ('valiente', 21), ('valientes', 6), ('evita', 3), ('enfadó', 5), ('morros', 1), ('motivado', 3), ('pateó', 7), ('fuéramos', 3), ('humillado', 3), ('prestigio', 1), ('esperará', 2), ('fanático', 1), ('ninja', 1), ('dieta', 16), ('sufriendo', 1), ('celoso', 22), ('lindo', 12), ('ayúdale', 3), ('tienes', 268), ('bolígrafo', 33), ('boli', 5), ('¡oye', 1), ('aguante', 2), ('rollo', 7), ('pesado', 6), ('incordio', 1), ('hincha', 1), ('pelotas', 2), ('arrogante', 16), ('¡cómo', 3), ('atreves', 1), ('horrible', 16), ('romántico', 6), ('colegio', 40), ('admiro', 9), ('chino', 13), ('confuso', 10), ('saberlo', 20), ('rezando', 2), ('disculpé', 3), ('manzanas', 36), ('caviar', 1), ('mordí', 2), ('labio', 5), ('arreglarlo', 11), ('mover', 5), ('parar', 47), ('corto', 16), ('corté', 5), ('cortado', 7), ('pagué', 10), ('chupa', 1), ('desconozco', 3), ('canto', 3), ('tomé', 22), ('bebido', 8), ('vine', 21), ('conduciendo', 7), ('conduje', 3), ('queso', 13), ('viva', 5), ('genial', 23), ('atontado', 2), ('aturdido', 2), ('enmarqué', 1), ('pidieron', 5), ('identificación', 4), ('identificarme', 1), ('documentación', 1), ('atracaron', 1), ('dudas', 16), ('habas', 1), ('moscas', 2), ('mentirosos', 3), ('ópera', 3), ('reglas', 33), ('sushi', 10), ('carro', 41), ('llave', 78), ('pluma', 5), ('ayudé', 6), ('abracé', 2), ('acabo', 52), ('mudarme', 5), ('frijoles', 3), ('dulces', 9), ('ajedrez', 7), ('miel', 7), ('pizza', 14), ('mujeres', 24), ('libros', 90), ('juegos', 8), ('viajes', 5), ('gustaba', 19), ('apuesta', 8), ('éstos', 38), ('engañé', 2), ('eché', 2), ('extrañé', 4), ('taxi', 32), ('auto', 131), ('abrazo', 7), ('siesta', 4), ('pintura', 10), ('espacio', 9), ('necesitaba', 27), ('frecuentemente', 7), ('león', 7), ('estrella', 6), ('pistola', 11), ('hoy', 275), ('nadé', 2), ('simpatizo', 1), ('muchas', 42), ('cosas', 80), ('avisado', 2), ('enmarcado', 2), ('encontraba', 3), ('veces', 36), ('perder', 53), ('perderé', 2), ('pregunto', 28), ('volveré', 28), ('seré', 11), ('comprar', 58), ('arriesgaré', 1), ('demandaré', 2), ('ex', 6), ('médico', 39), ('doctor', 36), ('médica', 5), ('granjero', 3), ('sacerdote', 1), ('cura', 5), ('surfista', 1), ('camarero', 4), ('escritor', 13), ('oídos', 5), ('actor', 6), ('adulta', 1), ('adulto', 10), ('agente', 3), ('anoréxico', 2), ('autista', 2), ('descalzo', 2), ('confusa', 2), ('confundido', 15), ('confundida', 8), ('divorciada', 2), ('dubitativo', 1), ('ahogando', 4), ('formación', 1), ('congelado', 4), ('helado', 28), ('helando', 2), ('agradecida', 1), ('luto', 1), ('vacilante', 1), ('gravemente', 4), ('perth', 1), ('inocente', 15), ('vosotros', 45), ('culto', 1), ('ángel', 8), ('rebelde', 5), ('indignado', 5), ('pintando', 7), ('embarazada', 13), ('embarazado', 1), ('preparada', 7), ('racional', 2), ('aliviado', 5), ('desasosegado', 1), ('intranquilo', 1), ('durmiendo', 23), ('tanto', 55), ('lamento', 30), ('muy', 900), ('todavía', 195), ('terco', 2), ('estudiando', 36), ('pensando', 30), ('meditando', 6), ('trece', 4), ('concienzudo', 1), ('entusiasmado', 4), ('contentísimo', 1), ('cachondo', 1), ('exhausto', 9), ('reventado', 2), ('decisión', 39), ('sólido', 2), ('hierro', 7), ('curado', 1), ('lúcido', 1), ('ciervo', 6), ('lobo', 5), ('alce', 1), ('suficiente', 73), ('falso', 8), ('auténtico', 7), ('empezado', 10), ('empezó', 51), ('comenzó', 10), ('romper', 1), ('rompa', 1), ('negro', 26), ('repugnante', 12), ('mágico', 2), ('quemará', 1), ('será', 71), ('maldición', 3), ('¡eso', 16), ('increíble', 13), ('mañana', 173), ('turno', 24), ('llamas', 15), ('nevando', 15), ('funcionando', 3), ('¡tan', 1), ('nomás', 4), ('seguí', 12), ('cavando', 5), ('mirando', 32), ('siga', 9), ('sigan', 5), ('seguid', 4), ('continuad', 2), ('continúen', 2), ('sonriendo', 12), ('continuá', 1), ('hablando', 64), ('caminando', 17), ('escribiendo', 21), ('quede', 2), ('irme', 53), ('dejame', 7), ('pensar', 20), ('salgamos', 4), ('escuchemos', 2), ('vayamos', 32), ('corta', 16), ('¡fíjate', 1), ('fíjate', 4), ('atentamente', 6), ('detenidamente', 1), ('adivina', 6), ('detenga', 2), ('entró', 21), ('mona', 4), ('maría', 74), ('alta', 26), ('cerdos', 1), ('muévete', 1), ('hacer', 299), ('ruido', 45), ('césped', 9), ('cortad', 1), ('corte', 5), ('corten', 1), ('brazo', 40), ('duelen', 7), ('orejas', 10), ('pies', 12), ('cadera', 1), ('mandíbula', 2), ('pierna', 13), ('preguntó', 18), ('cacho', 2), ('ah', 3), ('oh', 5), ('obtuve', 3), ('abrí', 10), ('caja', 46), ('abra', 11), ('apurate', 2), ('márchese', 1), ('sonreíd', 1), ('señalalo', 1), ('ábrela', 2), ('del', 182), ('ponedlo', 2), ('pónganlo', 2), ('descanso', 18), ('recreo', 1), ('escóndete', 2), ('repítelo', 2), ('terminaron', 5), ('clases', 24), ('veré', 34), ('entonces', 20), ('¡avergüénzate', 1), ('tranquila', 9), ('disparó', 16), ('demandó', 2), ('quedaos', 6), ('concéntrate', 2), ('desconcentres', 1), ('permanece', 1), ('céntrate', 1), ('frente', 6), ('discutas', 1), ('discutir', 7), ('mirar', 12), ('empujar', 1), ('deje', 11), ('fumar', 55), ('mirarme', 3), ('cállate', 9), ('pará', 2), ('quejarte', 9), ('gritar', 17), ('estudiad', 1), ('¡felices', 1), ('sueños', 13), ('¡dulces', 1), ('descansa', 3), ('descanse', 2), ('¡relajate', 1), ('¡relájate', 1), ('llévatelo', 2), ('tomate', 5), ('bondi', 1), ('llévanos', 2), ('dime', 40), ('dígame', 9), ('cuénteme', 2), ('dinos', 3), ('díganos', 2), ('dígannos', 2), ('cuéntanos', 3), ('cuéntenos', 1), ('cuéntennos', 1), ('agradecido', 6), ('nuevamente', 13), ('colmo', 2), ('bastará', 2), ('durará', 3), ('funcionará', 9), ('mentira', 11), ('montón', 36), ('locura', 7), ('ambos', 37), ('sentaron', 4), ('aprueban', 2), ('grandes', 29), ('entraron', 11), ('llegaron', 8), ('entraban', 1), ('vitorearon', 2), ('tuvieron', 14), ('chocaron', 3), ('estrellaron', 1), ('escaparon', 3), ('abandonaron', 5), ('rindieron', 1), ('desistieron', 1), ('tiraron', 1), ('odian', 13), ('ayudan', 3), ('conocían', 4), ('rieron', 15), ('adoran', 4), ('aman', 11), ('necesitan', 23), ('negaron', 2), ('dijeron', 14), ('pararon', 5), ('sudaron', 1), ('quieren', 39), ('llamarán', 2), ('vendrán', 3), ('sabrán', 1), ('esperarán', 1), ('aguardarán', 1), ('muchachos', 6), ('tienen', 103), ('rápidos', 2), ('estupendamente', 5), ('encuentran', 1), ('míos', 27), ('mías', 17), ('simpáticos', 4), ('bonitos', 3), ('feos', 1), ('rompen', 1), ('sencillo', 5), ('oro', 14), ('¡esto', 7), ('respondió', 17), ('aprueba', 2), ('pastel', 16), ('torta', 24), ('aburre', 5), ('canceló', 4), ('enroló', 1), ('sintió', 24), ('encogió', 6), ('dispararon', 4), ('enfermó', 2), ('odia', 30), ('insistió', 2), ('poli', 1), ('veterano', 2), ('veterinario', 3), ('fiel', 2), ('canicas', 1), ('bichi', 1), ('jiruta', 1), ('encuerado', 1), ('encueroles', 1), ('mañoso', 2), ('bajo', 35), ('tonto', 24), ('chispa', 1), ('escuchó', 20), ('ama', 40), ('conoció', 7), ('pánico', 9), ('prometió', 10), ('huyó', 9), ('aplacó', 1), ('apiadó', 2), ('hombros', 6), ('tartamudea', 1), ('balbucea', 1), ('sobrevivió', 5), ('desapareció', 6), ('ruin', 1), ('pálido', 10), ('hablará', 5), ('viniendo', 6), ('llorando', 28), ('grogui', 1), ('bromeando', 38), ('drogado', 2), ('estricto', 3), ('confiá', 1), ('tarta', 24), ('centrarte', 1), ('espere', 20), ('despertalos', 1), ('despiértate', 1), ('¿quieres', 84), ('bebida', 8), ('lava', 5), ('pedimos', 2), ('aplaudimos', 2), ('demandar', 5), ('preparamos', 2), ('estábamos', 42), ('teníamos', 18), ('almorzamos', 5), ('algunos', 33), ('unos', 42), ('cuantos', 4), ('sabíamos', 8), ('conocíamos', 3), ('vivimos', 13), ('hogar', 11), ('queríamos', 3), ('encontramos', 10), ('echar', 3), ('quedamos', 14), ('dormidos', 6), ('dormimos', 4), ('conseguimos', 1), ('logramos', 2), ('rendimos', 4), ('heridos', 3), ('lastimados', 1), ('saldremos', 1), ('adultos', 4), ('asustados', 1), ('mejores', 10), ('cerrados', 5), ('desahuciados', 1), ('escondidos', 2), ('hambrientos', 8), ('perdiendo', 14), ('mudando', 2), ('mudamos', 2), ('mudar', 2), ('cambiamos', 2), ('reventados', 1), ('consegido', 1), ('bienvenido', 15), ('bienvenida', 4), ('festín', 1), ('farsante', 1), ('susto', 3), ('desperdicio', 2), ('idea', 105), ('picó', 6), ('aquello', 13), ('construyó', 7), ('paga', 23), ('envió', 12), ('contó', 8), ('ambas', 13), ('agradeces', 1), ('morir', 36), ('vivirá', 2), ('¿no', 204), ('vas', 70), ('tinta', 6), ('escriba', 9), ('escriban', 2), ('escribid', 3), ('pasaron', 2), ('diviertes', 1), ('¡eres', 10), ('maleducado', 4), ('descansar', 19), ('quedarte', 20), ('primera', 9), ('vos', 52), ('heriste', 1), ('conoce', 41), ('sabés', 4), ('ves', 39), ('acalorado', 2), ('pareces', 76), ('acalorada', 1), ('tenés', 44), ('prometiste', 5), ('prometisteis', 3), ('prometieron', 3), ('asustas', 2), ('das', 11), ('sobreviviste', 3), ('sobrevivisteis', 2), ('sobrevivieron', 5), ('estarás', 11), ('cerdo', 11), ('borracha', 1), ('despedida', 2), ('despedidos', 3), ('despedidas', 3), ('gracioso', 20), ('espabilado', 3), ('listas', 3), ('pequeño', 41), ('pequeños', 5), ('pequeñas', 2), ('inteligentes', 12), ('dulce', 21), ('ingenioso', 3), ('ocurrente', 1), ('intentado', 12), ('atropelló', 3), ('aprobé', 2), ('aprobado', 3), ('soñando', 11), ('incluido', 1), ('¿soy', 4), ('talentoso', 8), ('¿son', 29), ('polis', 1), ('altos', 7), ('altas', 4), ('«poli»', 1), ('pasma', 1), ('ciego', 17), ('aburres', 3), ('aburriendo', 6), ('ebrio', 4), ('embriagado', 1), ('¿sos', 5), ('¿contento', 1), ('molesto', 15), ('experto', 8), ('pórtate', 2), ('respetuoso', 3), ('respetuosos', 2), ('apóyame', 1), ('apóyanos', 1), ('bate', 1), ('corren', 2), ('rómpelo', 1), ('estropéalo', 1), ('rompedlo', 1), ('descomponlo', 1), ('desglósalo', 1), ('tíralo', 2), ('derrúmbalo', 1), ('échalo', 1), ('derríbalo', 2), ('tráelo', 1), ('traedlo', 1), ('quemen', 1), ('cuerpo', 18), ('quemá', 1), ('queme', 1), ('quemad', 1), ('caín', 1), ('llame', 14), ('pida', 4), ('pidan', 1), ('pedid', 1), ('¡llámame', 1), ('¡llamen', 2), ('¡llamad', 2), ('llama', 58), ('policía', 45), ('tenerlo', 1), ('abrazarte', 2), ('participar', 1), ('quedármelo', 1), ('visitar', 10), ('tomarlo', 2), ('bailar', 48), ('conducir', 34), ('patinar', 8), ('sobre', 72), ('cierra', 33), ('observad', 1), ('cuece', 1), ('desfalleció', 1), ('¿funcionó', 1), ('¿hablaste', 3), ('¿conozco', 1), ('¿le', 61), ('¿necesito', 4), ('sueñan', 1), ('vuelvas', 13), ('serás', 5), ('peces', 9), ('duermen', 4), ('rápidamente', 14), ('platos', 15), ('sigues', 3), ('¿esta', 12), ('¿este', 15), ('seáis', 3), ('malas', 11), ('llegues', 2), ('tacaño', 8), ('grosero', 7), ('llames', 8), ('llamés', 2), ('llaméis', 1), ('llamen', 5), ('niegues', 1), ('desesperes', 1), ('engordes', 2), ('subas', 4), ('peso', 28), ('engordés', 1), ('rindas', 4), ('tires', 6), ('lastimes', 4), ('mates', 3), ('mires', 10), ('prestes', 2), ('atención', 27), ('burles', 4), ('abras', 3), ('empujes', 2), ('presiones', 2), ('apresures', 1), ('irrespetuoso', 1), ('vacia', 1), ('aceite', 3), ('traza', 2), ('círculo', 6), ('dibuja', 3), ('coman', 3), ('beban', 3), ('coma', 11), ('beba', 2), ('sano', 11), ('comed', 1), ('ganan', 1), ('alimenta', 1), ('pájaro', 24), ('rellena', 3), ('fríeme', 1), ('preparame', 2), ('estrellado', 1), ('pon', 13), ('ponga', 5), ('vuelva', 7), ('consígueme', 6), ('¡que', 7), ('dale', 17), ('dámelo', 4), ('dádmelo', 1), ('démelo', 1), ('dénmelo', 1), ('traer', 7), ('café', 102), ('bendiga', 2), ('aguanta', 3), ('agárrate', 6), ('aférrate', 3), ('conserva', 2), ('jamón', 2), ('engañó', 12), ('bebió', 13), ('cavó', 1), ('agujero', 11), ('cogieron', 6), ('cultiva', 2), ('blog', 2), ('constipado', 2), ('mucama', 1), ('abrazó', 9), ('inglés', 74), ('ladrón', 10), ('jefe', 27), ('andando', 9), ('patineta', 2), ('besó', 14), ('luce', 18), ('aspecto', 14), ('pellizcó', 3), ('parece', 210), ('vende', 12), ('carros', 1), ('palabra', 44), ('expresa', 2), ('apedreado', 1), ('sabrá', 8), ('abogado', 47), ('machista', 2), ('gran', 82), ('negocios', 14), ('adorable', 8), ('demente', 5), ('santo', 1), ('hijo', 70), ('sírvase', 4), ('sírvete', 2), ('servíos', 1), ('mismos', 4), ('sírvanse', 2), ('¿paquí', 1), ('pa', 1), ('oye', 8), ('vayáis', 2), ('oiga', 3), ('su', 807), ('nariz', 28), ('sangraba', 2), ('abrazame', 1), ('retenga', 1), ('mis', 232), ('llamadas', 3), ('sujétalo', 2), ('¡sujétalo', 1), ('puerta', 129), ('cuerda', 19), ('bocina', 2), ('claxon', 2), ('¿cuántos', 42), ('murieron', 10), ('emocionante', 14), ('date', 4), ('apúrate', 1), ('acepto', 12), ('adquirí', 1), ('añadí', 1), ('admiraba', 3), ('casi', 107), ('morí', 2), ('siempre', 193), ('camino', 57), ('americano', 4), ('estadounidense', 7), ('japonés', 36), ('japonesa', 13), ('dedico', 2), ('trote', 1), ('tosiendo', 2), ('indigna', 2), ('estornudando', 2), ('culpa', 60), ('volví', 12), ('pertenezco', 2), ('prestado', 15), ('soborné', 2), ('quemé', 5), ('autobús', 44), ('explicar', 17), ('sentirlo', 4), ('verte', 65), ('manejar', 10), ('soportar', 8), ('resistir', 2), ('cancelé', 1), ('causé', 1), ('contribuí', 1), ('merecía', 4), ('diseñé', 1), ('desprecio', 4), ('menosprecio', 2), ('pude', 29), ('importó', 1), ('supe', 3), ('moví', 2), ('paré', 3), ('detuve', 1), ('caminé', 3), ('claro', 19), ('pienso', 48), ('bebo', 17), ('tomo', 10), ('ronco', 2), ('robo', 8), ('estudio', 18), ('bebí', 9), ('llevo', 19), ('bmw', 2), ('disfruto', 7), ('jugar', 74), ('escuchar', 23), ('póker', 1), ('exageré', 2), ('temo', 14), ('alimenté', 2), ('adormitado', 1), ('causa', 10), ('culpable', 26), ('renacido', 1), ('finalmente', 24), ('terminé', 5), ('perdono', 1), ('defendí', 1), ('bono', 1), ('resulté', 1), ('engañado', 9), ('casé', 5), ('sediento', 5), ('esconder', 13), ('boston', 180), ('francés', 278), ('fútbol', 26), ('invierno', 13), ('bomba', 5), ('resfriado', 17), ('acatarrado', 2), ('cita', 12), ('plan', 62), ('aro', 1), ('anillo', 5), ('hermana', 57), ('gemela', 3), ('hermano', 74), ('visa', 7), ('visado', 3), ('rodilleras', 1), ('cáncer', 14), ('tenido', 22), ('órdenes', 12), ('derechos', 3), ('pecado', 1), ('tenencia', 1), ('sirenas', 1), ('voces', 1), ('ignoré', 2), ('recién', 5), ('levanto', 11), ('levanté', 10), ('levantar', 8), ('gente', 62), ('personas', 23), ('caer', 8), ('camellos', 3), ('relojes', 1), ('caballos', 17), ('películas', 13), ('coser', 6), ('cucharas', 1), ('deporte', 9), ('prefiero', 41), ('tenis', 48), ('trenes', 6), ('tulipanes', 2), ('miré', 15), ('aparté', 1), ('clave', 6), ('hornear', 2), ('ajo', 1), ('excursionismo', 1), ('papá', 22), ('empleo', 28), ('naturaleza', 8), ('primavera', 22), ('negocio', 10), ('trato', 17), ('cena', 33), ('preparé', 1), ('repararlo', 2), ('objetar', 1), ('rechazar', 1), ('verlo', 41), ('estuve', 46), ('baño', 44), ('tripulación', 2), ('lámpara', 3), ('préstamo', 2), ('lleven', 2), ('cuarto', 55), ('habitación', 121), ('semana', 71), ('consejos', 7), ('bolsa', 29), ('bolso', 19), ('supero', 1), ('rango', 1), ('dueño', 1), ('yate', 1), ('juego', 60), ('squash', 1), ('toco', 15), ('violín', 8), ('declaré', 1), ('afuera', 31), ('leí', 13), ('cambié', 5), ('fecha', 7), ('rescaté', 4), ('ofendo', 2), ('respeto', 20), ('administro', 1), ('motel', 2), ('manejo', 3), ('¡yo', 2), ('levántate', 4), ('ratón', 10), ('avión', 25), ('corona', 5), ('viendo', 25), ('luz', 38), ('reina', 4), ('barco', 21), ('niño', 87), ('oso', 8), ('renunciar', 9), ('tocino', 1), ('humo', 2), ('olí', 1), ('vendí', 4), ('chiste', 13), ('conté', 9), ('bañé', 1), ('paseo', 11), ('confiaba', 4), ('firefox', 1), ('ofrecí', 1), ('voluntario', 3), ('ganas', 31), ('precavido', 2), ('desarmado', 1), ('observé', 1), ('vigilé', 1), ('observaba', 1), ('subí', 7), ('marcha', 5), ('senderismo', 1), ('excursión', 2), ('despertado', 6), ('cederé', 1), ('saldré', 4), ('escribo', 1), ('versos', 1), ('gustaría', 68), ('permitiré', 3), ('permitirlo', 3), ('compraré', 3), ('llamar', 28), ('llamaré', 19), ('alcanzaré', 1), ('comeré', 2), ('encontraré', 5), ('mataré', 3), ('matar', 30), ('encontrarme', 6), ('echaré', 9), ('extrañar', 7), ('demostraré', 1), ('mostraré', 10), ('detener', 11), ('encargaré', 5), ('llevaré', 11), ('cogeré', 5), ('diré', 10), ('avisar', 3), ('advertiré', 1), ('alertaré', 1), ('miraré', 3), ('madre', 83), ('estudiante', 40), ('profesor', 57), ('maestro', 15), ('turista', 5), ('testigo', 6), ('adicta', 1), ('artista', 12), ('huérfano', 4), ('desesperado', 4), ('desesperada', 2), ('olvidadizo', 9), ('¡mamá', 1), ('horrorizado', 2), ('horrorizada', 1), ('imparcial', 2), ('impaciente', 8), ('importante', 51), ('impresionada', 2), ('impresionado', 3), ('cargo', 12), ('peligro', 36), ('intrigada', 1), ('escuchando', 29), ('escucharé', 1), ('mudo', 8), ('superaré', 2), ('seguiré', 2), ('espía', 3), ('mandón', 1), ('mandona', 1), ('huelga', 3), ('sensible', 8), ('hambriento', 17), ('tanta', 8), ('estúpida', 14), ('asegurado', 3), ('asegurada', 1), ('jefa', 1), ('encontrado', 23), ('mejorado', 5), ('famoso', 16), ('siente', 25), ('doloroso', 6), ('popular', 7), ('privado', 3), ('lloviendo', 28), ('murciélago', 3), ('peluca', 4), ('legal', 6), ('aquél', 5), ('quebró', 7), ('pone', 13), ('peor', 25), ('empeora', 1), ('había', 69), ('nevado', 3), ('pinta', 10), ('regalo', 30), ('engaño', 8), ('examen', 19), ('irónico', 3), ('dolerá', 1), ('servirá', 3), ('media', 24), ('sábado', 17), ('enigma', 2), ('secuela', 1), ('arma', 24), ('desierto', 3), ('caballo', 26), ('obsoleto', 4), ('oficial', 2), ('deber', 10), ('rata', 2), ('depende', 15), ('corresponde', 3), ('seco', 5), ('minuto', 48), ('coja', 4), ('coged', 2), ('cojan', 2), ('remando', 4), ('llaves', 40), ('déjale', 4), ('terminar', 16), ('preguntémosle', 4), ('pidámosle', 1), ('preguntarle', 6), ('hagamos', 18), ('volvamos', 7), ('mantengámoslo', 1), ('prosigamos', 3), ('avancemos', 2), ('abrámoslo', 1), ('sigamos', 6), ('demandemos', 1), ('injusta', 4), ('¡traba', 1), ('¡ponle', 1), ('entrada', 11), ('cancela', 1), ('aquéllos', 2), ('oferta', 22), ('resume', 2), ('mortal', 2), ('chula', 1), ('rara', 15), ('chilló', 4), ('preguntar', 11), ('escasa', 1), ('memoriza', 1), ('memorízate', 1), ('espalda', 17), ('cabeza', 47), ('pulmones', 1), ('nombre', 107), ('llamo', 13), ('cuello', 6), ('sonreía', 2), ('escuchad', 2), ('atended', 2), ('atendedme', 1), ('quítate', 8), ('capucha', 2), ('bote', 11), ('hundió', 2), ('¡fuera', 3), ('búhos', 3), ('monos', 6), ('cambia', 9), ('tócalo', 2), ('arreglalo', 1), ('súbase', 1), ('bata', 3), ('apostar', 6), ('apuestas', 1), ('léelo', 6), ('rusia', 2), ('¡di', 1), ('¡decid', 1), ('acabaron', 3), ('manda', 2), ('mándamelo', 2), ('¿empiezo', 1), ('¿debo', 4), ('continuar', 7), ('agachó', 1), ('enojó', 5), ('cabreó', 2), ('contrató', 5), ('francesa', 7), ('acaba', 43), ('obedece', 5), ('desea', 6), ('ingenua', 4), ('modelo', 7), ('esposa', 48), ('junto', 13), ('claramente', 14), ('hable', 17), ('hablen', 7), ('hablad', 3), ('quedito', 3), ('calladito', 1), ('párense', 1), ('línea', 17), ('comienza', 14), ('empiece', 3), ('empezad', 1), ('empiecen', 2), ('comience', 3), ('comenzad', 1), ('comiencen', 1), ('escribir', 33), ('positivo', 2), ('positiva', 1), ('manteneos', 1), ('juntos', 53), ('separéis', 1), ('mezclá', 1), ('remueve', 1), ('balbucear', 1), ('chismorrear', 3), ('soñar', 5), ('¡dejá', 1), ('pelear', 15), ('entrometas', 2), ('disparar', 4), ('preocuparte', 4), ('pasan', 5), ('gustes', 4), ('barre', 4), ('respiro', 4), ('número', 27), ('llévame', 3), ('gustos', 2), ('disputas', 2), ('todas', 51), ('formas', 4), ('saturno', 1), ('copia', 10), ('aquella', 23), ('mito', 2), ('absurdo', 11), ('chaval', 1), ('irreal', 1), ('vulgar', 1), ('copa', 5), ('chicas', 10), ('sabían', 5), ('supieron', 1), ('partieron', 2), ('levantaron', 2), ('alzaron', 2), ('pusieron', 6), ('gritan', 1), ('construyeron', 4), ('cancelaron', 1), ('mutuamente', 4), ('encontraron', 8), ('encantaba', 2), ('deben', 16), ('pagan', 5), ('sentaban', 1), ('salvaron', 2), ('estarán', 5), ('bailarán', 1), ('harán', 4), ('asiáticos', 3), ('vivos', 10), ('solos', 19), ('enojados', 3), ('armadas', 1), ('arruinadas', 2), ('limpias', 6), ('embriagados', 1), ('ebrios', 1), ('borrachos', 8), ('van', 30), ('enormes', 1), ('inmensas', 1), ('verdes', 10), ('espías', 2), ('vuestros', 11), ('suyos', 4), ('cambian', 1), ('japón', 16), ('esta', 478), ('ley', 20), ('palabras', 23), ('incorrecto', 2), ('recibió', 10), ('graduó', 6), ('vaca', 5), ('mapa', 18), ('oyó', 12), ('dudó', 1), ('pelele', 1), ('ausente', 5), ('bravío', 1), ('descansado', 1), ('fuerzas', 1), ('delgaducho', 3), ('injusto', 10), ('malévolo', 1), ('unió', 3), ('pueblo', 6), ('gustaste', 2), ('gustabas', 1), ('recuperó', 1), ('acuerda', 4), ('recuerda', 15), ('asusta', 5), ('vaciló', 2), ('tambaleó', 1), ('cumplió', 7), ('13', 4), ('siguió', 32), ('distante', 1), ('banca', 3), ('sucio', 6), ('moría', 2), ('severo', 2), ('contratado', 3), ('leal', 2), ('afortunado', 14), ('mentía', 1), ('palideció', 3), ('cocinará', 1), ('obedecerá', 1), ('adoptado', 2), ('ayudando', 12), ('inservible', 3), ('violento', 6), ('bancame', 1), ('seis', 40), ('roncando', 2), ('cubre', 1), ('encera', 1), ('piso', 20), ('encerá', 1), ('condenados', 1), ('podríamos', 6), ('preguntamos', 2), ('comemos', 7), ('fuimos', 20), ('robados', 2), ('robaron', 11), ('planes', 14), ('disparamos', 1), ('callados', 5), ('intención', 12), ('hablamos', 11), ('entendemos', 7), ('aburríamos', 1), ('tuvimos', 20), ('preguntaremos', 2), ('esconderemos', 1), ('sobreviviremos', 1), ('desorientados', 1), ('primos', 8), ('intrigados', 2), ('comprometidos', 2), ('prometidos', 2), ('amigos', 111), ('amigas', 16), ('enamorados', 3), ('abogados', 3), ('casados', 9), ('pacientes', 3), ('mentalizados', 1), ('egoístas', 1), ('serios', 1), ('hundiendo', 2), ('especiales', 3), ('concluido', 4), ('¡estamos', 1), ('atrapados', 5), ('inútiles', 3), ('unas', 28), ('ganando', 11), ('¿estabas', 16), ('fiasco', 1), ('jaleo', 3), ('lío', 4), ('¡menudo', 2), ('¡vaya', 5), ('alivio', 2), ('aflige', 1), ('güey', 1), ('¿ellos', 16), ('ocurrió', 17), ('ocurrido', 4), ('sido', 58), ('¿cuándo', 142), ('¿cuál', 143), ('mandó', 8), ('queda', 61), ('gana', 14), ('vendrá', 31), ('¿vendrá', 5), ('llegaste', 13), ('equivocan', 2), ('¡puedes', 1), ('¡tú', 2), ('¡hipócrita', 1), ('sabes', 58), ('sabéis', 4), ('tenéis', 33), ('quedaros', 3), ('debes', 57), ('necesitás', 5), ('preguntas', 12), ('deberías', 104), ('hueles', 2), ('estabas', 45), ('eras', 17), ('fuisteis', 5), ('eran', 30), ('fracasarás', 1), ('trabajas', 11), ('llegaréis', 1), ('llegará', 6), ('llegarás', 3), ('bebé', 54), ('parcial', 5), ('¿bromeas', 1), ('tratando', 6), ('cocacola', 2), ('actuá', 1), ('linda', 22), ('calificado', 1), ('rojas', 9), ('¿somos', 2), ('¿vendréis', 3), ('¿vendrás', 6), ('¿vienes', 8), ('vienes', 8), ('famosa', 7), ('sientes', 31), ('racista', 6), ('¿vosotros', 4), ('otoño', 5), ('chica', 45), ('aves', 3), ('ponen', 2), ('respira', 9), ('hondo', 6), ('traé', 1), ('pala', 5), ('tráemelo', 2), ('tráigamelo', 1), ('¿también', 3), ('comerme', 9), ('ayudarle', 6), ('besarte', 5), ('verlos', 11), ('verles', 2), ('dejas', 7), ('sentarme', 14), ('¿podremos', 1), ('conseguirlo', 3), ('conseguiremos', 2), ('proseguir', 1), ('levantarte', 7), ('atrapa', 1), ('pelota', 15), ('revísalos', 1), ('échale', 1), ('pieza', 24), ('háganlo', 1), ('pacá', 1), ('contacte', 1), ('archivo', 8), ('vacas', 9), ('comen', 15), ('pasto', 10), ('dan', 22), ('pártelo', 1), ('daño', 32), ('lastimé', 6), ('compró', 40), ('olvidaste', 2), ('olvidado', 22), ('¿entendió', 1), ('dijiste', 28), ('treinta', 18), ('viste', 27), ('¡la', 4), ('háztelo', 1), ('odias', 4), ('oyes', 2), ('escuchás', 1), ('conocés', 6), ('quieres', 77), ('amas', 13), ('echas', 5), ('prometes', 1), ('promete', 1), ('reciclas', 1), ('queréis', 9), ('des', 7), ('lata', 6), ('enfades', 2), ('enfade', 2), ('apresurado', 6), ('boludo', 2), ('culpes', 2), ('quejes', 1), ('pierdas', 7), ('ayudes', 9), ('dejes', 29), ('levantes', 3), ('forcejees', 1), ('cuentes', 3), ('toques', 19), ('¡suelta', 1), ('cuchillo', 27), ('agacha', 1), ('cómanse', 1), ('disfrute', 3), ('espectáculo', 11), ('disfruta', 4), ('disfruten', 1), ('disfrutad', 1), ('mienten', 4), ('pagaron', 6), ('llora', 9), ('peleen', 2), ('pelead', 1), ('pescar', 19), ('filas', 1), ('súbete', 6), ('caravana', 2), ('tráeme', 21), ('¡súbase', 1), ('¡súbete', 1), ('subíos', 1), ('duerme', 14), ('dáselo', 4), ('pista', 2), ('beso', 5), ('¡dame', 1), ('cartera', 11), ('cambiarte', 2), ('tardes', 2), ('pásaselo', 1), ('taza', 29), ('año', 35), ('vacaciones', 19), ('¿han', 6), ('¿comiste', 2), ('¿ya', 34), ('comiste', 6), ('¿habéis', 13), ('aceleró', 2), ('contar', 20), ('antipatía', 1), ('moreno', 1), ('elevó', 2), ('volantín', 2), ('12', 2), ('hijos', 63), ('barba', 5), ('cambiado', 27), ('regresó', 7), ('golpe', 11), ('devolvió', 6), ('genio', 13), ('golfista', 3), ('techo', 6), ('tío', 34), ('extrovertido', 2), ('tirado', 2), ('espaldas', 1), ('aprende', 9), ('gelatina', 1), ('vive', 83), ('adora', 17), ('juega', 16), ('respeta', 8), ('retó', 2), ('increpó', 1), ('riñó', 1), ('enfadada', 12), ('frutas', 3), ('abofeteó', 4), ('confió', 2), ('extranjero', 19), ('acostar', 5), ('acostó', 3), ('florista', 1), ('animal', 8), ('deprimido', 12), ('prisión', 10), ('estudiar', 55), ('llegando', 5), ('vienen', 12), ('tarjeta', 9), ('esconde', 1), ('escondé', 1), ('plata', 11), ('dolía', 2), ('¿cuán', 4), ('asco', 7), ('hacen', 18), ('¿cuánto', 77), ('cuesta', 39), ('mide', 6), ('¡apúrensen', 2), ('húngara', 1), ('manzana', 43), ('creí', 7), ('apuesto', 8), ('presto', 2), ('uña', 1), ('traje', 21), ('arreglar', 16), ('demostrarlo', 2), ('levantarme', 13), ('cuento', 10), ('merezco', 7), ('avisé', 1), ('conducido', 2), ('doy', 4), ('sigo', 14), ('cojo', 4), ('honrado', 5), ('empeñé', 1), ('arrestaron', 2), ('divorcié', 1), ('nostálgico', 1), ('nostalgia', 1), ('garantizo', 1), ('divertí', 3), ('domingos', 9), ('insectos', 4), ('planchar', 5), ('karaoke', 2), ('fiestas', 7), ('acertijos', 1), ('arañas', 6), ('espinacas', 4), ('tos', 7), ('corazonada', 4), ('rancho', 3), ('camión', 17), ('ni', 69), ('escuincle', 1), ('hermanas', 14), ('hipo', 2), ('ojalá', 42), ('ganes', 1), ('sencillamente', 8), ('venderlo', 4), ('simplemente', 25), ('mantuve', 5), ('castillos', 1), ('pollo', 10), ('galletas', 9), ('pesca', 7), ('historia', 75), ('trotar', 1), ('mahjongg', 2), ('fideos', 2), ('tallarines', 1), ('picnic', 4), ('rompecabezas', 4), ('sashimi', 1), ('mariscos', 6), ('historias', 8), ('tortugas', 3), ('escritura', 1), ('norte', 9), ('harvard', 10), ('flores', 26), ('lasaña', 1), ('sol', 40), ('galletitas', 4), ('equivoque', 1), ('amiga', 33), ('regresar', 15), ('volver', 52), ('gauchada', 3), ('aumento', 5), ('regla', 5), ('cigarrillo', 6), ('bocadillo', 1), ('sello', 4), ('respuestas', 7), ('tener', 36), ('cirugía', 3), ('dejarlo', 5), ('viajo', 2), ('menudo', 46), ('cien', 5), ('declaro', 1), ('castigué', 1), ('crío', 2), ('largues', 1), ('calles', 4), ('¡dije', 1), ('amigo', 97), ('cinco', 34), ('estornudo', 2), ('coreano', 2), ('enseño', 4), ('giré', 2), ('normalmente', 10), ('quisiera', 40), ('vaso', 18), ('perrito', 8), ('cachorrito', 7), ('palomitas', 2), ('maíz', 4), ('ventilador', 1), ('secuestraron', 2), ('raptaron', 2), ('arrestado', 4), ('arrestada', 1), ('capturado', 2), ('ofendido', 1), ('riendo', 18), ('dejaron', 7), ('sudando', 8), ('excitado', 1), ('gafas', 27), ('prosperaré', 1), ('desearía', 21), ('poder', 15), ('pudiera', 8), ('sería', 37), ('honor', 4), ('preferiría', 11), ('directo', 8), ('tomar', 45), ('ocuparé', 5), ('extra', 7), ('regañaré', 1), ('reñiré', 1), ('pego', 2), ('quedaré', 15), ('enseñar', 5), ('daré', 14), ('invitaré', 2), ('principiante', 8), ('diabética', 1), ('músico', 8), ('sujeto', 6), ('prisionero', 6), ('ateo', 1), ('asombrada', 1), ('detrás', 25), ('cansancio', 2), ('confiable', 2), ('devastada', 1), ('diplomática', 1), ('fascinada', 1), ('sintiendo', 3), ('divirtiendo', 6), ('apurado', 5), ('interesado', 6), ('interesada', 3), ('contigo', 88), ('preparando', 14), ('escondiendo', 23), ('suficientemente', 15), ('optimista', 6), ('bencina', 2), ('reforma', 2), ('desafortunado', 4), ('desvistiendo', 4), ('desnudando', 2), ('sacando', 4), ('ropa', 41), ('paro', 2), ('desempleado', 4), ('parado', 8), ('desempleada', 1), ('acostumbrado', 9), ('acostumbrada', 3), ('rudo', 6), ('demandaron', 2), ('guiso', 4), ('¡ojalá', 1), ('supiera', 2), ('¿tomás', 10), ('lastimado', 5), ('lastimó', 7), ('¿él', 19), ('timbre', 6), ('probable', 10), ('negra', 8), ('hacerse', 7), ('mejora', 2), ('¡huele', 1), ('ameno', 1), ('venta', 11), ('planeado', 5), ('nevaba', 1), ('difícil', 79), ('cederá', 3), ('estará', 32), ('navidad', 11), ('tarea', 22), ('miércoles', 5), ('clásico', 3), ('reclamo', 1), ('error', 57), ('excusa', 8), ('insulto', 1), ('superior', 1), ('supera', 2), ('delicioso', 14), ('diferente', 13), ('haciendo', 102), ('idéntico', 3), ('barato', 16), ('redundante', 1), ('demasiada', 11), ('arriesgado', 5), ('lento', 3), ('vibrando', 2), ('maravilloso', 18), ('movida', 1), ('olvídalo', 2), ('limítate', 18), ('punto', 22), ('llévalo', 3), ('consérvalo', 1), ('permanezca', 1), ('buscando', 43), ('crueles', 1), ('inclínate', 1), ('déjamelo', 4), ('¡dejame', 1), ('sala', 7), ('idos', 2), ('váyanse', 3), ('solas', 16), ('préstame', 4), ('responda', 5), ('sienta', 5), ('oírlo', 8), ('déjalos', 2), ('seamos', 14), ('continuemos', 2), ('averigüémoslo', 2), ('cada', 30), ('esperemos', 6), ('tiña', 1), ('practiquemos', 1), ('sentémonos', 5), ('levantémonos', 1), ('¡escucha', 2), ('viví', 4), ('aprendé', 2), ('cosa', 55), ('almuerzo', 29), ('suceda', 3), ('simplifica', 1), ('mueves', 1), ('muchos', 69), ('muchacha', 8), ('acompañarle', 1), ('acompañarles', 1), ('unírmeles', 1), ('sentar', 9), ('usar', 54), ('avariciosos', 1), ('caminas', 3), ('muévase', 1), ('escritorio', 30), ('corazón', 34), ('articulaciones', 1), ('comezón', 2), ('estómago', 16), ('rió', 6), ('ábreme', 2), ('trampilla', 1), ('tus', 125), ('maletas', 4), ('caigo', 3), ('ayúdeme', 3), ('ábrelo', 1), ('diga', 13), ('digan', 4), ('díganme', 4), ('despiértese', 1), ('precios', 14), ('subieron', 2), ('demuéstramelo', 1), ('contador', 4), ('resérvame', 1), ('guárdame', 2), ('dilo', 4), ('envíame', 2), ('¿empezamos', 2), ('¿comenzamos', 1), ('¿quiere', 12), ('¿bailamos', 1), ('¿vamos', 3), ('ahorcó', 2), ('estranguló', 1), ('cultivó', 1), ('rosas', 8), ('bicicleta', 56), ('enfermera', 11), ('quieta', 2), ('parecía', 39), ('extraña', 14), ('adinerada', 1), ('provocaba', 2), ('teclea', 1), ('canadiense', 52), ('belleza', 6), ('cabezota', 2), ('testaruda', 3), ('cerrar', 8), ('¿paramos', 1), ('siéntense', 4), ('allá', 52), ('apareció', 12), ('dejen', 8), ('copuchar', 1), ('refunfuñar', 1), ('¡deja', 3), ('resistirte', 1), ('chillar', 2), ('azúcar', 23), ('verano', 21), ('llévaselo', 1), ('devuélvelo', 1), ('llevátelo', 1), ('contanos', 1), ('aspero', 1), ('cambiará', 4), ('farsa', 2), ('¡increíble', 2), ('gallina', 7), ('cianuro', 1), ('evidente', 1), ('obvio', 6), ('idiotez', 1), ('ilegal', 6), ('inmoral', 3), ('¡esa', 2), ('frase', 4), ('obsceno', 2), ('salta', 3), ('plástico', 3), ('patético', 8), ('suicidio', 2), ('cantaban', 1), ('ladraba', 2), ('bandera', 5), ('alzada', 1), ('derritió', 2), ('gotea', 2), ('sirena', 1), ('sonó', 6), ('cantaron', 1), ('miradas', 1), ('cruzaron', 1), ('éstas', 19), ('estas', 45), ('nuestras', 10), ('auténticas', 2), ('verdaderas', 1), ('auténticos', 1), ('reales', 1), ('aplaudieron', 4), ('preguntaron', 1), ('molestan', 2), ('compraron', 3), ('volvieron', 1), ('regresaron', 1), ('descubrieron', 1), ('odiaban', 3), ('parecen', 14), ('amaban', 1), ('encantaste', 1), ('encantabas', 1), ('querían', 13), ('quisieron', 1), ('bienintencionados', 1), ('discutieron', 1), ('arruinaron', 2), ('huelen', 3), ('esforzaron', 1), ('confían', 1), ('estaban', 68), ('muertos', 16), ('enfermas', 2), ('ayudarán', 2), ('trabajan', 6), ('atacarán', 2), ('rotos', 3), ('estropeados', 1), ('familia', 66), ('vacíos', 1), ('idiotas', 8), ('fatal', 5), ('olla', 4), ('cacao', 2), ('mental', 2), ('azotea', 2), ('pinza', 2), ('cabras', 7), ('cabra', 7), ('molidos', 1), ('taradura', 1), ('cambiaron', 3), ('piénsatelo', 2), ('respecto', 12), ('piénselo', 1), ('muerde', 7), ('perra', 5), ('mesa', 50), ('embrollo', 1), ('norma', 6), ('estafa', 1), ('descompuesto', 3), ('espeluznante', 1), ('locos', 15), ('gata', 1), ('pagando', 2), ('debe', 72), ('ésas', 8), ('esas', 37), ('bonitas', 5), ('cucos', 1), ('dados', 2), ('arroja', 1), ('dado', 11), ('billete', 8), ('átate', 2), ('cordones', 4), ('disculpó', 2), ('acercó', 15), ('paliza', 5), ('responder', 15), ('paralizado', 2), ('quedarse', 14), ('65', 3), ('despidió', 3), ('donó', 1), ('sangre', 10), ('aproximó', 2), ('robado', 15), ('asma', 3), ('improvisó', 1), ('improvisación', 1), ('intervino', 5), ('rubio', 3), ('lacroso', 1), ('cerdomarrano', 1), ('friki', 1), ('enano', 1), ('piloto', 4), ('avergonzado', 12), ('taimado', 1), ('concentrado', 1), ('temeroso', 1), ('servicial', 1), ('preso', 3), ('enamorado', 15), ('ídolo', 1), ('travieso', 5), ('servicio', 9), ('relajado', 7), ('temblando', 3), ('frívolo', 2), ('fumando', 3), ('malcriado', 3), ('quejando', 6), ('aviso', 1), ('pellizco', 1), ('leyó', 3), ('acordó', 2), ('recordó', 2), ('copado', 1), ('puso', 70), ('entendió', 3), ('retratado', 1), ('humilde', 2), ('aterrado', 2), ('luchará', 1), ('cantará', 1), ('llevaba', 31), ('encantador', 4), ('colgado', 1), ('nadando', 5), ('ilusionado', 1), ('¡tom', 7), ('salsa', 1), ('trata', 33), ('encontrarlo', 7), ('pararme', 10), ('enciende', 13), ('tele', 19), ('volumen', 10), ('enfrente', 2), ('si', 103), ('cara', 50), ('lavaos', 2), ('lávese', 1), ('lávense', 1), ('adoptamos', 2), ('médicos', 3), ('pagarte', 2), ('bebimos', 1), ('perdonamos', 1), ('casamos', 3), ('necesitábamos', 3), ('estudiamos', 6), ('presentamos', 1), ('voluntarios', 2), ('apuntamos', 1), ('voluntariamente', 2), ('enmarcados', 1), ('culpados', 1), ('llamaremos', 1), ('averiguaremos', 1), ('pintaremos', 1), ('salvaremos', 1), ('hermanos', 30), ('ocupadas', 4), ('confiables', 1), ('divorciados', 1), ('famélicos', 1), ('ingenuos', 4), ('esperanza', 22), ('inquietos', 2), ('morimos', 4), ('colgados', 1), ('minuciosos', 1), ('levantamos', 3), ('observando', 7), ('observamos', 1), ('miramos', 3), ('golpeado', 1), ('concepto', 1), ('país', 15), ('caluroso', 11), ('chasco', 1), ('decepción', 2), ('pensamiento', 1), ('tragedia', 2), ('¿y', 28), ('podrá', 1), ('causó', 3), ('dedicas', 1), ('haces', 29), ('ocurrirá', 7), ('fallo', 4), ('¿ahora', 11), ('¿adónde', 28), ('parís', 14), ('estabais', 7), ('rompió', 29), ('guardia', 8), ('mató', 14), ('pintó', 7), ('hará', 15), ('importaría', 6), ('escribió', 28), ('aquel', 30), ('mientes', 3), ('harás', 6), ('reloj', 70), ('sonate', 1), ('límpiate', 1), ('adoraban', 3), ('adoraron', 1), ('ciertamente', 5), ('cambiaste', 1), ('pagaste', 2), ('ignorabas', 1), ('ignoraste', 1), ('mentiste', 6), ('negarte', 1), ('vuelvan', 3), ('volváis', 2), ('fuiste', 15), ('tuviste', 4), ('sacaste', 1), ('barata', 5), ('tenías', 12), ('fraude', 4), ('caprichoso', 1), ('mojigato', 1), ('chorro', 1), ('increíbles', 2), ('entretenido', 5), ('andas', 3), ('afortunados', 4), ('superficial', 2), ('flaco', 3), ('cero', 6), ('izquierda', 17), ('servís', 1), ('inservibles', 2), ('lograste', 1), ('vuestra', 26), ('zozobró', 3), ('presentes', 5), ('quien', 9), ('¿estos', 2), ('tuyos', 6), ('tuyas', 2), ('¿terminamos', 1), ('fantasma', 5), ('coña', 1), ('pregúntame', 3), ('cualquier', 39), ('bolas', 1), ('redondas', 1), ('preciso', 2), ('abejas', 4), ('tripas', 1), ('estúpidos', 3), ('acércalo', 1), ('traeme', 2), ('esposo', 11), ('¡llame', 2), ('marido', 26), ('¡llamá', 1), ('pedirlo', 1), ('comprarme', 3), ('quedarme', 26), ('apuntarme', 1), ('probármelo', 1), ('ayudarnos', 11), ('arreglarse', 1), ('reparar', 4), ('repararse', 2), ('¿pueden', 11), ('¿podés', 20), ('respirar', 6), ('contribuir', 1), ('gastos', 3), ('oírme', 3), ('oírnos', 2), ('abrirlo', 2), ('mostrarme', 2), ('callar', 4), ('silbar', 4), ('atrapan', 2), ('ratones', 1), ('cerrá', 4), ('escotilla', 1), ('cerrad', 2), ('volvé', 1), ('¡felicidades', 1), ('defiéndete', 1), ('botaste', 1), ('oíste', 4), ('¿les', 17), ('querías', 7), ('amabas', 4), ('echado', 8), ('extrañaste', 2), ('¿dijiste', 2), ('¿viste', 16), ('¿demandaste', 1), ('sabías', 4), ('cava', 1), ('corbata', 24), ('ahoritita', 1), ('¿tenemos', 6), ('hacé', 3), ('puedas', 14), ('¿dudás', 1), ('¿dudas', 1), ('¿comes', 4), ('¿come', 2), ('¿comés', 1), ('¿coméis', 1), ('¿conoces', 15), ('¿vos', 5), ('conocéis', 6), ('¿sabés', 3), ('rap', 1), ('¿echas', 1), ('recuerdas', 4), ('crees', 22), ('cree', 24), ('¿confiás', 1), ('¿confías', 2), ('¿confiáis', 1), ('¿ves', 9), ('¿el', 16), ('absurda', 4), ('canuto', 3), ('molestes', 9), ('moleste', 6), ('jodas', 2), ('rompas', 4), ('engañes', 7), ('enoje', 1), ('enojes', 1), ('emborraches', 1), ('interfieras', 1), ('interrumpas', 2), ('mientas', 10), ('exageres', 1), ('ridículo', 13), ('juegues', 9), ('recuerdes', 2), ('mentiras', 7), ('confíes', 7), ('confíe', 1), ('confiéis', 1), ('fíes', 3), ('bebed', 1), ('provecho', 5), ('aproveche', 1), ('viaje', 24), ('incluso', 9), ('estuvieron', 6), ('sueña', 1), ('miraron', 4), ('oraron', 1), ('produjo', 2), ('sonrisa', 12), ('colectiva', 2), ('búscame', 2), ('píldoras', 1), ('localiza', 1), ('recoged', 1), ('vuestras', 5), ('locas', 3), ('ponme', 3), ('sonríeme', 1), ('bastón', 5), ('entrégame', 2), ('dales', 2), ('¡dámelas', 1), ('¡dámelos', 1), ('pochoclo', 3), ('andate', 1), ('tienda', 31), ('señal', 4), ('alcanzame', 2), ('traicionó', 14), ('amanecer', 7), ('pudo', 22), ('volvió', 57), ('esperanzas', 5), ('7', 3), ('balón', 3), ('derrame', 1), ('cerebral', 2), ('vaqueros', 1), ('jeans', 2), ('puestos', 3), ('toyota', 3), ('cámara', 43), ('puesto', 36), ('raqueta', 4), ('boleto', 12), ('diez', 45), ('coches', 8), ('etíope', 2), ('soñador', 3), ('pintor', 7), ('llegar', 34), ('seguía', 6), ('disney', 1), ('tigres', 5), ('robot', 2), ('mencionó', 4), ('ríe', 5), ('jamás', 24), ('presionó', 2), ('cantó', 18), ('desafinado', 1), ('niña', 35), ('honesto', 20), ('whisky', 1), ('tendencia', 2), ('nara', 3), ('sobrevivirá', 4), ('comediante', 2), ('jardinero', 2), ('realmente', 149), ('rostro', 4), ('iluminó', 1), ('cabello', 8), ('álbum', 8), ('¡eh', 4), ('falsa', 6), ('1245', 1), ('hacemos', 15), ('sentís', 6), ('sienten', 6), ('fascinante', 7), ('humillante', 3), ('interesante', 21), ('terminará', 1), ('muchachas', 3), ('españa', 3), ('tokio', 23), ('quitando', 2), ('lengua', 9), ('reservé', 1), ('quebré', 2), ('permitir', 17), ('permitírmelo', 1), ('apañármelas', 1), ('aguanto', 10), ('soportarlo', 4), ('sentir', 7), ('rendirme', 3), ('oír', 14), ('evitarlo', 4), ('veros', 5), ('verle', 5), ('deshacerlo', 1), ('resfrié', 2), ('pillé', 1), ('capturé', 1), ('anguila', 2), ('cogí', 4), ('acobardé', 1), ('cociné', 2), ('podía', 28), ('dedo', 17), ('escuché', 13), ('comprendo', 12), ('pillado', 1), ('sequé', 1), ('muerte', 28), ('traicionada', 1), ('febril', 1), ('impotente', 2), ('desamparado', 1), ('indefenso', 6), ('excluido', 1), ('rechazado', 6), ('daban', 1), ('tosté', 1), ('adiviné', 1), ('correctamente', 3), ('acerté', 1), ('opción', 23), ('política', 3), ('mapaches', 1), ('reptiles', 2), ('tomates', 4), ('barbita', 1), ('chivo', 2), ('caspa', 1), ('fiebre', 18), ('centimo', 4), ('chavo', 5), ('mango', 5), ('lapiceras', 1), ('bolígrafos', 5), ('apurarme', 1), ('automóviles', 1), ('trabajos', 4), ('tambores', 1), ('sirva', 1), ('tobillo', 5), ('codo', 3), ('imaginé', 2), ('ganaríamos', 1), ('cuál', 8), ('aprendí', 20), ('dibujos', 3), ('animados', 1), ('caricaturas', 1), ('escalada', 2), ('automóvil', 8), ('partida', 5), ('comedias', 1), ('berenjenas', 2), ('aprender', 33), ('festejar', 2), ('casamientos', 1), ('bodas', 2), ('herir', 1), ('conocido', 10), ('ayudarla', 5), ('ayudarlo', 3), ('obedecer', 4), ('decírselo', 7), ('advertirle', 2), ('internet', 3), ('escalera', 10), ('lápiz', 26), ('ducha', 15), ('pañuelo', 6), ('pastillas', 3), ('tijeras', 3), ('afeitarme', 1), ('rindo', 3), ('pedí', 34), ('burlé', 2), ('béisbol', 24), ('campo', 9), ('jugaba', 5), ('jugué', 4), ('cubierto', 4), ('refugiarme', 1), ('competí', 1), ('alcalde', 10), ('soné', 2), ('campana', 8), ('campanilla', 1), ('leído', 5), ('reconozco', 6), ('corro', 4), ('sacudí', 1), ('arriesgué', 1), ('totalmente', 25), ('traté', 10), ('dólar', 2), ('devolución', 1), ('evidencias', 2), ('pruebas', 7), ('profesora', 16), ('nací', 15), ('preocupado', 22), ('extenuado', 3), ('petrificado', 2), ('escéptico', 4), ('sorprendió', 10), ('compras', 10), ('10', 5), ('ayudaré', 5), ('detendré', 3), ('negaré', 1), ('negar', 4), ('leerlo', 8), ('estaría', 10), ('volvería', 2), ('haría', 18), ('tenedor', 5), ('arreglaré', 1), ('placer', 10), ('traeré', 4), ('ford', 3), ('vendré', 7), ('buscaré', 1), ('doble', 6), ('premiaré', 1), ('recompensaré', 1), ('entenderé', 1), ('comprenderé', 1), ('cristiano', 4), ('adicto', 6), ('tv', 4), ('carpintero', 1), ('maderero', 1), ('detective', 3), ('salvavidas', 3), ('masoquista', 1), ('ave', 4), ('nocturna', 5), ('atrasado', 11), ('ingeniero', 4), ('banco', 34), ('enterado', 4), ('suplicando', 1), ('implorando', 1), ('llamando', 15), ('comprendiendo', 1), ('daltónico', 1), ('cómodo', 7), ('cómoda', 3), ('vuelvo', 6), ('carcajeo', 1), ('extrovertida', 1), ('friendo', 3), ('apuros', 2), ('aprieto', 1), ('bañadera', 1), ('bromeo', 1), ('zurdo', 2), ('propio', 16), ('miope', 1), ('celosa', 5), ('perfecta', 8), ('especial', 16), ('gritando', 7), ('armado', 2), ('mente', 10), ('abierta', 31), ('desbordado', 1), ('abrumado', 1), ('dolorido', 1), ('responsable', 5), ('desmañado', 1), ('modesto', 3), ('podrido', 5), ('farfullando', 3), ('¿respira', 1), ('respirando', 4), ('peligroso', 24), ('¿cubre', 1), ('noticia', 17), ('venenoso', 1), ('pequeña', 17), ('doctora', 5), ('radio', 38), ('río', 21), ('viernes', 10), ('¿hoy', 6), ('molesta', 8), ('parecer', 4), ('suceder', 5), ('verdaderamente', 17), ('¡suena', 1), ('siglos', 1), ('fabuloso', 5), ('hecha', 11), ('largo', 33), ('suave', 5), ('importará', 3), ('empeorará', 1), ('lloverá', 9), ('callejón', 5), ('salida', 9), ('seta', 1), ('atajo', 8), ('sorpresa', 16), ('engendro', 1), ('artificial', 1), ('botado', 2), ('imposible', 16), ('inevitable', 2), ('irrelevante', 4), ('engañoso', 2), ('refrescante', 2), ('sofocante', 1), ('agobio', 1), ('solamente', 5), ('pruébatela', 1), ('envuélvalo', 2), ('tenlo', 1), ('tenedlo', 3), ('practicando', 5), ('¡guarde', 1), ('koalas', 1), ('plomo', 1), ('metal', 3), ('mensaje', 33), ('dejadle', 1), ('limones', 2), ('ácidos', 1), ('amargos', 1), ('llevarlo', 2), ('averiguarlo', 4), ('arregle', 3), ('celebremos', 1), ('terminemos', 4), ('remontemos', 4), ('barriletes', 1), ('cometas', 4), ('volemos', 4), ('cometa', 6), ('olvidémoslo', 1), ('tomemos', 5), ('llevémonos', 1), ('emborrachémonos', 1), ('embriaguémonos', 1), ('curémonos', 1), ('alistémonos', 1), ('colectivo', 11), ('descansemos', 1), ('quedémonos', 1), ('paremos', 3), ('intentemos', 3), ('visitemos', 1), ('equitativa', 1), ('oficina', 26), ('cielo', 27), ('aflojate', 1), ('servida', 4), ('achícalo', 1), ('¡haz', 1), ('¡haced', 1), ('¡armad', 1), ('¡mete', 1), ('boche', 2), ('viuda', 1), ('resplandeciente', 1), ('radiante', 2), ('sobrina', 2), ('esté', 30), ('veámonos', 3), ('reúnete', 1), ('pelo', 69), ('voló', 6), ('camisa', 51), ('húmeda', 1), ('zapatos', 78), ('chirrían', 2), ('olvides', 22), ('botella', 13), ('abran', 4), ('¡abra', 2), ('¡abre', 2), ('¡abrid', 1), ('¡abran', 1), ('divertidas', 2), ('aburren', 1), ('llámalo', 8), ('prosiga', 1), ('arreglad', 1), ('arreglá', 1), ('arreglen', 1), ('dímelo', 1), ('leé', 1), ('recuérdamelo', 1), ('repite', 3), ('repítemelo', 1), ('ensilla', 1), ('cuida', 4), ('dile', 13), ('drogas', 9), ('envíelo', 2), ('correo', 15), ('aéreo', 2), ('envíalo', 1), ('mándemelos', 1), ('durmió', 16), ('perdonó', 4), ('cantante', 15), ('despreocupada', 2), ('grácil', 1), ('casó', 17), ('apuñaló', 3), ('ató', 2), ('quitó', 21), ('jadeando', 4), ('brasileña', 1), ('asertiva', 1), ('preciosa', 8), ('piedad', 3), ('tenga', 14), ('muestra', 3), ('cartas', 20), ('mostraos', 1), ('derecho', 13), ('tosió', 2), ('ayude', 10), ('perdón', 19), ('¡toca', 1), ('alarma', 6), ('sonar', 6), ('piensas', 10), ('ortografía', 1), ('cenar', 15), ('¡quedate', 1), ('roba', 1), ('cotilla', 2), ('marujees', 1), ('párese', 2), ('dejad', 1), ('reñiros', 1), ('señora', 4), ('aspirina', 4), ('durar', 6), ('brincó', 4), ('funcionar', 11), ('iglesia', 16), ('pagoda', 1), ('niñada', 1), ('dudoso', 2), ('vestido', 34), ('personal', 7), ('terrible', 19), ('cordero', 1), ('húmedo', 2), ('echada', 4), ('abrió', 24), ('motor', 8), ('extinguió', 3), ('lago', 16), ('hojas', 5), ('luna', 11), ('red', 2), ('cortó', 13), ('radar', 1), ('calurosa', 1), ('mar', 11), ('color', 11), ('gris', 3), ('soldado', 9), ('fría', 17), ('pozo', 7), ('riesgo', 10), ('¡ahí', 2), ('geniales', 4), ('estupendos', 4), ('hablaron', 3), ('charlaron', 1), ('actores', 1), ('melones', 1), ('pilotos', 1), ('lindos', 3), ('lindas', 1), ('amarillos', 2), ('amarillas', 2), ('cenaron', 3), ('cambiar', 19), ('liebre', 1), ('beben', 3), ('temían', 1), ('saludaron', 1), ('tomaron', 5), ('ignoraron', 2), ('viven', 35), ('separados', 3), ('contentos', 5), ('contentas', 1), ('vinieron', 6), ('ataron', 2), ('entendieron', 1), ('equivocados', 8), ('equivocadas', 3), ('quedarán', 2), ('matarán', 1), ('gustará', 5), ('responderán', 1), ('rusos', 2), ('rusas', 2), ('discutiendo', 2), ('correctos', 1), ('becarios', 1), ('prácticas', 1), ('celosos', 1), ('nerviosos', 3), ('charlando', 4), ('aguardando', 1), ('preocupados', 7), ('hotel', 28), ('basura', 10), ('mahjong', 1), ('destino', 17), ('chévere', 3), ('muchacho', 14), ('final', 15), ('aquellos', 8), ('regalos', 5), ('tíraselo', 1), ('tírasela', 1), ('limitado', 2), ('tiempos', 11), ('duros', 3), ('errar', 1), ('horneó', 4), ('responsabilizó', 1), ('pilló', 1), ('persiguió', 3), ('asfixió', 1), ('contribuyó', 2), ('aprobó', 4), ('abandonó', 17), ('exageró', 1), ('exagera', 1), ('obtuvo', 5), ('emocionó', 1), ('disparo', 4), ('piano', 30), ('musulmán', 1), ('banquero', 5), ('cyborg', 1), ('leyenda', 2), ('maníaco', 1), ('sangrando', 5), ('creativo', 1), ('divorciado', 1), ('desconfiado', 1), ('amistoso', 1), ('guapo', 12), ('entrado', 3), ('shock', 2), ('inseguro', 4), ('insolente', 2), ('inspirado', 1), ('implicado', 1), ('aprendiendo', 17), ('socio', 2), ('enemigo', 20), ('perverso', 2), ('atarantado', 1), ('meticuloso', 1), ('ruidoso', 3), ('entrenando', 2), ('defraudó', 2), ('mentido', 4), ('vivía', 5), ('tenso', 2), ('fatigado', 1), ('haber', 66), ('quizás', 17), ('desfallecer', 1), ('desmayarse', 1), ('confundió', 1), ('echó', 12), ('bromea', 1), ('achuchó', 1), ('leía', 2), ('novelas', 8), ('suavemente', 2), ('sentado', 15), ('abatió', 1), ('robó', 21), ('entiende', 20), ('advirtió', 6), ('enfermero', 3), ('desorientado', 2), ('artero', 1), ('impactado', 2), ('pasmado', 3), ('averiguará', 1), ('recordará', 2), ('primo', 10), ('bostezar', 2), ('apaga', 8), ('apagad', 1), ('encienda', 4), ('destraba', 1), ('lavá', 2), ('cuidadosamente', 6), ('odiamos', 3), ('profesores', 9), ('maestros', 3), ('arrestamos', 1), ('ayudarlos', 5), ('cerramos', 2), ('contamos', 1), ('crudo', 5), ('visita', 5), ('salimos', 6), ('zona', 3), ('picnics', 1), ('waffles', 1), ('gofres', 1), ('conocimos', 9), ('pagamos', 1), ('cantamos', 1), ('compartimos', 4), ('ideas', 12), ('andamos', 2), ('justicia', 2), ('votar', 15), ('éramos', 10), ('seremos', 4), ('asesinados', 2), ('detendremos', 1), ('visitaremos', 4), ('canadienses', 9), ('disponibles', 1), ('cordiales', 1), ('fundidos', 1), ('imparciales', 1), ('organizados', 1), ('prisioneros', 2), ('satisfechos', 6), ('bebidos', 1), ('estado', 101), ('bravo', 1), ('¿estabais', 2), ('catástrofe', 2), ('continuación', 4), ('pasando', 27), ('sucede', 11), ('premio', 17), ('correrás', 1), ('peine', 4), ('zoológico', 7), ('¿cuáles', 15), ('individuo', 1), ('enfadados', 5), ('enfadadas', 5), ('tristes', 8), ('preguntaste', 5), ('llorabas', 1), ('lloraste', 1), ('corriste', 1), ('soñamos', 1), ('harías', 4), ('respuesta', 58), ('anota', 6), ('anote', 4), ('anoten', 2), ('anotad', 4), ('traicionaste', 5), ('engañaste', 3), ('escondas', 5), ('decírnoslo', 1), ('merecías', 2), ('bobo', 1), ('suertudo', 3), ('alegrado', 1), ('deberían', 14), ('dormías', 1), ('dormían', 1), ('alcanzarás', 1), ('descubrirás', 2), ('perderás', 3), ('agradecerás', 1), ('agradecer', 1), ('donnadie', 1), ('murmurando', 7), ('chismorreando', 3), ('decidido', 15), ('decidida', 1), ('remedio', 3), ('inocentes', 1), ('perteneces', 1), ('enemiga', 6), ('enemigos', 15), ('enemigas', 5), ('fiar', 7), ('estancado', 1), ('atascado', 4), ('alas', 6), ('ladrando', 3), ('zorro', 5), ('accidentes', 6), ('ocurren', 3), ('invisible', 1), ('toda', 72), ('lastimando', 2), ('aplica', 3), ('aplique', 1), ('apliquen', 1), ('japoneses', 5), ('mago', 5), ('sonrojando', 1), ('¿sois', 7), ('bebiendo', 11), ('flexible', 3), ('congelando', 1), ('estudiantes', 15), ('¿estudias', 7), ('estudias', 7), ('pregúntate', 1), ('atlántida', 2), ('¡sea', 1), ('franco', 1), ('muerdete', 1), ('cepíllese', 1), ('dientes', 27), ('cepíllense', 1), ('cepíllate', 3), ('lentos', 1), ('permiten', 2), ('tocar', 25), ('conejos', 10), ('quedarnos', 5), ('apuntarnos', 1), ('confiar', 39), ('llamarlo', 2), ('encontrarla', 1), ('descubrirlo', 3), ('levantaros', 1), ('enseñarme', 5), ('verifique', 3), ('datos', 3), ('carpeta', 2), ('buzón', 2), ('orden', 17), ('cerezas', 1), ('elige', 7), ('sabiamente', 4), ('espejo', 5), ('persianas', 1), ('cajón', 5), ('ventana', 45), ('cierre', 9), ('cierren', 2), ('únetenos', 2), ('sentarte', 4), ('consulte', 2), ('¡contrólate', 2), ('¡modérese', 1), ('¡controlate', 1), ('¡pará', 1), ('contrólate', 1), ('cookie', 1), ('cruza', 2), ('puente', 12), ('papas', 10), ('¿pagó', 2), ('tenían', 14), ('¿dijeron', 1), ('¿encontraste', 6), ('divertiste', 3), ('pasaste', 3), ('mataste', 4), ('¿conocías', 1), ('conocíais', 1), ('conocías', 3), ('encontraste', 9), ('votado', 3), ('advertiste', 1), ('dar', 40), ('inyección', 3), ('quiera', 17), ('¿lloras', 1), ('¿seguido', 1), ('lloras', 4), ('¿niegas', 1), ('¿alguna', 11), ('descansas', 1), ('¿tienen', 13), ('bichos', 1), ('lluvia', 21), ('¿vives', 5), ('¿vivís', 2), ('¿viven', 1), ('¿vive', 4), ('¿necesitáis', 1), ('¿juega', 1), ('¿juegan', 1), ('¿querés', 44), ('¿que', 2), ('deberes', 12), ('preguntéis', 1), ('bruto', 1), ('desanimado', 3), ('desanimada', 1), ('bebáis', 2), ('exageréis', 1), ('atrapen', 2), ('ligero', 5), ('comas', 8), ('cable', 2), ('riñas', 1), ('eches', 2), ('reprimenda', 1), ('sermonees', 1), ('desanimes', 2), ('muecas', 2), ('menciones', 2), ('opongas', 1), ('estafes', 1), ('fume', 3), ('habléis', 1), ('acuses', 1), ('delates', 1), ('toquéis', 3), ('uses', 6), ('dragones', 3), ('molan', 1), ('guays', 2), ('guay', 3), ('trace', 1), ('bailaba', 2), ('saltaron', 1), ('ríen', 1), ('alegraron', 1), ('hubo', 16), ('vitoreo', 1), ('general', 2), ('aclamación', 1), ('triunfa', 1), ('explícamelo', 3), ('acláramelo', 1), ('explíquese', 1), ('¡pelea', 2), ('depósito', 2), ('consejo', 40), ('¡seguir', 1), ('¿con', 30), ('propósito', 8), ('súbanse', 1), ('grano', 6), ('chance', 1), ('martillo', 9), ('espada', 4), ('¡entrégame', 1), ('dáselos', 2), ('danos', 5), ('diviértete', 2), ('garaje', 2), ('escaleras', 19), ('paraguas', 21), ('pásame', 11), ('cruasán', 4), ('tengáis', 3), ('ponche', 2), ('decidiste', 6), ('portó', 4), ('arruinó', 4), ('infringió', 1), ('cuernos', 2), ('alegría', 7), ('merece', 14), ('recientemente', 2), ('repente', 9), ('cumple', 4), ('fascinaba', 1), ('reparó', 3), ('pocos', 11), ('melena', 1), ('picasso', 2), ('piernas', 22), ('largas', 9), ('zanahorias', 7), ('colgó', 4), ('italiano', 3), ('distraído', 3), ('universitario', 6), ('universidad', 5), ('pijamas', 2), ('sobrepeso', 2), ('diario', 13), ('acerca', 36), ('animales', 15), ('cazar', 3), ('naranjas', 15), ('sonreír', 8), ('lentes', 21), ('jugó', 4), ('izó', 1), ('endeudó', 1), ('permaneció', 4), ('fácilmente', 16), ('grita', 3), ('comparte', 2), ('aterroriza', 4), ('volteó', 3), ('giró', 4), ('ipad', 3), ('nació', 20), ('francia', 6), ('persistente', 3), ('pegar', 1), ('árabe', 4), ('bárbaro', 1), ('historiador', 1), ('astuto', 9), ('lisboa', 1), ('envejeciendo', 3), ('senil', 1), ('solitario', 4), ('salud', 10), ('riqueza', 3), ('ponerme', 2), ('bici', 5), ('bébete', 2), ('bebeos', 1), ('rojos', 7), ('furiosa', 2), ('aguantá', 1), ('contén', 1), ('respiración', 4), ('momentito', 1), ('hierba', 5), ('declara', 1), ('melodramático', 2), ('mides', 2), ('gafe', 1), ('iba', 28), ('crecido', 1), ('llevas', 8), ('aborrezco', 2), ('violencia', 7), ('ahogué', 1), ('cedo', 1), ('poquito', 4), ('contra', 17), ('guerra', 35), ('estupefacto', 1), ('brasil', 2), ('noruega', 1), ('bruja', 1), ('relativamente', 1), ('cariño', 3), ('convertido', 2), ('empecé', 6), ('sudar', 3), ('comienzo', 10), ('inclinación', 1), ('educadamente', 1), ('golpeé', 1), ('rodilla', 6), ('antes', 56), ('apenas', 29), ('mentes', 1), ('moverlo', 2), ('ápice', 1), ('quejarme', 1), ('quejar', 1), ('odiarte', 4), ('oírte', 8), ('oíros', 2), ('oírles', 1), ('oírle', 1), ('ayudaros', 9), ('alcanzar', 3), ('mostrarte', 2), ('soporto', 10), ('pararla', 3), ('detenerla', 1), ('pararle', 2), ('agarré', 4), ('gripe', 4), ('engripé', 1), ('matarte', 5), ('matarlo', 2), ('matarla', 2), ('mataros', 2), ('matarlos', 2), ('matarlas', 2), ('ligera', 2), ('preguntado', 6), ('aposta', 2), ('adrede', 3), ('aún', 66), ('simpatiza', 1), ('caes', 3), ('relajarme', 3), ('soledad', 1), ('detalles', 11), ('halagado', 1), ('refrescado', 1), ('comparto', 7), ('gorra', 6), ('700', 3), ('parque', 15), ('química', 5), ('hipocresía', 2), ('sorpresas', 4), ('viajar', 27), ('granada', 1), ('scooter', 1), ('ardor', 1), ('elección', 20), ('duda', 5), ('futuro', 10), ('vídeo', 3), ('anular', 1), ('suspenderlo', 1), ('cancelar', 1), ('cumplí', 2), ('veinte', 8), ('conseguir', 18), ('pateé', 1), ('normas', 13), ('australia', 27), ('chocolate', 8), ('idiomas', 8), ('pop', 1), ('playa', 19), ('gustás', 1), ('gustaban', 3), ('estima', 1), ('astronomía', 1), ('yemas', 1), ('fortuna', 7), ('cometí', 3), ('desayuno', 15), ('enfadar', 3), ('agradecérselo', 2), ('masaje', 2), ('milagro', 3), ('primeros', 3), ('auxilios', 3), ('jabón', 4), ('deuda', 6), ('computadora', 12), ('pinté', 3), ('plantado', 1), ('árbol', 19), ('violoncelo', 1), ('flauta', 2), ('apunté', 3), ('milla', 3), ('etiqueta', 2), ('rehusé', 1), ('arrepiento', 6), ('aconsejen', 1), ('dirijo', 2), ('contuve', 1), ('burlona', 2), ('nado', 3), ('entendido', 9), ('solía', 45), ('visité', 3), ('despidan', 2), ('divorciarme', 1), ('divorcio', 2), ('pancho', 2), ('martini', 1), ('comérmelo', 1), ('jubilarme', 2), ('2003', 1), ('asombrado', 1), ('piedra', 7), ('infeliz', 3), ('intentaré', 6), ('callado', 8), ('quejaría', 1), ('pondría', 2), ('queja', 5), ('ensalada', 10), ('investigaría', 1), ('echaría', 1), ('apoyaré', 1), ('castigarán', 2), ('¡voy', 1), ('batirte', 1), ('agarrar', 1), ('madrazos', 1), ('comprobaré', 1), ('seguir', 20), ('tí', 1), ('recogeré', 3), ('protegeré', 1), ('consultaré', 1), ('almohada', 3), ('pueda', 8), ('lavar', 10), ('prima', 3), ('traductor', 3), ('ando', 8), ('chilla', 1), ('hule', 2), ('humor', 18), ('anciana', 6), ('registrando', 1), ('decepcionado', 10), ('almorzando', 11), ('enloqueciendo', 1), ('disponible', 5), ('estados', 7), ('unidos', 7), ('dispuesto', 5), ('colaborar', 1), ('educan', 1), ('enseñan', 1), ('guardés', 2), ('cuido', 2), ('invitando', 1), ('clase', 33), ('católica', 1), ('mendigo', 1), ('delator', 1), ('embaucando', 1), ('drogo', 1), ('suicida', 3), ('aliado', 1), ('cegato', 1), ('orgulloso', 29), ('orgullosa', 8), ('retraso', 8), ('hastiada', 1), ('quedo', 5), ('nerviosa', 4), ('relajada', 1), ('mucha', 53), ('ahorrando', 1), ('dibujado', 1), ('sentido', 20), ('¿verdad', 64), ('sospechoso', 9), ('contactar', 2), ('¿todo', 5), ('contagioso', 3), ('adecuado', 3), ('roja', 16), ('abierto', 11), ('flor', 9), ('puzzle', 4), ('¿éste', 1), ('dvd', 1), ('¿tu', 14), ('llover', 30), ('2', 2), ('euros', 2), ('enchinada', 1), ('emboscada', 3), ('lloviznaba', 2), ('excesivo', 3), ('fantástico', 7), ('medio', 10), ('cual', 1), ('hacía', 13), ('ayer', 96), ('aterrador', 4), ('llevará', 1), ('horas', 22), ('suena', 44), ('grupo', 11), ('lluvioso', 1), ('soleado', 4), ('mediodía', 14), ('complicado', 10), ('temporada', 2), ('venados', 1), ('oscurecido', 2), ('droga', 2), ('mono', 7), ('truco', 7), ('lógico', 3), ('natural', 6), ('inusual', 1), ('sofá', 11), ('segunda', 4), ('improbable', 4), ('amargo', 10), ('asia', 3), ('manténgame', 1), ('informado', 11), ('manteneme', 1), ('fuerza', 10), ('patada', 2), ('abandónalo', 1), ('dejádmelo', 1), ('cargue', 1), ('suéltame', 3), ('suelta', 2), ('suelte', 1), ('soltadme', 1), ('permíteme', 7), ('tratar', 3), ('barrilete', 1), ('papalote', 1), ('probemos', 6), ('almorcemos', 2), ('olvidemos', 1), ('baraja', 2), ('pesquemos', 1), ('candela', 1), ('vela', 6), ('libertad', 8), ('inmortal', 1), ('bajen', 5), ('permiso', 4), ('marimacho', 2), ('chicazo', 2), ('encantadora', 4), ('abrir', 29), ('funcione', 6), ('azules', 7), ('adoloridos', 2), ('fríos', 2), ('pequeñita', 1), ('minúscula', 1), ('pulso', 8), ('elevado', 1), ('quemadura', 1), ('garganta', 5), ('juguete', 5), ('dañado', 1), ('pega', 3), ('conocerte', 9), ('prestó', 2), ('previno', 4), ('importar', 3), ('ilesos', 1), ('esfuerzo', 9), ('enseñado', 4), ('enseñó', 12), ('erróneo', 3), ('intentad', 2), ('intente', 2), ('intenten', 2), ('ventanas', 13), ('gane', 3), ('ketchup', 3), ('ridícula', 5), ('mascotas', 1), ('contestame', 1), ('educado', 11), ('calmaos', 1), ('tranquilícese', 1), ('pásate', 3), ('copiad', 1), ('copie', 1), ('copiá', 1), ('copien', 1), ('sígame', 1), ('retroceda', 2), ('inténtelo', 2), ('dese', 1), ('dense', 3), ('hala', 1), ('gatillo', 8), ('envía', 1), ('¡apaga', 1), ('¡dejen', 1), ('quejarse', 4), ('quejaros', 1), ('precipitación', 1), ('levantá', 2), ('levanten', 2), ('levante', 3), ('artículo', 6), ('tinto', 2), ('respétate', 1), ('venganza', 8), ('roma', 6), ('italia', 7), ('ahórrate', 4), ('saliva', 1), ('palabrería', 1), ('oraciones', 1), ('véalo', 1), ('compártelo', 1), ('compartilo', 2), ('derrotó', 1), ('despreció', 1), ('desprecia', 3), ('1960', 2), ('divorció', 2), ('idolatraba', 1), ('insultó', 6), ('pianista', 4), ('calcetines', 14), ('rechazó', 12), ('rechaza', 1), ('montó', 3), ('camello', 2), ('chao', 1), ('cantaba', 3), ('alegremente', 1), ('melancólicamente', 1), ('carretero', 1), ('fijó', 2), ('mirada', 7), ('arduamente', 1), ('promovida', 1), ('venderla', 2), ('mostranos', 1), ('tamaño', 9), ('disculpe', 7), ('tardanza', 4), ('disculparte', 2), ('disculpes', 1), ('evitarme', 1), ('metiche', 1), ('interferir', 2), ('pellizcarme', 1), ('asustar', 1), ('presumir', 1), ('sobarme', 1), ('tocarme', 2), ('saquen', 2), ('precaución', 1), ('¡dímelo', 2), ('cordialmente', 1), ('mochila', 12), ('ayudado', 4), ('asombroso', 5), ('mejorable', 1), ('mejorarse', 1), ('hermoso', 27), ('discutible', 2), ('deshonesto', 4), ('asunto', 18), ('ofensivo', 2), ('problemático', 1), ('reventó', 3), ('globo', 3), ('pesada', 4), ('jaula', 6), ('vacía', 20), ('marrón', 2), ('tictac', 2), ('cortina', 2), ('telón', 1), ('muriéndose', 1), ('chirrió', 2), ('¡se', 1), ('jurado', 1), ('desacuerdo', 1), ('resultó', 7), ('clara', 7), ('bombilla', 1), ('fundida', 1), ('apagada', 1), ('micrófono', 1), ('lechero', 2), ('fiesta', 29), ('piscina', 5), ('carrera', 12), ('paró', 16), ('carretera', 5), ('congelada', 2), ('oscura', 8), ('show', 4), ('función', 1), ('despejado', 2), ('tormenta', 7), ('amainó', 1), ('aflojó', 3), ('gemelas', 2), ('secó', 5), ('curó', 1), ('cabe', 2), ('apuro', 3), ('límite', 3), ('lastiman', 2), ('observaron', 1), ('comtemplaron', 1), ('cantantes', 1), ('degradaron', 1), ('descendieron', 1), ('merecían', 1), ('desprecian', 3), ('desaparecieron', 2), ('cavaron', 1), ('tumba', 2), ('casaron', 1), ('sensatos', 1), ('mintieron', 2), ('confiaron', 1), ('confiaban', 2), ('comían', 1), ('cederán', 1), ('encontrarán', 6), ('acordarán', 1), ('escapando', 5), ('escapan', 1), ('peleando', 6), ('inmaduros', 1), ('involucrados', 1), ('traidores', 2), ('raras', 3), ('medítalo', 1), ('medita', 1), ('antiguo', 6), ('encaja', 3), ('839', 1), ('lujo', 3), ('entrenador', 3), ('entrenadora', 1), ('relajante', 3), ('sabotaje', 1), ('faltaba', 1), ('cds', 2), ('admira', 2), ('pierde', 6), ('saciarse', 1), ('evitaba', 1), ('cuidó', 3), ('trajo', 9), ('venía', 4), ('decidir', 3), ('rehusarse', 1), ('convenció', 4), ('detesta', 5), ('divirtió', 4), ('tuberculosis', 1), ('2009', 1), ('darse', 5), ('perilla', 2), ('coartada', 4), ('pecas', 2), ('insomnio', 1), ('aceitunas', 2), ('ignoró', 3), ('fascista', 1), ('luchador', 1), ('guerrero', 1), ('patriota', 1), ('plomero', 1), ('recluso', 1), ('campesino', 1), ('refugiado', 1), ('manipulador', 1), ('maquinador', 1), ('cirujano', 2), ('traidor', 7), ('camionero', 3), ('viudo', 1), ('ambicioso', 3), ('brillante', 8), ('volviendo', 14), ('embustero', 3), ('excéntrico', 2), ('emocional', 3), ('enérgico', 1), ('despistado', 5), ('honorable', 1), ('mejorando', 8), ('ocultando', 9), ('sincero', 2), ('sobrino', 3), ('obsesivo', 1), ('perplejo', 3), ('indeciso', 4), ('debilitando', 1), ('debilita', 1), ('silbando', 2), ('hockey', 2), ('ponis', 1), ('reggae', 1), ('encendió', 14), ('prendió', 8), ('horno', 3), ('lucía', 4), ('fiero', 1), ('deportes', 8), ('puñetazo', 2), ('rescató', 1), ('sentó', 33), ('tronco', 1), ('regañó', 1), ('agradeció', 2), ('zancadilleó', 1), ('visitó', 7), ('alejó', 2), ('pony', 1), ('raptado', 2), ('ejecutado', 2), ('dudando', 1), ('torturado', 3), ('observó', 4), ('observa', 3), ('encontrará', 6), ('amará', 5), ('alegrará', 1), ('aparecerá', 1), ('tendrá', 6), ('éxito', 25), ('entrará', 1), ('trabajaba', 8), ('preocuparos', 2), ('preocuparse', 8), ('tratad', 1), ('trate', 1), ('llevarte', 2), ('procura', 1), ('congeniar', 1), ('tuerce', 1), ('gire', 1), ('girad', 2), ('involucrado', 5), ('dedos', 16), ('riega', 1), ('plantas', 4), ('aceptamos', 4), ('cheques', 5), ('odiábamos', 1), ('amábamos', 1), ('confiamos', 2), ('llegamos', 9), ('competimos', 1), ('vinimos', 3), ('230', 16), ('dependemos', 2), ('molestamos', 1), ('dimos', 8), ('crisis', 2), ('teoría', 7), ('visitas', 4), ('oímos', 12), ('tiros', 2), ('escuchamos', 4), ('topamos', 1), ('acabamos', 8), ('referimos', 1), ('pasada', 23), ('evacuar', 3), ('sentarnos', 5), ('avisarle', 2), ('retirarnos', 1), ('líder', 8), ('regreses', 1), ('apegados', 1), ('encallados', 1), ('estudiábamos', 1), ('entusiasmados', 1), ('partido', 8), ('rescatados', 1), ('encontraremos', 6), ('sabremos', 2), ('notificaremos', 1), ('pagaremos', 2), ('hablaremos', 2), ('compañeros', 2), ('llevamos', 3), ('historiadores', 1), ('apurados', 3), ('socorristas', 1), ('rodeados', 2), ('completamente', 32), ('película', 41), ('bonita', 29), ('larga', 20), ('dijisteis', 3), ('querés', 19), ('desgracia', 1), ('pachuca', 1), ('toluca', 1), ('mudarnos', 1), ('empezamos', 9), ('¿cúando', 1), ('aparcar', 8), ('estacionar', 4), ('¿hacia', 5), ('empiezo', 5), ('aduana', 2), ('cuchilla', 1), ('resto', 3), ('correcta', 17), ('estropeó', 3), ('llamaste', 12), ('asesinado', 5), ('hamlet', 1), ('invitarían', 1), ('viniste', 4), ('vinisteis', 1), ('renunciaste', 1), ('paraste', 2), ('quedaste', 3), ('gritaste', 1), ('ayudarás', 2), ('acompañáis', 1), ('unirás', 2), ('unirán', 1), ('abandonaste', 2), ('perturbado', 1), ('guapísima', 2), ('espléndida', 2), ('escapar', 19), ('lidias', 1), ('mereces', 9), ('golpearon', 1), ('entendiste', 2), ('pulsera', 1), ('mami', 2), ('lastimaste', 1), ('diriges', 1), ('defraudaste', 1), ('sorprendido', 15), ('sorprendida', 5), ('atrasaste', 1), ('lleves', 2), ('equivoques', 1), ('decírmelo', 1), ('pasatiempo', 6), ('lees', 4), ('salvado', 5), ('deberíais', 9), ('empezar', 40), ('estuviste', 10), ('moriréis', 1), ('morirán', 2), ('ajustarás', 1), ('establecidas', 1), ('necesitarás', 2), ('impacientes', 2), ('motivados', 1), ('necesario', 11), ('autoridad', 4), ('práctico', 4), ('propietario', 1), ('sabio', 7), ('sabia', 7), ('engordado', 3), ('enrojecida', 1), ('¡tienes', 5), ('mutiló', 1), ('torrencial', 2), ('agrega', 2), ('añada', 1), ('ajusta', 2), ('frenos', 5), ('ajustad', 1), ('gratuita', 2), ('iguales', 8), ('molestando', 9), ('¿voy', 5), ('único', 16), ('arresto', 3), ('detenido', 5), ('américa', 13), ('cometió', 7), ('respóndame', 1), ('papel', 32), ('americanos', 3), ('estadounidenses', 4), ('olvidadiza', 2), ('desmemoriado', 1), ('¿salís', 1), ('¿van', 1), ('libres', 8), ('¿tocas', 3), ('¿escuchas', 1), ('creyente', 4), ('chef', 4), ('preguntale', 1), ('sincera', 2), ('sinceras', 1), ('demás', 13), ('compórtate', 1), ('¡cuidado', 1), ('construyen', 1), ('nidos', 1), ('profundamente', 18), ('inspira', 1), ('ambulancia', 12), ('hospital', 19), ('llamad', 2), ('mordida', 1), ('probarme', 3), ('¿todos', 7), ('rentar', 2), ('¿oyes', 2), ('firmar', 2), ('ocuparte', 1), ('coger', 9), ('lazo', 1), ('despedir', 3), ('champaña', 1), ('elija', 3), ('click', 1), ('enlace', 4), ('pincha', 1), ('codificar', 1), ('codificación', 1), ('insisto', 1), ('admítelo', 1), ('aprisa', 1), ('apura', 1), ('tócala', 1), ('¿podrías', 26), ('callarte', 2), ('crimen', 10), ('compensa', 2), ('delincuencia', 1), ('repártenos', 1), ('naipes', 1), ('inminente', 2), ('defendeos', 1), ('pases', 3), ('vueltas', 2), ('¿desperté', 1), ('desperté', 5), ('¿hirió', 1), ('¿besó', 1), ('¿conocía', 1), ('¿fracasó', 2), ('¿compraste', 7), ('¿comprasteis', 1), ('¿compró', 1), ('¿compraron', 3), ('zumo', 8), ('¿oíste', 2), ('besado', 2), ('besaste', 2), ('¿sabías', 1), ('¿viviste', 1), ('vivido', 3), ('habías', 5), ('saliste', 2), ('¿las', 4), ('hormigas', 1), ('¿beben', 1), ('ríes', 5), ('¿tenés', 17), ('mascota', 4), ('latín', 2), ('jugo', 11), ('¿necesitas', 14), ('¿necesita', 3), ('rosa', 10), ('¿hueles', 2), ('¿comprende', 2), ('¿entendéis', 1), ('¿comprendes', 1), ('¿entiende', 1), ('¿comprendéis', 1), ('¿queréis', 9), ('dé', 3), ('¿desean', 1), ('abrace', 2), ('¿quieren', 10), ('¿importa', 1), ('cobarde', 7), ('engañéis', 2), ('cambies', 5), ('decepciones', 5), ('defraudes', 2), ('desilusiones', 2), ('busques', 1), ('repitas', 1), ('amenaces', 1), ('despiertes', 1), ('¡tira', 1), ('armas', 7), ('¡arrojen', 1), ('¡tiren', 1), ('¡arroja', 1), ('terror', 3), ('chillido', 3), ('llene', 2), ('formulario', 7), ('llená', 1), ('completá', 1), ('completa', 4), ('complete', 2), ('consígame', 1), ('cuelga', 2), ('arrodíllate', 1), ('rodillas', 3), ('poneos', 2), ('arrodillaos', 1), ('salga', 5), ('¡dámelo', 1), ('cuchara', 7), ('seguida', 9), ('señores', 4), ('noches', 10), ('señoritas', 1), ('consejera', 1), ('heno', 1), ('fiera', 1), ('chantajeó', 2), ('bloqueó', 2), ('palmó', 1), ('mejoró', 3), ('tres', 106), ('marrones', 4), ('castaño', 6), ('remordimiento', 1), ('casas', 3), ('mantuvo', 8), ('biólogo', 2), ('poeta', 3), ('nato', 2), ('temerario', 1), ('verdadero', 20), ('científico', 4), ('40', 4), ('influyente', 2), ('introvertido', 1), ('fumador', 1), ('guardó', 3), ('suicidó', 4), ('encima', 6), ('osaka', 1), ('reputación', 6), ('trasladó', 1), ('pidió', 39), ('posee', 3), ('tierra', 7), ('empujó', 3), ('rehuso', 1), ('marinero', 2), ('sacudió', 3), ('ruso', 5), ('fósforo', 2), ('estudió', 8), ('exterior', 1), ('vitaminas', 4), ('tomó', 28), ('sacó', 15), ('foto', 31), ('convirtió', 8), ('torció', 3), ('violó', 1), ('sonrisas', 1), ('encarcelado', 1), ('encolerizado', 1), ('volverá', 14), ('usaba', 1), ('pantalones', 14), ('guiones', 2), ('recuperará', 3), ('pasará', 6), ('conductor', 11), ('chofer', 3), ('periodista', 9), ('ideal', 4), ('sobreactuando', 1), ('atiende', 1), ('advertencias', 4), ('atienda', 1), ('atiendan', 1), ('pollera', 6), ('cierta', 13), ('dirección', 25), ('recibo', 4), ('ordenada', 2), ('agárraos', 2), ('agárrese', 2), ('agárrense', 2), ('sujétate', 1), ('sujétaos', 1), ('sujétese', 1), ('sujétense', 1), ('ascensor', 8), ('barandilla', 1), ('irás', 4), ('complejidad', 1), ('pasteles', 3), ('19', 2), ('vegetariano', 3), ('horneando', 3), ('deudas', 5), ('ecuador', 1), ('misma', 21), ('curiosa', 1), ('destrozado', 2), ('cebé', 1), ('anzuelo', 4), ('cactus', 1), ('nopal', 1), ('híbrido', 1), ('pasaje', 3), ('pedido', 4), ('consolarla', 1), ('chopin', 3), ('proteger', 5), ('culpar', 2), ('culparos', 1), ('culparte', 3), ('rezar', 2), ('decidí', 6), ('dimitir', 6), ('seguido', 4), ('obtenerlo', 1), ('rehusar', 1), ('exigo', 1), ('reembolso', 1), ('limpié', 4), ('besé', 2), ('robé', 4), ('reprocho', 2), ('voto', 1), ('vacuno', 1), ('pool', 1), ('billar', 2), ('pinto', 1), ('fisurado', 1), ('abandoné', 1), ('bofetón', 1), ('consigo', 9), ('acuesto', 4), ('abeja', 4), ('conseguí', 8), ('saqué', 6), ('siete', 18), ('recibido', 5), ('pasé', 12), ('pesadilla', 8), ('sufrí', 1), ('decirle', 3), ('hipócritas', 1), ('mosquitos', 1), ('padres', 49), ('ordenador', 12), ('computador', 7), ('resaca', 3), ('jaqueca', 1), ('otitis', 1), ('negros', 4), ('discos', 1), ('puntas', 2), ('abiertas', 2), ('sobrinas', 2), ('distinta', 6), ('ignoro', 2), ('inventarlo', 1), ('inventar', 2), ('vendrías', 2), ('ganarás', 1), ('cantos', 1), ('populares', 2), ('sándwiches', 1), ('chucrut', 1), ('sandía', 2), ('bufanda', 5), ('estilo', 4), ('bloqueado', 1), ('trancado', 1), ('arete', 4), ('silla', 21), ('algunas', 29), ('minutos', 17), ('teclado', 2), ('compro', 3), ('emborracho', 1), ('amé', 2), ('ordené', 7), ('100', 6), ('guitarra', 28), ('choqué', 1), ('rehúso', 2), ('salvé', 1), ('bordillo', 3), ('envié', 1), ('concuerdo', 1), ('largarme', 1), ('beber', 34), ('firmé', 1), ('jugando', 18), ('tabaco', 7), ('opinión', 28), ('pensaba', 12), ('vengué', 1), ('usé', 5), ('plato', 6), ('acostumbraba', 1), ('comúnmente', 5), ('descuento', 3), ('disculpa', 9), ('creer', 33), ('competir', 1), ('confesar', 1), ('chaqueta', 17), ('frustrado', 4), ('área', 6), ('zoo', 4), ('¡nunca', 5), ('primer', 17), ('lotería', 6), ('juzgar', 2), ('hubiera', 12), ('esperado', 5), ('agradecería', 2), ('devastado', 3), ('devolveré', 2), ('ire', 1), ('esconderé', 2), ('oraré', 1), ('rezaré', 1), ('mandar', 1), ('liberaré', 1), ('acompañaré', 3), ('trabajaré', 1), ('escribiré', 2), ('dependiente', 1), ('astrónomo', 1), ('siendo', 27), ('observado', 2), ('concentrando', 1), ('tomando', 11), ('pera', 1), ('ayuno', 1), ('poniendo', 17), ('empeorando', 5), ('alegra', 16), ('rayado', 1), ('toilette', 1), ('llevando', 2), ('adelgazando', 2), ('convencida', 1), ('abandono', 1), ('miento', 4), ('convencido', 4), ('convence', 1), ('persuade', 1), ('18', 1), ('echando', 3), ('bofes', 1), ('hígado', 2), ('muchísima', 2), ('autónomo', 4), ('bañando', 4), ('twitter', 2), ('cliente', 5), ('vecino', 13), ('perdonado', 3), ('diarrea', 1), ('cagalera', 1), ('evidencia', 4), ('rumores', 3), ('identifíquese', 2), ('puro', 4), ('toque', 6), ('impresionante', 5), ('caro', 19), ('pedazos', 3), ('sentidos', 1), ('piadosa', 1), ('egipcio', 2), ('resulta', 5), ('familiar', 5), ('resultar', 4), ('desagradable', 4), ('llovido', 2), ('daba', 5), ('sorprendente', 3), ('imprevisto', 1), ('crecer', 3), ('grasoso', 1), ('carga', 2), ('conspiración', 1), ('diccionario', 17), ('emergencia', 8), ('urgencias', 1), ('confidencial', 3), ('vivificante', 1), ('turistas', 1), ('¡todo', 2), ('humana', 1), ('bolsillo', 1), ('probablemente', 19), ('llueve', 14), ('bello', 3), ('bella', 10), ('cerrado', 9), ('subiendo', 8), ('molde', 1), ('escucharme', 3), ('escúchame', 5), ('acerques', 6), ('alejado', 5), ('alejada', 1), ('abrigo', 28), ('lleve', 5), ('permítame', 5), ('menú', 12), ('empecemos', 5), ('casémonos', 1), ('centro', 7), ('echemos', 3), ('cenemos', 1), ('démonos', 2), ('investiguemos', 1), ('escondamos', 1), ('pasemos', 2), ('cojamos', 1), ('maravillosa', 14), ('precio', 10), ('vence', 2), ('predicción', 1), ('decídete', 3), ('¡maría', 1), ('vivaracha', 1), ('vivaz', 1), ('bañar', 2), ('ponerlo', 5), ('podamos', 4), ('modales', 5), ('brazos', 7), ('entumecieron', 1), ('blancos', 8), ('pican', 3), ('atadas', 2), ('afición', 2), ('aburrida', 5), ('desaparecido', 4), ('hombro', 4), ('panza', 3), ('infalible', 2), ('ofrece', 1), ('movido', 1), ('barca', 4), ('volcó', 1), ('tené', 1), ('explícate', 1), ('explicarte', 1), ('perdóname', 3), ('perdóneme', 2), ('perdonarme', 5), ('reconsidera', 1), ('postura', 4), ('tapa', 3), ('gotera', 4), ('tapad', 1), ('tape', 1), ('tapen', 1), ('poetas', 1), ('escriben', 1), ('poemas', 7), ('ponelo', 1), ('póngalo', 4), ('apague', 3), ('¡arriba', 1), ('molestarme', 3), ('léalo', 1), ('alfombras', 1), ('absorben', 1), ('sonido', 6), ('dígalo', 2), ('decidlo', 1), ('díganlo', 1), ('atorníllalo', 1), ('firmemente', 4), ('próxima', 15), ('envíamelo', 1), ('debutó', 1), ('manejarlo', 3), ('facilidad', 15), ('emborrachó', 3), ('fotografía', 7), ('figura', 3), ('planta', 4), ('agresiva', 1), ('atractiva', 5), ('31', 1), ('secretos', 4), ('desgraciada', 1), ('apresuró', 1), ('apurar', 1), ('alemán', 8), ('polaco', 2), ('aterrorizaba', 1), ('trató', 9), ('deprimida', 2), ('subió', 15), ('amargamente', 2), ('conseguirá', 2), ('hiperactiva', 1), ('desnuda', 2), ('sonroja', 1), ('muéstreme', 2), ('muéstrenme', 1), ('¡enséñame', 2), ('cerrada', 16), ('entran', 2), ('tesoro', 1), ('resuelva', 1), ('resuelve', 1), ('surgió', 1), ('tejen', 2), ('redes', 1), ('robar', 4), ('dejate', 1), ('joder', 1), ('exagerar', 2), ('fome', 1), ('gorro', 1), ('medicina', 3), ('decidme', 2), ('termitas', 1), ('preguntarme', 1), ('antemano', 2), ('avance', 1), ('indispensable', 3), ('esencial', 1), ('fundamental', 1), ('nudo', 8), ('flojo', 3), ('bastar', 2), ('acontecerá', 1), ('abeto', 1), ('faisán', 1), ('entristecedor', 1), ('terrorífico', 1), ('espíritu', 1), ('bar', 3), ('sabroso', 5), ('sabrosa', 1), ('asustó', 3), ('espantó', 1), ('buenísima', 1), ('local', 1), ('desafilado', 1), ('amellado', 1), ('romo', 1), ('amantes', 1), ('agonizando', 1), ('mercado', 7), ('amplio', 2), ('alquiler', 5), ('templada', 1), ('cálida', 2), ('zarpó', 1), ('espesa', 3), ('táctica', 1), ('test', 2), ('continuaba', 1), ('pura', 5), ('dioses', 2), ('pelea', 7), ('obstáculo', 2), ('juicio', 7), ('carnicería', 1), ('margaritas', 1), ('verdaderos', 2), ('nuestros', 27), ('viejas', 5), ('traicionaron', 1), ('movieron', 1), ('cedieron', 1), ('escuchan', 2), ('siguieron', 8), ('cazaban', 1), ('zorros', 2), ('continuaron', 1), ('saludables', 3), ('asesinaron', 1), ('adelantaron', 1), ('hablaban', 1), ('torturaron', 2), ('maravillosos', 4), ('muertas', 1), ('idénticos', 1), ('agradables', 1), ('sorprendidos', 3), ('cubeta', 2), ('fuga', 2), ('balde', 4), ('cojonudo', 2), ('buenísimo', 2), ('riquísimo', 1), ('extorsión', 1), ('galimatías', 1), ('incoherente', 1), ('graciosísimo', 1), ('desordenado', 3), ('espagueti', 4), ('insípido', 1), ('parada', 8), ('servir', 3), ('tírame', 4), ('bola', 4), ('jueves', 1), ('contestó', 5), ('atacó', 2), ('creía', 16), ('molestia', 2), ('burdo', 1), ('cocinó', 1), ('preparó', 7), ('menospreció', 1), ('menosprecia', 2), ('tiñó', 2), ('alimentó', 1), ('traicionado', 1), ('bug', 2), ('bicho', 4), ('discurso', 10), ('insoló', 1), ('debilitó', 1), ('adivinó', 2), ('alergias', 1), ('iphone', 2), ('artritis', 1), ('piel', 6), ('ingresos', 3), ('finos', 1), ('ondulado', 2), ('imitó', 1), ('civil', 2), ('demócrata', 1), ('diseñador', 1), ('diabético', 1), ('lobista', 1), ('mecánico', 2), ('asesino', 2), ('homicida', 1), ('pacifista', 1), ('reportero', 1), ('vendedor', 2), ('hechicero', 1), ('adolescente', 1), ('debilucho', 1), ('agresivo', 2), ('diplomático', 1), ('bajando', 3), ('fascinado', 1), ('creciendo', 6), ('histérico', 1), ('indiscreto', 2), ('intolerante', 1), ('hipnotizado', 3), ('novio', 19), ('padrastro', 3), ('alumno', 2), ('empacando', 2), ('apasionado', 1), ('tartamudeando', 1), ('ganador', 4), ('infiel', 2), ('fiable', 4), ('tajante', 1), ('vulnerable', 2), ('cediendo', 1), ('empatía', 1), ('rubias', 2), ('langosta', 1), ('tejer', 1), ('cigarro', 6), ('estufa', 5), ('puestas', 2), ('malinterpretó', 1), ('pausa', 2), ('ofendió', 2), ('poseía', 2), ('renta', 3), ('intoxicó', 1), ('postuló', 4), ('ante', 10), ('reconoció', 4), ('jubiló', 1), ('asaltó', 1), ('pacientemente', 2), ('video', 3), ('firmó', 6), ('confidencialidad', 1), ('adc', 1), ('estafó', 2), ('amenazó', 3), ('usó', 3), ('vomitó', 1), ('resultados', 6), ('absuelto', 2), ('secuestrado', 2), ('estrangulado', 1), ('aterrorizado', 3), ('descubrirá', 3), ('diría', 9), ('sabría', 1), ('poesía', 2), ('incompetente', 6), ('imparable', 2), ('calmarte', 2), ('tranquilizarte', 2), ('voltéate', 1), ('prendé', 1), ('giren', 1), ('cervezas', 1), ('úsalo', 1), ('piérdelo', 1), ('¡visítenos', 1), ('¡espere', 1), ('abandonado', 6), ('líquido', 1), ('aborrecemos', 1), ('defectos', 4), ('creemos', 2), ('cultivamos', 2), ('bailamos', 2), ('juntas', 5), ('tomamos', 2), ('metimos', 2), ('aprendimos', 3), ('anhelamos', 1), ('admiramos', 1), ('misterios', 3), ('facultad', 1), ('echamos', 5), ('apurarnos', 3), ('mantener', 10), ('empleos', 2), ('reconocimos', 1), ('alquilamos', 2), ('canoa', 1), ('partir', 10), ('aspiramos', 2), ('felicidad', 11), ('comprendemos', 3), ('estuvimos', 4), ('vecinos', 8), ('batalla', 3), ('aventureros', 1), ('invitados', 12), ('indefensos', 1), ('desvalidos', 2), ('extrovertidos', 1), ('conejillos', 1), ('indias', 1), ('periodistas', 1), ('perfectos', 1), ('adictos', 1), ('probando', 2), ('escondernos', 3), ('abrigada', 1), ('colección', 1), ('novedosa', 1), ('original', 1), ('sentiste', 1), ('sintieron', 3), ('escondiste', 4), ('ocurre', 5), ('pretendía', 3), ('dirás', 1), ('pasaría', 2), ('olor', 9), ('cuánto', 10), ('escribes', 1), ('vuelo', 14), ('estacionarnos', 1), ('comenzamos', 2), ('vives', 12), ('vodka', 3), ('¿quienes', 1), ('inventó', 7), ('fabricado', 2), ('estuvisteis', 4), ('andabas', 1), ('levantada', 1), ('tumbado', 4), ('marchó', 4), ('llorás', 1), ('sufrir', 1), ('arriesgarnos', 2), ('casarte', 6), ('contado', 2), ('inflamable', 1), ('¡ah', 1), ('pegas', 1), ('maestra', 5), ('actrices', 2), ('importantes', 2), ('responderlo', 2), ('estacionarse', 2), ('vencerme', 1), ('negarlo', 2), ('rendirte', 2), ('perdértelo', 2), ('perdéroslo', 3), ('vender', 3), ('podrías', 18), ('diste', 7), ('escuchaste', 3), ('engañas', 1), ('sabrás', 2), ('adivinaste', 1), ('tomaste', 4), ('darte', 9), ('acaban', 4), ('agradan', 2), ('luces', 15), ('europeo', 1), ('europea', 1), ('fabulosa', 1), ('cometido', 10), ('hiciera', 7), ('reír', 22), ('necesites', 4), ('apurarte', 3), ('detenerlo', 5), ('relajarte', 5), ('corres', 1), ('salvaste', 1), ('estresado', 1), ('hablas', 16), ('habláis', 1), ('cómicos', 1), ('entiendes', 5), ('¡eras', 1), ('graciosos', 1), ('vencerás', 3), ('encontrarás', 7), ('hacéis', 3), ('embromando', 1), ('rodeado', 2), ('experta', 1), ('pálida', 3), ('repleta', 1), ('macuto', 1), ('arañado', 1), ('contesta', 1), ('logra', 2), ('¿incluye', 1), ('comidas', 7), ('¿viene', 1), ('budista', 2), ('culpando', 7), ('tontos', 1), ('productivo', 1), ('¿todavía', 30), ('¿aún', 10), ('ansioso', 4), ('pídele', 6), ('pedidle', 1), ('apártense', 1), ('plátanos', 6), ('marque', 2), ('cambiando', 6), ('pero', 23), ('tranquilicen', 1), ('llevármelo', 1), ('recoger', 3), ('recogerlo', 1), ('olerlo', 2), ('humanos', 2), ('revisen', 1), ('bolsillos', 4), ('revise', 3), ('sígannos', 1), ('síganos', 1), ('considerá', 1), ('controlaos', 1), ('cruzá', 1), ('creyó', 7), ('¿sobornó', 1), ('cenó', 3), ('¿tenía', 2), ('vivían', 2), ('vivieron', 2), ('¿fuiste', 3), ('invitaste', 2), ('invitasteis', 1), ('divide', 2), ('¿acepta', 2), ('¿aceptas', 1), ('creéis', 2), ('pulpo', 1), ('¿hablás', 2), ('mozart', 1), ('robots', 4), ('¿añoras', 1), ('aventón', 2), ('juegas', 7), ('acuerdas', 6), ('recorte', 1), ('sangran', 1), ('encías', 2), ('salvan', 2), ('vidas', 5), ('¿conoce', 2), ('ofende', 1), ('¿sabe', 10), ('¿muerde', 1), ('avaricioso', 2), ('resfríes', 1), ('exceso', 3), ('vencido', 5), ('malentienda', 3), ('malinterprete', 1), ('paranoico', 7), ('deis', 1), ('den', 1), ('riais', 1), ('escena', 3), ('pongas', 5), ('excusas', 9), ('pongáis', 1), ('pongan', 1), ('causes', 1), ('metas', 4), ('pienses', 3), ('trates', 4), ('condescendencia', 1), ('pronuncies', 1), ('paren', 2), ('arriesgues', 1), ('piedras', 2), ('camines', 2), ('trabajes', 4), ('¡muera', 1), ('rey', 12), ('relaja', 1), ('¡vaciá', 1), ('¡vacía', 1), ('dudaron', 1), ('vacilaron', 1), ('agradabas', 2), ('piensan', 4), ('creen', 6), ('afirmativamente', 1), ('molestos', 1), ('molestas', 1), ('estupefactos', 2), ('explicaos', 1), ('rellene', 1), ('huecos', 1), ('llénalo', 1), ('ejemplo', 14), ('olvida', 3), ('olvide', 7), ('olviden', 2), ('aléjese', 2), ('sácame', 2), ('levántame', 1), ('¡desaparece', 1), ('¡sal', 3), ('deshazte', 1), ('deshágase', 1), ('sácanos', 2), ('despertar', 5), ('escoba', 4), ('entrégueme', 1), ('distancia', 4), ('acción', 4), ('abusó', 3), ('comportó', 2), ('estúpidamente', 1), ('comprarse', 3), ('compás', 2), ('gustamos', 3), ('disfrutaba', 1), ('obligó', 3), ('regaló', 4), ('bajó', 19), ('apretó', 5), ('retirarse', 1), ('graso', 1), ('pasos', 1), ('contuvo', 5), ('compañero', 5), ('colega', 2), ('sale', 6), ('desalmado', 2), ('aventuras', 3), ('aventura', 2), ('memoria', 10), ('chismes', 1), ('haló', 1), ('alzó', 7), ('rinde', 1), ('impunemente', 2), ('precedente', 1), ('rapó', 1), ('mostró', 8), ('tocó', 9), ('apelar', 1), ('4', 1), ('envejecía', 1), ('habían', 2), ('invitaron', 2), ('gustar', 4), ('culturista', 1), ('creacionista', 1), ('portero', 1), ('verdadera', 10), ('aristócrata', 3), ('madrugador', 3), ('pisando', 1), ('cincuenta', 4), ('trabajador', 7), ('aplicado', 1), ('talento', 10), ('erizos', 1), ('adorables', 2), ('imprimir', 2), ('rasgado', 1), ('lisa', 1), ('¡hey', 1), ('armario', 5), ('posición', 6), ('mantenga', 2), ('mantengan', 1), ('rellenas', 1), ('olvidarlo', 2), ('resistirme', 1), ('decidieron', 1), ('decidisteis', 1), ('entraste', 1), ('granizo', 2), ('utiliza', 1), ('¿hasta', 2), ('¿cuánta', 7), ('recorriste', 1), ('probabilidad', 1), ('¿harto', 1), ('hirviendo', 5), ('jardín', 16), ('respondí', 3), ('remera', 3), ('confirmar', 1), ('conseguirte', 1), ('conseguirles', 1), ('cabalgar', 1), ('montar', 6), ('esperarte', 2), ('creerlo', 8), ('culparlos', 4), ('controlarlo', 1), ('excluirlo', 1), ('perdonarle', 3), ('perdonarla', 3), ('explicarlo', 9), ('seguirte', 4), ('olvidar', 5), ('mentirte', 2), ('mentiros', 1), ('irresistible', 4), ('logro', 7), ('entender', 7), ('astillé', 1), ('diente', 4), ('aplaudí', 1), ('colecciono', 2), ('antigüedades', 4), ('tosí', 1), ('serles', 1), ('útil', 13), ('exijo', 1), ('recuento', 2), ('esperaba', 17), ('dicen', 9), ('deprisa', 3), ('almorzar', 9), ('soñado', 5), ('soñé', 5), ('disfruté', 2), ('entré', 6), ('cueva', 1), ('suspendí', 1), ('temía', 5), ('entrando', 1), ('hoyo', 3), ('intenso', 2), ('lancé', 1), ('campera', 6), ('fracturé', 1), ('enfado', 2), ('enojo', 2), ('canso', 2), ('metí', 4), ('crecí', 14), ('horroroso', 2), ('aceptarlo', 1), ('aburrirme', 1), ('chistes', 6), ('funerala', 1), ('morado', 3), ('acuario', 1), ('pecera', 1), ('pinchó', 1), ('llanta', 1), ('ponchó', 1), ('goma', 3), ('cristal', 3), ('vidrio', 3), ('sangra', 8), ('lugares', 2), ('información', 7), ('pasaporte', 11), ('apetito', 3), ('juntarme', 1), ('encontrame', 1), ('pintarlo', 1), ('advertir', 1), ('cámaras', 3), ('sobrinos', 1), ('guste', 9), ('casar', 9), ('maté', 4), ('empaqué', 1), ('metido', 3), ('dolido', 1), ('aquellas', 2), ('coreana', 5), ('ángeles', 2), ('favoritas', 1), ('carreras', 3), ('cortos', 3), ('costumbre', 4), ('refrán', 1), ('divertirme', 4), ('conjunto', 3), ('mirado', 3), ('identidad', 3), ('mariposas', 1), ('lentejas', 1), ('hija', 27), ('asada', 1), ('otros', 17), ('gradúe', 1), ('graduarme', 1), ('ofender', 1), ('mes', 11), ('destruirte', 2), ('nombres', 5), ('dudé', 2), ('pillaron', 2), ('obedecí', 2), ('puertas', 4), ('videojuegos', 2), ('arado', 1), ('adonde', 5), ('repetí', 1), ('pegarle', 1), ('arrancar', 2), ('huir', 2), ('duermo', 5), ('nueve', 7), ('fumo', 9), ('cigarrillos', 3), ('derramé', 1), ('psicología', 1), ('sugiero', 2), ('sorprendí', 2), ('estando', 2), ('mientras', 10), ('pare', 5), ('viniera', 4), ('entregué', 2), ('torcí', 1), ('desafío', 7), ('tigre', 3), ('devuelvan', 1), ('propia', 9), ('sábana', 1), ('manta', 2), ('disfrutar', 2), ('contratar', 7), ('besar', 11), ('conocer', 6), ('verlas', 2), ('advertirte', 3), ('quedes', 8), ('1972', 1), ('1979', 1), ('1982', 1), ('1988', 1), ('forzado', 3), ('encantado', 7), ('proseguiré', 1), ('leeré', 2), ('tuviera', 4), ('sabido', 6), ('fuese', 3), ('coaccionado', 1), ('traicionaré', 2), ('molestarte', 4), ('trabajé', 8), ('granja', 2), ('pasaré', 2), ('lavaré', 1), ('averiguaré', 4), ('extrañaré', 2), ('abandonaré', 4), ('jugaré', 4), ('guardaré', 1), ('recordaré', 3), ('aprovecharé', 1), ('oportunidad', 32), ('nadador', 3), ('tocado', 3), ('tocada', 1), ('ida', 1), ('fiestero', 1), ('fotógrafo', 4), ('mido', 3), ('biblioteca', 8), ('desangrando', 1), ('extremadamente', 17), ('domingo', 12), ('singapur', 1), ('engordando', 2), ('devolviendo', 1), ('alegro', 25), ('hayamos', 2), ('hablado', 7), ('marcho', 1), ('esquiando', 6), ('esquí', 7), ('gozo', 1), ('comenzando', 3), ('clientes', 5), ('calcetín', 1), ('fotogénico', 2), ('avergonzada', 1), ('perdona', 4), ('ocupando', 1), ('atacada', 1), ('agredido', 1), ('ascendieron', 1), ('convocado', 1), ('cubierta', 1), ('cubro', 1), ('equivoqué', 6), ('juzgué', 2), ('ignorancia', 1), ('bendición', 1), ('¿algo', 1), ('realidad', 20), ('¿esa', 7), ('encadenado', 2), ('serpiente', 3), ('cargada', 3), ('pertenecía', 2), ('evitar', 9), ('empeorar', 1), ('cae', 4), ('durante', 14), ('valor', 11), ('cuestión', 7), ('extraordinario', 4), ('chulo', 4), ('valía', 2), ('costará', 6), ('tomará', 4), ('tardará', 2), ('sucederá', 1), ('pegadiza', 2), ('común', 11), ('diseño', 3), ('defectuoso', 2), ('imperfecto', 1), ('distracción', 2), ('sistema', 9), ('demostrado', 1), ('arenque', 1), ('tipeo', 1), ('esquina', 2), ('abarrotado', 2), ('medianoche', 22), ('cálido', 4), ('apestoso', 1), ('comenzado', 7), ('europa', 8), ('grecia', 3), ('mermelada', 2), ('jarra', 3), ('júzgalo', 1), ('juzga', 1), ('rellenarlo', 1), ('rellénalo', 1), ('bajar', 5), ('subir', 4), ('dí', 1), ('perfil', 1), ('vigilá', 1), ('pisar', 1), ('pise', 2), ('tensa', 1), ('alzadas', 1), ('quites', 4), ('calzoncillos', 1), ('promesas', 7), ('calzado', 1), ('leyes', 4), ('necesarias', 1), ('aprenda', 1), ('marcar', 1), ('inmediato', 15), ('cayendo', 2), ('lección', 8), ('préstamelo', 1), ('explique', 1), ('dejadme', 1), ('compremos', 1), ('divorciémonos', 1), ('preparémonos', 2), ('emborracharnos', 1), ('tomémonos', 3), ('quedemos', 3), ('imprudentes', 2), ('miremos', 1), ('¡veamos', 1), ('hablemos', 8), ('estudiemos', 2), ('tomémoslo', 1), ('intentémoslo', 2), ('usemos', 1), ('ilusión', 3), ('lilas', 1), ('afortunadamente', 3), ('marte', 2), ('lunas', 1), ('tía', 9), ('actriz', 4), ('histérica', 2), ('prestar', 8), ('llamarte', 5), ('cheque', 6), ('sacar', 6), ('moveos', 1), ('detengáis', 1), ('definitiva', 3), ('botas', 9), ('arranca', 2), ('uvas', 8), ('pesadas', 2), ('sellados', 2), ('naranja', 13), ('salvarme', 3), ('¡nadie', 1), ('resultado', 6), ('equivoca', 3), ('valija', 3), ('proyecto', 11), ('lechuzas', 2), ('cazan', 1), ('recógeme', 1), ('discuta', 1), ('discutan', 1), ('vístase', 1), ('hágame', 1), ('contribución', 1), ('tranquilos', 3), ('recuérdame', 1), ('bañate', 1), ('esperarme', 2), ('esperadme', 2), ('volaron', 2), ('pistolas', 1), ('bajad', 2), ('relájate', 3), ('vendaje', 1), ('inmediatamente', 15), ('guardalo', 1), ('reserva', 3), ('resérvate', 1), ('rato', 21), ('empiezan', 5), ('9', 1), ('colegios', 1), ('escuelas', 1), ('¡nos', 2), ('muchachada', 1), ('mándale', 1), ('mándele', 1), ('mándenle', 1), ('enviadlo', 1), ('postal', 2), ('agitar', 1), ('agite', 1), ('varones', 1), ('invitó', 9), ('besando', 6), ('astuta', 4), ('moza', 1), ('explicó', 5), ('recogió', 8), ('señaló', 2), ('apuntó', 6), ('deseando', 7), ('franqueza', 4), ('sonriente', 1), ('suertuda', 1), ('apresurada', 1), ('alcohólica', 1), ('reunión', 19), ('somalia', 1), ('madrina', 1), ('repetirlo', 1), ('¿deberíamos', 4), ('difamación', 1), ('delito', 3), ('pónganse', 2), ('liado', 5), ('fastidiado', 3), ('golpeando', 2), ('¡mantente', 2), ('donde', 35), ('molestar', 2), ('déjate', 2), ('bromear', 2), ('bromas', 5), ('armar', 2), ('escándalo', 1), ('detengan', 1), ('gritarme', 2), ('cosquillas', 2), ('quita', 4), ('saluda', 3), ('cuéntamelo', 1), ('llamáis', 1), ('háblanos', 1), ('triciclo', 2), ('intrigante', 3), ('pino', 4), ('maleta', 9), ('permitido', 1), ('notable', 2), ('innecesario', 1), ('despertador', 1), ('eje', 1), ('partió', 7), ('ronroneando', 3), ('cuervo', 2), ('volando', 4), ('discoteca', 1), ('ladra', 3), ('cerradas', 2), ('niebla', 2), ('amañado', 1), ('derretido', 1), ('apagadas', 1), ('repuntó', 1), ('alza', 3), ('agria', 4), ('venció', 1), ('fresca', 3), ('loro', 2), ('perico', 1), ('despegó', 3), ('electricidad', 6), ('arreglada', 1), ('cohete', 2), ('silenciosa', 1), ('falda', 4), ('aclaró', 2), ('despejó', 2), ('soldados', 4), ('abrieron', 2), ('araña', 1), ('estampilla', 1), ('estrellas', 4), ('salieron', 6), ('difundió', 1), ('brilla', 3), ('brillando', 1), ('neumáticos', 3), ('chillaron', 1), ('helada', 1), ('olas', 2), ('soplaba', 3), ('violentamente', 1), ('escapatoria', 2), ('comenzaron', 2), ('besarse', 2), ('venden', 7), ('recibieron', 1), ('familias', 3), ('escucharon', 1), ('oyeron', 3), ('meta', 8), ('rinden', 2), ('pagarme', 1), ('comprenden', 1), ('entienden', 3), ('estudiaban', 1), ('nadaban', 1), ('emocionados', 5), ('conseguirán', 1), ('entenderán', 4), ('cristianos', 3), ('cristianas', 2), ('extranjeros', 2), ('esposados', 1), ('poca', 2), ('ácida', 2), ('grasosa', 1), ('greñudo', 1), ('hoja', 7), ('ruta', 3), ('carreteras', 1), ('triángulo', 1), ('clasificado', 1), ('misión', 3), ('plagio', 1), ('destacable', 1), ('incómodo', 5), ('embarazoso', 2), ('estrafalario', 1), ('típico', 3), ('ultra', 1), ('altamente', 1), ('soso', 1), ('riesgoso', 1), ('salado', 2), ('profunda', 6), ('resultaron', 2), ('amárrate', 1), ('apriete', 1), ('tornillo', 3), ('marzo', 2), ('conocernos', 2), ('comía', 4), ('toser', 4), ('cortésmente', 2), ('levantarse', 7), ('consoló', 1), ('contactó', 1), ('describió', 1), ('diversión', 2), ('combate', 1), ('tifoidea', 1), ('falleció', 2), ('limonada', 2), ('evitó', 2), ('males', 1), ('rasguñó', 3), ('canadá', 8), ('liberó', 3), ('miraba', 3), ('desagrado', 1), ('rizado', 1), ('enloquecido', 2), ('aguantado', 1), ('arrepentimientos', 1), ('desmayado', 3), ('aferró', 1), ('sirvió', 3), ('pitó', 1), ('camarógrafo', 1), ('celebridad', 1), ('comunista', 2), ('hipócrita', 3), ('nerd', 1), ('socialista', 1), ('terrorista', 3), ('aventurero', 1), ('empleado', 5), ('anonadado', 1), ('hiperactivo', 1), ('delantera', 2), ('independiente', 2), ('insensible', 2), ('malicioso', 2), ('enfocado', 1), ('desocupado', 4), ('condescendiente', 2), ('pesimista', 2), ('descoordinado', 1), ('cariñoso', 1), ('amenaza', 4), ('obediente', 1), ('secuestró', 1), ('conocía', 8), ('riesgos', 5), ('lacrosse', 1), ('pelirrojas', 1), ('cargó', 1), ('conmocionado', 1), ('espantosa', 1), ('comerlo', 1), ('perderse', 1), ('enfermarse', 1), ('juzgó', 1), ('erróneamente', 1), ('relajarse', 5), ('entrenamiento', 1), ('estacionó', 1), ('propuso', 1), ('matrimonio', 3), ('tras', 4), ('tranquilizó', 2), ('dependía', 1), ('respetó', 1), ('respetaba', 2), ('sonreir', 2), ('maletero', 4), ('loncheó', 1), ('vendió', 6), ('fijamente', 6), ('reprimió', 3), ('moverse', 2), ('aterrorizó', 1), ('llevó', 22), ('comprende', 3), ('desfigurado', 1), ('riña', 1), ('condenado', 3), ('ostracismo', 1), ('quedado', 9), ('lavó', 7), ('agitó', 1), ('disculpará', 1), ('matará', 3), ('necesitar', 8), ('morder', 2), ('nasa', 1), ('permanecer', 7), ('¿estuve', 1), ('¿su', 5), ('¿ese', 2), ('detestamos', 1), ('papa', 4), ('patinaje', 3), ('frustrados', 1), ('obtuvimos', 1), ('trigo', 5), ('razones', 4), ('motivos', 1), ('charla', 7), ('compra', 8), ('estrategia', 3), ('guardián', 1), ('herramientas', 1), ('usamos', 3), ('jugábamos', 2), ('corrimos', 4), ('agotó', 1), ('permanecimos', 2), ('sacrificamos', 1), ('carpa', 1), ('2013', 6), ('lodo', 1), ('tipos', 2), ('concurso', 4), ('rendiremos', 2), ('estaríamos', 2), ('diplomáticamente', 1), ('miraremos', 1), ('refugio', 2), ('oraremos', 1), ('rezaremos', 1), ('nacemos', 2), ('ambidextros', 1), ('ambidiestros', 1), ('evitando', 3), ('culturistas', 1), ('atamos', 1), ('alambre', 2), ('guardeses', 2), ('cuidando', 1), ('cuidamos', 1), ('ignorando', 3), ('pareja', 6), ('avistado', 1), ('sorprendiste', 2), ('calabaza', 1), ('coincidencia', 7), ('doncella', 2), ('experiencia', 9), ('pésimo', 13), ('clima', 10), ('referirse', 1), ('aprendiste', 5), ('derramaste', 2), ('robaste', 3), ('ballenas', 3), ('motiva', 2), ('estrechas', 1), ('llevarás', 1), ('cobrar', 1), ('naciste', 2), ('empezará', 1), ('vendrás', 3), ('boda', 6), ('policías', 5), ('comprarla', 1), ('buscaste', 1), ('trabajabas', 1), ('trabajaban', 3), ('oculta', 1), ('vais', 3), ('sujetos', 1), ('engañar', 2), ('jarrón', 1), ('impedir', 1), ('sospechas', 2), ('terreno', 1), ('¿del', 1), ('compraste', 13), ('pegaste', 1), ('comisteis', 1), ('comistes', 1), ('comieron', 7), ('flota', 2), ('entramos', 1), ('cicatriz', 5), ('doler', 1), ('¿dolerá', 1), ('¿lloverá', 2), ('hablan', 11), ('harían', 1), ('ponerle', 2), ('enseñarías', 1), ('saturado', 1), ('durísimo', 1), ('juramento', 2), ('rompiste', 5), ('dejarme', 1), ('tentarme', 1), ('usarlo', 5), ('ayudaste', 2), ('avisaste', 1), ('asustás', 1), ('conduces', 1), ('manejás', 3), ('conducís', 3), ('asustaste', 1), ('acostumbras', 1), ('desahuciaron', 1), ('uds', 1), ('cuatro', 21), ('acabas', 5), ('fallar', 1), ('elefantes', 3), ('viviendo', 13), ('recibir', 4), ('encuentres', 4), ('¡debes', 2), ('debés', 2), ('arruinaste', 3), ('disparaste', 2), ('unirte', 2), ('enseñaste', 3), ('recuperarás', 4), ('sentirte', 1), ('sentirás', 1), ('tendrás', 4), ('lamentarás', 2), ('cocinera', 8), ('maja', 3), ('¡sois', 1), ('cobardes', 4), ('¡son', 1), ('invitadas', 1), ('racistas', 1), ('fastidiando', 1), ('carismático', 1), ('cooperando', 1), ('desamparada', 1), ('interfiriendo', 8), ('favorito', 12), ('princesa', 2), ('condescendiendo', 1), ('inmaduro', 3), ('negativo', 2), ('engreído', 2), ('engreída', 1), ('engreídos', 2), ('engreídas', 2), ('empapada', 1), ('empapado', 2), ('poniéndote', 1), ('astutos', 1), ('aburridísimo', 2), ('advertido', 2), ('temperatura', 5), ('esconderte', 2), ('decepcionas', 2), ('trabajado', 7), ('extenuación', 1), ('sucia', 4), ('patas', 2), ('mamíferos', 1), ('ballena', 1), ('mamífero', 2), ('parranda', 1), ('aluminio', 1), ('responde', 7), ('asientos', 9), ('¿existe', 1), ('algún', 25), ('esquíes', 3), ('gimnasio', 3), ('siguiendo', 9), ('¿solo', 1), ('¿siempre', 1), ('facebook', 7), ('perdidas', 1), ('¿sigues', 3), ('¿seguís', 1), ('profeta', 1), ('atenas', 1), ('entristece', 2), ('cueza', 1), ('sobrevalorado', 1), ('servido', 1), ('tráigame', 2), ('burda', 1), ('cuchis', 3), ('¿podría', 19), ('crédito', 9), ('móvil', 9), ('creérnoslo', 1), ('¿cambiémonos', 1), ('intercambiamos', 1), ('intercambiarnos', 1), ('creerle', 1), ('preparar', 6), ('verificar', 2), ('principio', 9), ('darme', 15), ('¡cumpla', 1), ('atrápame', 1), ('cámbiate', 1), ('aceptan', 2), ('mastica', 1), ('caballerosidad', 2), ('gentileza', 2), ('despeja', 1), ('conocerlos', 1), ('consulta', 1), ('contáctame', 1), ('partes', 4), ('virus', 1), ('amanecerá', 1), ('borra', 1), ('elimina', 2), ('borrá', 1), ('¿mintió', 1), ('¿vinieron', 1), ('¿entendieron', 1), ('¿soñaste', 1), ('¿acabas', 2), ('¿dejaste', 2), ('propina', 3), ('¿dejasteis', 1), ('¿notaste', 2), ('leíste', 2), ('bañaste', 1), ('desconecta', 1), ('enchufe', 1), ('parta', 1), ('maldigo', 1), ('¿necesitamos', 2), ('b', 2), ('¿entiendes', 2), ('hobby', 1), ('lema', 1), ('mascar', 1), ('chicle', 2), ('bolos', 1), ('ostras', 4), ('surfear', 2), ('¿habláis', 1), ('¿habla', 6), ('¿hablas', 4), ('¿estudiás', 1), ('¿viajáis', 1), ('abandonar', 10), ('¿deseas', 1), ('¿usás', 1), ('anteojos', 4), ('actúes', 1), ('pidas', 3), ('dudes', 1), ('pelees', 1), ('ilusiones', 3), ('escuchés', 1), ('escuches', 4), ('enojar', 2), ('telefonees', 1), ('leas', 3), ('azote', 1), ('tomes', 5), ('tonterías', 2), ('boludeces', 1), ('malgastes', 3), ('desperdicies', 2), ('echáis', 1), ('añora', 2), ('verduras', 3), ('¡cómanse', 1), ('aplaudiendo', 1), ('riéndose', 1), ('oigan', 1), ('perdone', 5), ('pocas', 9), ('olvidá', 1), ('dolores', 3), ('tiquete', 1), ('sácala', 1), ('aléjenlo', 1), ('púdrete', 1), ('mamón', 1), ('tráiganme', 1), ('propiedad', 5), ('acostúmbrate', 1), ('salúdalo', 1), ('déle', 1), ('recuerdos', 1), ('saludos', 4), ('palillo', 1), ('devuélveme', 4), ('rompe', 4), ('lavarte', 3), ('cepillarte', 2), ('cepillarse', 1), ('tírate', 1), ('gárgaras', 1), ('entrega', 2), ('papeles', 6), ('entreguen', 2), ('cená', 1), ('aceptó', 12), ('dedal', 1), ('pararlos', 2), ('escaló', 1), ('monte', 4), ('fuji', 4), ('gales', 1), ('diseñó', 2), ('contrario', 2), ('pesar', 1), ('cólera', 1), ('enriqueció', 1), ('agarró', 10), ('dama', 3), ('acababa', 2), ('redonda', 1), ('actuado', 1), ('picassos', 1), ('sostuvo', 1), ('pescadero', 1), ('grosera', 2), ('efectivamente', 1), ('penitencia', 1), ('80', 1), ('kilos', 3), ('soberbio', 2), ('dando', 7), ('lavando', 7), ('promesa', 11), ('quiénes', 11), ('sobria', 1), ('melón', 1), ('cardiff', 1), ('marruecos', 1), ('insecto', 2), ('haya', 7), ('masculló', 1), ('suele', 7), ('jaulas', 1), ('alcanzó', 8), ('administra', 4), ('zapatería', 2), ('lustró', 1), ('agradecerle', 5), ('cristianismo', 1), ('amarla', 1), ('amó', 2), ('ohio', 1), ('enterraron', 1), ('nombraron', 1), ('capitán', 5), ('terriblemente', 3), ('castigado', 2), ('derrotará', 1), ('aprobará', 1), ('dirá', 3), ('arrepentirá', 2), ('creerá', 5), ('laboratorio', 1), ('empeño', 1), ('rendir', 2), ('letra', 5), ('mejorará', 3), ('cazafantasmas', 1), ('guionista', 1), ('teme', 10), ('actuando', 2), ('tantos', 3), ('centinela', 1), ('tetris', 2), ('posiblemente', 3), ('mejillas', 2), ('novela', 9), ('che', 7), ('recordar', 15), ('conmovió', 5), ('sostenete', 1), ('agarre', 1), ('honestidad', 3), ('virtud', 5), ('sinceridad', 2), ('¡cuánto', 1), ('nhk', 1), ('funcionan', 2), ('imanes', 1), ('concierto', 6), ('casamiento', 1), ('arreglarás', 1), ('aligera', 1), ('porque', 3), ('condiciones', 5), ('mato', 1), ('prometido', 1), ('resfriando', 1), ('india', 4), ('pelando', 1), ('tocando', 8), ('obra', 7), ('escucharlo', 6), ('tristeza', 2), ('escaso', 3), ('fondos', 1), ('kanji', 2), ('sms', 1), ('londres', 10), ('viniese', 2), ('pedía', 1), ('cantara', 1), ('cantase', 1), ('parase', 2), ('parara', 4), ('almorcé', 4), ('apresuradamente', 1), ('liviano', 2), ('24', 2), ('lápices', 5), ('construido', 3), ('construí', 1), ('disculparme', 6), ('verla', 7), ('defender', 1), ('guardar', 4), ('pelar', 5), ('aceptar', 6), ('controlar', 3), ('superarlo', 2), ('acordar', 2), ('decirlo', 4), ('exactitud', 3), ('valla', 7), ('fantaseo', 1), ('decoré', 1), ('invité', 7), ('entendí', 6), ('salgo', 7), ('tampoco', 27), ('aprecio', 13), ('apetece', 5), ('reparo', 1), ('radios', 1), ('rotas', 2), ('preguntárselo', 1), ('c', 2), ('recibí', 5), ('electrónico', 3), ('bajé', 7), ('estupenda', 8), ('frenética', 1), ('quedaba', 3), ('mentirle', 1), ('alquilar', 7), ('empleados', 4), ('novia', 27), ('mocos', 1), ('sugerencia', 5), ('apendicitis', 2), ('facturas', 1), ('partidos', 1), ('retortijones', 1), ('solución', 22), ('cambiarlo', 1), ('dejarte', 6), ('darle', 5), ('portazo', 2), ('serias', 1), ('saliera', 1), ('diviertas', 2), ('enterarme', 1), ('enterar', 1), ('visión', 1), ('guardé', 1), ('guardado', 2), ('parda', 1), ('trataba', 3), ('entenderías', 1), ('cuantas', 4), ('tema', 8), ('cuándo', 10), ('china', 14), ('exótica', 1), ('actitud', 5), ('patatas', 5), ('perfume', 2), ('jersey', 2), ('página', 8), ('web', 5), ('kioto', 8), ('sector', 1), ('encerré', 1), ('lados', 4), ('italiana', 1), ('€', 4), ('logré', 2), ('arreglé', 2), ('decírtelo', 4), ('in', 1), ('casualidad', 9), ('club', 5), ('topé', 2), ('asesiné', 1), ('haberlo', 16), ('haberme', 7), ('asistente', 6), ('perchas', 1), ('resfrío', 2), ('3000', 1), ('conecté', 1), ('fingí', 1), ('pijama', 4), ('pongo', 5), ('actos', 2), ('revisé', 3), ('revisado', 1), ('informe', 7), ('reescribí', 1), ('reescrito', 1), ('moto', 1), ('podías', 4), ('anoche', 35), ('pidiendo', 5), ('socorro', 1), ('proposición', 1), ('moción', 2), ('mandé', 6), ('email', 3), ('resolví', 1), ('tartamudeo', 1), ('sospecho', 2), ('factible', 1), ('pensado', 5), ('pararan', 1), ('quité', 1), ('integrar', 1), ('salvar', 5), ('salvarle', 1), ('salvarlo', 1), ('salvarte', 3), ('recorté', 1), ('seto', 2), ('podé', 1), ('apagué', 5), ('desaté', 1), ('cinta', 2), ('filete', 4), ('emborrachar', 1), ('acostarme', 5), ('casarme', 4), ('negociar', 2), ('acuático', 1), ('relajes', 1), ('matan', 1), ('desilusionado', 2), ('disfrutando', 2), ('atónito', 1), ('relajándome', 1), ('alterado', 1), ('vanidoso', 4), ('asustada', 4), ('tercero', 1), ('cola', 6), ('lavé', 3), ('sábanas', 3), ('siquiera', 24), ('regresaré', 3), ('enfadaré', 1), ('encantaría', 7), ('capaz', 12), ('estuviera', 9), ('tuviéramos', 1), ('olvidaré', 1), ('moriría', 3), ('habría', 7), ('daiquiri', 1), ('querría', 9), ('revisaré', 3), ('metro', 6), ('tomaré', 9), ('desnatada', 1), ('reuniré', 2), ('patearé', 1), ('trasero', 2), ('mandaré', 6), ('pensaré', 3), ('actualizaré', 1), ('perfeccionista', 1), ('tenista', 4), ('absolutamente', 3), ('disposición', 1), ('vientos', 2), ('rápida', 5), ('cuarenta', 5), ('recuperado', 1), ('cachorro', 2), ('casando', 1), ('comprarlo', 7), ('apartamento', 7), ('increíblemente', 5), ('esclavo', 1), ('absoluto', 10), ('aventuroso', 1), ('quejo', 1), ('especulando', 2), ('practico', 1), ('judo', 1), ('¿o', 6), ('fila', 2), ('preparándome', 1), ('suspendieron', 3), ('preocupaciones', 3), ('escuchado', 4), ('monedero', 1), ('billetera', 9), ('estudiado', 2), ('identificaos', 1), ('parto', 2), ('¿sigue', 3), ('submarino', 1), ('¿anda', 1), ('billetero', 1), ('tremendo', 2), ('impactante', 1), ('¿eh', 2), ('tomas', 4), ('jodió', 1), ('duró', 6), ('costoso', 2), ('profecía', 4), ('exquisita', 1), ('merecido', 1), ('maravilla', 3), ('energía', 9), ('solar', 1), ('equivocamos', 1), ('metieron', 4), ('justa', 1), ('descuido', 1), ('estimulante', 1), ('oscureciendo', 4), ('presentimiento', 2), ('estuviese', 2), ('rumor', 3), ('siniestro', 1), ('imperdonable', 2), ('petición', 3), ('nevará', 2), ('cumpleaños', 12), ('comedia', 1), ('cantidad', 3), ('considerable', 1), ('acreditada', 1), ('elegir', 4), ('juerga', 1), ('once', 4), ('privada', 3), ('facilísimo', 2), ('aumentando', 3), ('nublando', 2), ('placebo', 1), ('única', 21), ('insólito', 1), ('rasguño', 1), ('insoportable', 6), ('jesus', 1), ('segundos', 3), ('mantenme', 5), ('abiertos', 3), ('omite', 1), ('libérate', 1), ('permitime', 1), ('optimistas', 3), ('revisemos', 1), ('busquemos', 1), ('metámoslo', 1), ('llevémoslo', 1), ('divirtámonos', 2), ('limpiemos', 2), ('exageremos', 2), ('arruinemos', 1), ('leamos', 1), ('3', 4), ('compartamos', 2), ('tratemos', 2), ('¡intentemos', 1), ('imagen', 4), ('oxígeno', 1), ('acuerde', 1), ('solicite', 1), ('¡hombre', 1), ('prometida', 1), ('camarera', 1), ('acompañas', 2), ('acompañar', 2), ('permite', 4), ('interrumpa', 1), ('¡mi', 2), ('mima', 1), ('lectura', 4), ('equipaje', 6), ('extravió', 1), ('húmedos', 1), ('atoró', 2), ('detendrá', 1), ('importo', 1), ('torturó', 1), ('detenerme', 3), ('detenernos', 2), ('enseñarte', 1), ('dará', 3), ('avestruces', 1), ('prestanos', 1), ('duraznos', 1), ('tócame', 1), ('ventila', 1), ('corrija', 1), ('murmures', 1), ('tómese', 2), ('escúcheme', 1), ('deséame', 1), ('conocerlo', 3), ('veneno', 4), ('tire', 1), ('suéter', 6), ('¡ponete', 1), ('poné', 3), ('ponete', 1), ('¡abajo', 1), ('rambo', 1), ('acordate', 1), ('respetad', 1), ('antigua', 5), ('ciencia', 6), ('salúdela', 1), ('coció', 1), ('respiró', 1), ('llamaba', 4), ('costearlo', 1), ('2000', 2), ('narizota', 1), ('convulsiones', 1), ('adelgazado', 3), ('tortas', 2), ('conocida', 1), ('ancho', 2), ('prosiguió', 2), ('saña', 1), ('helados', 3), ('interpretó', 2), ('sonata', 1), ('jaló', 2), ('shinjuku', 1), ('reservó', 2), ('impunidad', 1), ('frotó', 2), ('talló', 1), ('viajó', 3), ('rubia', 3), ('besadora', 1), ('moderna', 3), ('chusma', 1), ('hermosura', 1), ('¡mostrame', 1), ('bocota', 2), ('bocaza', 1), ('quemando', 5), ('apretá', 1), ('condescender', 1), ('quítese', 3), ('quítense', 3), ('sacate', 3), ('sáquense', 1), ('medias', 7), ('quitaos', 2), ('decile', 1), ('adónde', 10), ('indícame', 1), ('deciles', 2), ('tailandia', 2), ('aclara', 1), ('explica', 3), ('irrita', 1), ('alucinante', 1), ('previsto', 3), ('inesperado', 4), ('excelente', 15), ('poema', 2), ('órgano', 2), ('limonero', 3), ('imitación', 1), ('museo', 5), ('relevante', 1), ('buscamos', 2), ('magnífico', 1), ('inaceptable', 1), ('funeral', 3), ('calentó', 1), ('blusa', 10), ('regañado', 2), ('arbusto', 1), ('empresa', 4), ('malogró', 1), ('botón', 11), ('complejo', 2), ('carbón', 5), ('ardiendo', 4), ('cultivos', 2), ('multitud', 9), ('dispersó', 1), ('zapato', 3), ('babeando', 1), ('alegres', 1), ('cerrando', 4), ('economía', 3), ('corrupto', 1), ('bosque', 10), ('heladera', 3), ('ácidas', 2), ('pasaban', 1), ('alterada', 1), ('modificada', 2), ('apagaron', 1), ('rugiendo', 1), ('horrorosa', 2), ('continuó', 5), ('despensa', 1), ('salario', 8), ('exquisito', 2), ('estanque', 3), ('congeló', 2), ('elevados', 1), ('motivo', 10), ('tejado', 2), ('claras', 1), ('sanando', 1), ('hunde', 2), ('derrite', 2), ('apestan', 2), ('árboles', 7), ('victoria', 2), ('asombrosa', 1), ('caída', 1), ('cremallera', 1), ('atascada', 2), ('habrá', 2), ('¡hay', 1), ('escritorios', 1), ('maravillosas', 2), ('suceden', 1), ('nerviosas', 1), ('despediros', 1), ('despedirle', 1), ('despedirles', 1), ('pararnos', 1), ('burlaron', 3), ('fracasado', 2), ('alquilaron', 1), ('coro', 5), ('demandarte', 1), ('rodearon', 1), ('desertores', 1), ('forman', 1), ('regresando', 1), ('indefensas', 1), ('burlando', 1), ('favoritos', 1), ('chuleta', 1), ('tierna', 4), ('amarga', 2), ('significar', 2), ('periódico', 15), ('menuda', 1), ('cubo', 1), ('fastidioso', 3), ('fórmula', 2), ('sagrado', 1), ('intolerable', 1), ('favorita', 13), ('cuaderno', 7), ('sándwich', 6), ('taladro', 1), ('sobresaliente', 2), ('dilema', 2), ('lamentable', 1), ('escalofriante', 2), ('ponerse', 4), ('áspero', 1), ('suelto', 3), ('caballeros', 1), ('matarás', 1), ('transcurrieron', 1), ('semanas', 11), ('agotando', 2), ('detenerse', 1), ('fastidió', 1), ('webcam', 1), ('costear', 1), ('atrapó', 6), ('desafió', 1), ('animó', 2), ('colecciona', 2), ('estampillas', 3), ('peinó', 1), ('enfrentó', 1), ('repartió', 2), ('voltereta', 1), ('culpó', 1), ('traído', 3), ('quejó', 1), ('vejez', 2), ('desilusionó', 1), ('agrado', 4), ('motivó', 1), ('enfrenta', 3), ('horriblemente', 1), ('fingió', 3), ('perseguido', 1), ('sufrió', 2), ('rifle', 3), ('promovido', 2), ('avergonzó', 1), ('irritó', 1), ('arduo', 2), ('calva', 1), ('leporino', 2), ('sufre', 2), ('simpatía', 4), ('otras', 5), ('delgadas', 1), ('amigdalitis', 1), ('opciones', 9), ('brujas', 2), ('silbido', 2), ('sujetó', 1), ('bioquímico', 1), ('decente', 3), ('tragafuegos', 1), ('deportista', 1), ('político', 1), ('psicópata', 1), ('trabajólico', 1), ('ambidiestro', 1), ('arquitecto', 1), ('conservador', 2), ('antipático', 1), ('incorregible', 2), ('intelectual', 1), ('igual', 13), ('lamenta', 2), ('diestro', 1), ('inescrupuloso', 1), ('insensato', 1), ('religioso', 2), ('garabateando', 1), ('erupto', 1), ('morenas', 1), ('ton', 1), ('emplear', 1), ('aporte', 2), ('hirió', 4), ('supo', 5), ('ordenó', 6), ('debía', 5), ('adeuda', 1), ('empacó', 1), ('bolsos', 2), ('desgarró', 1), ('músculo', 1), ('sotana', 1), ('cuestionó', 1), ('niega', 4), ('rehúsa', 1), ('reanudó', 1), ('encarando', 1), ('frunció', 1), ('alineó', 1), ('compromiso', 4), ('gemido', 1), ('risa', 3), ('cavar', 1), ('estofado', 3), ('comprendió', 1), ('vendados', 1), ('liberado', 3), ('mintiéndonos', 1), ('estabá', 1), ('irritado', 1), ('extraordinariio', 1), ('espantado', 1), ('alertará', 1), ('cogerá', 1), ('perdonar', 4), ('trapeó', 2), ('despedirá', 1), ('interferirá', 1), ('odiaría', 1), ('desordenada', 1), ('traduce', 1), ('texto', 12), ('traduzca', 1), ('traduzcan', 1), ('traducid', 1), ('traducí', 1), ('inténtenlo', 1), ('probate', 1), ('pullover', 1), ('bájale', 2), ('ponla', 1), ('cafés', 2), ('esperá', 3), ('concierne', 1), ('pelma', 1), ('palabrotas', 1), ('tacos', 1), ('similares', 1), ('parecemos', 1), ('exageramos', 1), ('cogimos', 1), ('agarramos', 2), ('jugamos', 5), ('disgusta', 2), ('bebemos', 3), ('anomalía', 1), ('abandonamos', 1), ('subimos', 2), ('crecimos', 3), ('oral', 1), ('prevenir', 1), ('casarnos', 1), ('barra', 5), ('obedecimos', 1), ('alcanzamos', 1), ('lamentamos', 3), ('deceso', 1), ('fallecimiento', 1), ('sazonamos', 1), ('nadamos', 2), ('viajamos', 2), ('superaban', 1), ('peleándonos', 1), ('peleábamos', 2), ('derrotaremos', 1), ('dejaremos', 1), ('empezaremos', 1), ('enteraremos', 1), ('descubriremos', 1), ('corriente', 3), ('informados', 2), ('volvimos', 2), ('observados', 1), ('cardiólogos', 1), ('cercanos', 2), ('atónitos', 1), ('cenando', 6), ('abrimos', 1), ('encantados', 3), ('tendido', 1), ('derrotado', 2), ('¿estábais', 1), ('estábais', 1), ('elecciones', 3), ('persiguen', 1), ('diciendo', 10), ('respondido', 1), ('respondiste', 3), ('respondisteis', 1), ('esperabas', 2), ('creés', 4), ('sugieres', 2), ('postre', 2), ('pupitre', 1), ('cocinamos', 2), ('hacías', 2), ('leéis', 4), ('tarifa', 1), ('opina', 1), ('levantaste', 1), ('volviste', 4), ('terminan', 1), ('llegaremos', 3), ('empezarás', 2), ('¿cuando', 1), ('guantes', 8), ('tenedores', 1), ('niñas', 7), ('estudiaste', 1), ('estudiaron', 3), ('birome', 2), ('letrina', 1), ('aeropuerto', 6), ('frazada', 2), ('hablabas', 3), ('hablaste', 3), ('¿quén', 1), ('informar', 1), ('biblia', 2), ('peleamos', 2), ('bostezando', 1), ('apresurar', 1), ('contrataste', 1), ('vendiste', 1), ('dudás', 1), ('dices', 11), ('preocuparía', 1), ('¿cenarás', 1), ('¿firmaría', 1), ('¡hala', 1), ('ensayo', 1), ('decís', 3), ('pediste', 3), ('retirar', 1), ('señor', 5), ('disponer', 1), ('culparle', 4), ('ayudarles', 2), ('fiarte', 1), ('medalla', 9), ('merecen', 2), ('merecéis', 3), ('confiaste', 1), ('decepcionaste', 1), ('parecían', 5), ('¡sabes', 1), ('paliducho', 1), ('sexy', 3), ('seguramente', 2), ('apareciste', 1), ('pagas', 4), ('calidad', 3), ('semáforo', 3), ('pues', 3), ('majara', 2), ('apestas', 1), ('alcohol', 7), ('formal', 2), ('agradecerme', 1), ('echaste', 1), ('bronca', 2), ('rajaste', 1), ('elegido', 6), ('ignorado', 1), ('advierto', 1), ('estaréis', 5), ('pagarás', 2), ('afortunada', 2), ('aciertas', 1), ('detestable', 1), ('confundiendo', 1), ('desorganizado', 2), ('bolacero', 2), ('quedas', 6), ('quedan', 9), ('detenidos', 3), ('elegante', 2), ('sucios', 6), ('frías', 1), ('despelote', 1), ('dolar', 2), ('calamar', 1), ('tentáculos', 1), ('añádele', 1), ('ponle', 1), ('cálculos', 1), ('sospecha', 3), ('crecen', 1), ('imitando', 1), ('arremedando', 1), ('espiando', 2), ('subjetiva', 1), ('imitaciones', 2), ('bob', 1), ('mataron', 4), ('traigan', 2), ('tráete', 2), ('versión', 2), ('exterminador', 1), ('prestada', 3), ('tomarme', 2), ('prender', 3), ('encender', 4), ('aclararlo', 1), ('aclarar', 1), ('despacharlo', 1), ('repartir', 1), ('adivinar', 2), ('imaginarlo', 1), ('¿sabéis', 6), ('juntar', 1), ('programar', 1), ('territoriales', 1), ('mojarse', 1), ('entumece', 1), ('miembros', 1), ('resfriados', 1), ('contagiosos', 1), ('considera', 2), ('algodón', 2), ('absorbe', 4), ('traernos', 1), ('diamantes', 1), ('eternos', 2), ('¿preguntó', 1), ('¿pasó', 2), ('¿viniste', 3), ('¿vinisteis', 1), ('¿hiciste', 2), ('¿ganasteis', 1), ('¿ganó', 2), ('¿ganaron', 2), ('¿existen', 2), ('agujeros', 2), ('visítenos', 1), ('perturban', 1), ('serpientes', 5), ('levantas', 1), ('presupuesto', 1), ('fotos', 20), ('tatuaje', 4), ('beisbol', 1), ('brócoli', 2), ('¿luces', 1), ('¿necesitan', 2), ('¿necesitás', 4), ('¿recuerdas', 5), ('¿corres', 1), ('¿piensas', 11), ('¿pensáis', 4), ('¿usas', 1), ('desodorante', 2), ('¿utilizáis', 1), ('galletita', 2), ('galleta', 2), ('delfines', 2), ('curiosos', 1), ('admitas', 1), ('admitás', 1), ('descuidado', 2), ('infantil', 3), ('reservado', 2), ('frenes', 2), ('compres', 3), ('compre', 1), ('cierres', 3), ('bebas', 4), ('duras', 2), ('esfuerces', 1), ('emociones', 2), ('extremos', 1), ('errores', 14), ('cometan', 1), ('hurgues', 1), ('cerréis', 1), ('derrames', 1), ('toqués', 1), ('intentes', 7), ('engañarme', 2), ('ocultarlo', 1), ('perdés', 2), ('pierdes', 1), ('temen', 2), ('esperaban', 2), ('durmieron', 2), ('calmados', 2), ('sonreían', 1), ('torpeza', 1), ('¡formen', 1), ('recta', 1), ('aleja', 1), ('comuníquese', 1), ('¡divertíos', 1), ('¡diviértete', 1), ('almorzado', 4), ('fumado', 1), ('mediste', 1), ('conociste', 2), ('lapicera', 2), ('probado', 3), ('usaste', 2), ('bailara', 1), ('catolicismo', 1), ('sentirse', 2), ('suplicó', 1), ('quedara', 4), ('imploró', 1), ('quedase', 1), ('rogó', 4), ('eligió', 1), ('esquiló', 1), ('oveja', 3), ('ginebra', 1), ('garbo', 1), ('acto', 2), ('pío', 1), ('chistó', 1), ('enfada', 3), ('vació', 1), ('envidia', 2), ('realizó', 2), ('cansa', 5), ('lograba', 1), ('doctorado', 1), ('veintidós', 2), ('hambrienta', 2), ('importado', 2), ('acento', 5), ('pecho', 5), ('peludo', 2), ('personalidad', 1), ('dócil', 2), ('ingreso', 2), ('marco', 1), ('voluntad', 2), ('poderosos', 1), ('hijas', 5), ('extendió', 3), ('crítico', 3), ('holgazán', 1), ('hueso', 2), ('roer', 1), ('hábil', 3), ('reconocido', 1), ('sesenta', 3), ('satisfacerlo', 1), ('complacer', 2), ('prepara', 2), ('querido', 5), ('depresivo', 1), ('vivió', 6), ('nagasaki', 2), ('yokohama', 3), ('tosca', 1), ('velocidad', 6), ('repitió', 2), ('ridiculizó', 1), ('enfadarse', 3), ('portugués', 2), ('súbito', 1), ('estudiara', 3), ('dobló', 2), ('triunfar', 6), ('vasos', 2), ('obligaron', 3), ('ciervos', 1), ('influencia', 3), ('jugador', 10), ('pulmón', 2), ('avaro', 2), ('aficionado', 6), ('ofreció', 5), ('entradas', 5), ('amarilla', 3), ('vinos', 1), ('¿trabajáis', 1), ('inspiró', 1), ('ásperas', 1), ('vacías', 3), ('aguantarlo', 2), ('profundidad', 2), ('averiguó', 1), ('conocisteis', 1), ('abro', 1), ('altura', 2), ('¿cuántas', 4), ('cuestan', 4), ('pagado', 8), ('detendrás', 2), ('aspiro', 1), ('disculpado', 1), ('pintar', 6), ('osos', 3), ('construyendo', 2), ('pared', 4), ('obligan', 1), ('vistiendo', 1), ('ordeñando', 2), ('trapeando', 2), ('dejando', 3), ('revolviendo', 1), ('malgastando', 1), ('disculpo', 1), ('condujera', 3), ('condujese', 1), ('panchos', 1), ('malicia', 2), ('cenicero', 2), ('yema', 1), ('recado', 1), ('permitirme', 4), ('pipa', 2), ('involucrarme', 1), ('ocultarme', 2), ('apagarlo', 1), ('infinito', 2), ('provoqué', 1), ('elijo', 1), ('cerré', 3), ('monedas', 5), ('comino', 1), ('mínimo', 1), ('rábano', 1), ('crucé', 1), ('subido', 3), ('sueldo', 5), ('deseaba', 2), ('ciudades', 1), ('interesa', 8), ('caridad', 6), ('canilla', 11), ('tomado', 16), ('grifo', 9), ('echarle', 1), ('vigilarlo', 1), ('serví', 1), ('sacaron', 3), ('alternativa', 7), ('ganara', 2), ('dobladas', 1), ('celosas', 1), ('cine', 11), ('afilado', 3), ('tripa', 1), ('sangrantes', 1), ('pesqué', 1), ('juzgado', 2), ('fotográficas', 1), ('localizar', 2), ('crujir', 1), ('rama', 1), ('ayudante', 1), ('cambien', 3), ('mañanas', 2), ('saltaba', 1), ('costilla', 1), ('cortarme', 3), ('cortar', 4), ('pantera', 1), ('pato', 3), ('ibas', 5), ('encontrarías', 2), ('canciones', 11), ('mentisteis', 1), ('moderé', 1), ('discusión', 4), ('presté', 4), ('decepcioné', 1), ('fallé', 1), ('colores', 7), ('claros', 3), ('brillantes', 2), ('bistec', 2), ('cocido', 3), ('póquer', 1), ('zuecos', 1), ('premios', 1), ('optimismo', 2), ('sencilla', 3), ('dique', 1), ('busqué', 3), ('buscaba', 5), ('linterna', 4), ('noción', 1), ('francesas', 3), ('pimientos', 3), ('apasiona', 1), ('gradué', 1), ('faltarle', 2), ('cobijas', 1), ('mantas', 1), ('práctica', 7), ('ahorrar', 3), ('mirarlo', 2), ('200', 2), ('rayo', 2), ('diablo', 1), ('rechacé', 2), ('propuesta', 12), ('parezco', 3), ('lloviera', 1), ('seriamente', 2), ('habértelo', 3), ('mostré', 5), ('dormitorio', 7), ('indiqué', 1), ('deslicé', 1), ('resuelto', 5), ('misterio', 5), ('introduje', 1), ('comprendí', 4), ('llevan', 4), ('equivocas', 4), ('pensé', 42), ('viajé', 3), ('reírme', 2), ('escribirle', 3), ('adinerado', 1), ('colina', 5), ('ventanilla', 1), ('mp3', 1), ('pasillo', 3), ('olvidarla', 1), ('complacerte', 1), ('comportes', 2), ('ganaran', 2), ('amar', 3), ('vinieras', 3), ('supieras', 3), ('solitaria', 2), ('teatro', 6), ('¡una', 2), ('marcharme', 2), ('58', 1), ('kilogramos', 1), ('uní', 1), ('ejército', 4), ('marina', 1), ('pachanga', 1), ('panadería', 1), ('acompaño', 4), ('tendré', 9), ('empezaré', 1), ('trataré', 2), ('¡desearía', 1), ('estuvieses', 1), ('venderé', 1), ('alma', 4), ('farmacia', 1), ('culparía', 3), ('recostarme', 1), ('traicionaría', 4), ('admitiré', 1), ('amaré', 7), ('disculparé', 1), ('pediré', 1), ('cuidadosa', 3), ('vigilando', 3), ('pides', 2), ('soñaré', 1), ('conduciré', 1), ('termino', 3), ('¡siempre', 2), ('pintaré', 1), ('sacaré', 1), ('molido', 2), ('alérgico', 9), ('alérgica', 6), ('arqueólogo', 2), ('arqueóloga', 2), ('atrae', 2), ('dependo', 1), ('llamada', 6), ('arreglando', 2), ('doblando', 2), ('divorciando', 1), ('planchando', 3), ('asegurando', 2), ('guacamole', 1), ('ignorándote', 1), ('prestando', 1), ('resistente', 2), ('resolviendo', 1), ('acertijo', 3), ('haberte', 8), ('sorprendes', 1), ('vendido', 3), ('quemado', 1), ('tostada', 1), ('marcapasos', 1), ('dignidad', 2), ('gustado', 5), ('imperio', 1), ('¿mary', 3), ('¿hace', 3), ('¿seguro', 4), ('¿mi', 1), ('sonando', 9), ('diamante', 2), ('¿así', 1), ('¿mañana', 2), ('nervios', 3), ('oscuridad', 8), ('oscurecer', 1), ('alfombra', 2), ('indicativo', 2), ('revés', 5), ('militares', 1), ('menor', 5), ('chupado', 1), ('trozo', 7), ('enfermedad', 6), ('cuero', 1), ('cabelludo', 1), ('ingrato', 1), ('medida', 2), ('extremo', 1), ('justificar', 1), ('plaza', 1), ('nutritivo', 1), ('merecemos', 1), ('península', 1), ('prevalecerá', 1), ('corderos', 1), ('bebés', 4), ('prestame', 2), ('acompañe', 1), ('ocupo', 1), ('comprobarlo', 1), ('¡enfrentemos', 1), ('movamos', 1), ('invitemos', 1), ('dividámonos', 1), ('formalidad', 1), ('graciosa', 3), ('ampolletas', 1), ('emiten', 1), ('lincoln', 4), ('1865', 1), ('leones', 1), ('daltónicos', 1), ('nubes', 4), ('límites', 1), ('diseña', 1), ('vestidos', 1), ('limó', 1), ('uñas', 6), ('fiestera', 1), ('fea', 3), ('cardo', 1), ('pendiente', 2), ('¿tendría', 1), ('programa', 2), ('logres', 2), ('fortalece', 1), ('ajetreado', 1), ('nikon', 1), ('lavarse', 3), ('grietas', 1), ('castillo', 8), ('motocicleta', 2), ('palmas', 1), ('sudaban', 1), ('púrpura', 2), ('nicotina', 1), ('pesadillas', 7), ('lastimarte', 5), ('reconoce', 1), ('apoyó', 7), ('entendía', 1), ('sabios', 1), ('detenerle', 1), ('detenerte', 1), ('perturba', 1), ('relajarnos', 2), ('frigorífico', 2), ('refri', 1), ('empácalas', 1), ('escoja', 2), ('odies', 1), ('permanezcan', 1), ('sentados', 4), ('guárdeme', 1), ('ponerte', 2), ('resistirse', 1), ('mangas', 1), ('duplicado', 2), ('mandame', 1), ('mándame', 1), ('¿tomamos', 1), ('guía', 3), ('limpió', 3), ('presentó', 2), ('aperitivo', 1), ('numerosa', 2), ('planchó', 6), ('corredora', 1), ('lenta', 1), ('taxista', 2), ('usando', 7), ('lamió', 2), ('minifaldas', 2), ('echaba', 3), ('compañía', 6), ('azotó', 2), ('cachetada', 1), ('¡ella', 1), ('odiarlo', 1), ('detestaba', 1), ('amarle', 1), ('abrazarlo', 1), ('abrazarle', 1), ('chocó', 2), ('vestida', 4), ('nadaba', 1), ('pantis', 1), ('incluir', 1), ('enséñame', 13), ('pasión', 3), ('malignas', 1), ('mecanográfico', 1), ('encargado', 1), ('concrétese', 1), ('¡cíñete', 1), ('valores', 1), ('sumatra', 1), ('isla', 3), ('tómalo', 1), ('dígale', 2), ('recibirme', 1), ('desconcierta', 2), ('circulado', 1), ('aparte', 2), ('decepcionante', 2), ('especialidad', 4), ('grosería', 1), ('pseudociencia', 1), ('portón', 2), ('principal', 2), ('gateando', 2), ('tina', 1), ('batería', 6), ('frontera', 2), ('derrumbó', 3), ('dimitió', 4), ('ministerio', 1), ('maullando', 1), ('tictoc', 1), ('tic', 1), ('tac', 1), ('carbonera', 1), ('amaneciendo', 1), ('moverá', 1), ('bebidas', 1), ('manguera', 1), ('funcionaba', 2), ('encantada', 2), ('embrujada', 2), ('incendiando', 1), ('ampolleta', 3), ('encendidas', 2), ('comercial', 3), ('desierta', 4), ('sabor', 2), ('agrio', 1), ('cuanto', 7), ('clasificada', 1), ('x', 1), ('jode', 2), ('monjas', 1), ('trucada', 1), ('desbordó', 1), ('simples', 1), ('marineros', 2), ('guion', 2), ('húmedas', 2), ('escopeta', 1), ('inundada', 2), ('destiñe', 1), ('votación', 2), ('calmó', 1), ('curando', 1), ('espadas', 1), ('diferencia', 13), ('fuertes', 3), ('ciruelas', 1), ('maduras', 3), ('respetan', 1), ('quejan', 2), ('inseparables', 2), ('rompieron', 1), ('llaman', 4), ('tintinearon', 1), ('copas', 1), ('batidos', 2), ('bebieron', 1), ('intercambiaron', 4), ('cacería', 3), ('divirtieron', 1), ('entretuvieron', 1), ('requieren', 1), ('aparecieron', 1), ('separado', 3), ('empezaron', 4), ('atraparon', 1), ('lastimarme', 1), ('tottori', 1), ('desnudos', 1), ('divertían', 2), ('victoriosos', 1), ('capaces', 2), ('lágrimas', 7), ('coetáneos', 1), ('reflexiona', 1), ('¡piense', 1), ('¡piensa', 2), ('pensá', 3), ('podrida', 1), ('cerrará', 1), ('seda', 10), ('aprobación', 1), ('canario', 1), ('chollo', 2), ('auténtica', 3), ('ganga', 2), ('carcinógeno', 1), ('carnet', 3), ('departamento', 5), ('chistoso', 2), ('folleto', 1), ('limón', 4), ('maduro', 1), ('cambie', 2), ('cambiarse', 2), ('abarrotada', 2), ('costar', 1), ('20', 4), ('octubre', 9), ('gigante', 1), ('disculpar', 1), ('emparedado', 2), ('sandwich', 1), ('deprimió', 1), ('desesperó', 1), ('abordó', 2), ('marcó', 1), ('ternero', 1), ('tropezó', 1), ('llamarla', 1), ('tolera', 1), ('coleccionaba', 3), ('sellos', 4), ('ansias', 1), ('cruzó', 4), ('chapucero', 2), ('resistió', 1), ('volvía', 1), ('regresaba', 1), ('incendio', 4), ('realiza', 1), ('consume', 3), ('arregló', 3), ('ardua', 2), ('heredero', 1), ('varón', 1), ('2020', 1), ('carácter', 1), ('gramófono', 1), ('reñido', 2), ('remordimientos', 1), ('rasgados', 1), ('tíos', 1), ('cebollas', 2), ('crudas', 2), ('escondió', 4), ('ático', 3), ('sentimientos', 6), ('mentor', 1), ('milmillonario', 1), ('ligeramente', 1), ('corredor', 2), ('bombero', 1), ('bailarín', 4), ('neurólogo', 1), ('repostería', 1), ('pastelero', 2), ('maleducada', 1), ('conectado', 1), ('evangelista', 1), ('evangelizador', 1), ('asando', 1), ('anticuado', 1), ('regañando', 1), ('mandando', 1), ('fax', 1), ('dándose', 1), ('acusado', 3), ('demandada', 1), ('detallista', 2), ('derribó', 3), ('consecuencias', 2), ('disciplina', 2), ('carece', 3), ('motivación', 1), ('carcajada', 1), ('aritmética', 2), ('basquetbol', 1), ('audición', 1), ('burló', 3), ('lastimarnos', 1), ('fregó', 1), ('impuso', 1), ('multa', 2), ('300', 3), ('cajera', 1), ('cajero', 2), ('peló', 3), ('envenenó', 2), ('declaró', 2), ('apagó', 15), ('recomendó', 1), ('rehusó', 5), ('ceder', 2), ('recargó', 1), ('rebobinó', 1), ('enjuagó', 2), ('soriendo', 1), ('exposiciones', 1), ('fertilizante', 1), ('sacudiéndola', 1), ('partiendo', 1), ('debió', 7), ('derramó', 3), ('murmurar', 1), ('roncar', 1), ('revolvió', 1), ('limpiar', 11), ('desató', 3), ('cuerdas', 1), ('ansiosamente', 1), ('quiso', 12), ('mintiera', 2), ('matarnos', 3), ('encontrarse', 1), ('contable', 2), ('minero', 1), ('leñador', 2), ('mil', 5), ('cacharon', 1), ('agarraron', 1), ('redondito', 2), ('electrocutó', 1), ('declarado', 1), ('rehén', 1), ('hospitalizado', 1), ('cabaña', 1), ('vigiló', 1), ('silenciosamente', 1), ('clandestinidad', 1), ('pondrá', 3), ('aprobaría', 1), ('aceptaría', 2), ('reporte', 4), ('averió', 1), ('entumecido', 1), ('desvaneció', 2), ('feriado', 4), ('intuición', 1), ('desempleo', 2), ('usá', 1), ('imaginación', 3), ('visitantes', 1), ('¿había', 2), ('¿hubo', 1), ('autopsia', 3), ('refleja', 2), ('cometemos', 4), ('trajimos', 2), ('veníamos', 2), ('discutimos', 1), ('propinas', 2), ('elegimos', 3), ('ventaja', 4), ('estrictas', 1), ('rendirnos', 1), ('contárselo', 1), ('abrazamos', 1), ('besamos', 2), ('partiremos', 1), ('ganemos', 2), ('movernos', 2), ('reducir', 2), ('festejamos', 3), ('vendemos', 1), ('compartíamos', 1), ('preocuparnos', 1), ('sospechamos', 1), ('envenenamiento', 1), ('aguardamos', 1), ('asegurarnos', 1), ('apretados', 2), ('atacados', 1), ('perdonaremos', 2), ('fábrica', 7), ('comeremos', 2), ('superaremos', 2), ('tocaremos', 1), ('aproximadamente', 2), ('cuidadosos', 3), ('atacan', 1), ('llamamos', 1), ('venimos', 2), ('acercando', 3), ('desordenados', 1), ('interesados', 1), ('terroristas', 2), ('balas', 2), ('bala', 3), ('plantando', 1), ('semillas', 1), ('escasos', 2), ('dueños', 1), ('vulnerables', 2), ('rumbo', 3), ('abandonados', 1), ('saboteado', 1), ('discutido', 1), ('digno', 1), ('grata', 1), ('ocultan', 1), ('funciones', 1), ('bell', 1), ('¿sobre', 3), ('implica', 2), ('equivocáis', 1), ('corrida', 1), ('toros', 2), ('toreo', 1), ('corridas', 1), ('edificio', 7), ('sobrenombre', 1), ('ubicación', 1), ('visitarlos', 2), ('volveréis', 1), ('volverás', 4), ('guardias', 2), ('sacado', 2), ('estación', 17), ('deberiamos', 1), ('director', 1), ('uniforme', 1), ('elegiste', 1), ('borró', 1), ('eliminado', 1), ('quedarás', 4), ('creó', 3), ('demonios', 3), ('plantó', 2), ('dirige', 3), ('burlará', 1), ('¿amigo', 1), ('despediste', 1), ('huiste', 1), ('arrancaste', 1), ('ignoras', 1), ('consiente', 1), ('consientes', 1), ('trabajáis', 1), ('respondes', 1), ('intentas', 3), ('esconderse', 4), ('¿veré', 1), ('¿ayudará', 1), ('¿habrá', 1), ('probarás', 1), ('esperarás', 1), ('mentiría', 2), ('perdonarías', 1), ('¿mentirías', 1), ('¿preferirías', 2), ('apellidos', 1), ('diligentes', 1), ('poner', 23), ('ignorar', 1), ('captás', 1), ('advertidos', 1), ('sentimiento', 2), ('alegrar', 1), ('significas', 1), ('significáis', 1), ('tocarlo', 5), ('reposar', 1), ('sobrestimas', 1), ('recursos', 2), ('indiferente', 1), ('despreocupado', 1), ('somnoliento', 1), ('debiste', 2), ('dormís', 1), ('creerme', 2), ('entras', 3), ('averiguarás', 1), ('encontraréis', 1), ('pararás', 1), ('¡sos', 1), ('mentirosa', 3), ('evasivo', 1), ('bajoneando', 1), ('yendo', 6), ('oportunista', 1), ('hipersensible', 1), ('tacto', 1), ('misterioso', 2), ('tentando', 1), ('expiatorio', 1), ('turco', 1), ('casco', 1), ('errónea', 3), ('delfín', 1), ('pajarito', 1), ('buscarle', 1), ('buscarlo', 2), ('pasarán', 1), ('áfrica', 4), ('continente', 2), ('¡y', 1), ('esforcé', 1), ('máximo', 1), ('¿éstos', 1), ('pantuflas', 1), ('cansando', 1), ('contenta', 3), ('ud', 2), ('nana', 1), ('viajan', 2), ('deliciosos', 1), ('exquisitos', 1), ('bananas', 2), ('deliciosas', 2), ('bayas', 1), ('congelar', 1), ('carteristas', 1), ('lanzas', 2), ('afirmaciones', 1), ('falsas', 1), ('ciertas', 1), ('¡trae', 1), ('¡tráete', 1), ('abróchense', 1), ('cinturones', 1), ('cómpralo', 1), ('pedirte', 8), ('prestas', 8), ('comprarte', 1), ('patines', 1), ('apagar', 3), ('¿podrá', 2), ('contestar', 3), ('atender', 1), ('remos', 1), ('describirles', 1), ('describirlos', 1), ('morirse', 1), ('identificarlo', 1), ('identificar', 1), ('reconocer', 1), ('prestarías', 1), ('meterme', 1), ('mantiene', 6), ('brújulas', 1), ('¿podríamos', 1), ('hablarte', 2), ('repetir', 2), ('cúbralo', 1), ('córtalo', 1), ('¿llovió', 1), ('¿cortaste', 1), ('¿descubriste', 1), ('¿descubristeis', 1), ('¿recibiste', 6), ('¿escuchaste', 2), ('pusiste', 4), ('usado', 7), ('¿querías', 3), ('¿quisiste', 1), ('mencioné', 1), ('¿crees', 17), ('¿creen', 2), ('¿cree', 2), ('¿creéis', 2), ('¿creés', 6), ('existencia', 1), ('¿disfrutas', 2), ('¿vuelas', 1), ('¿vuelan', 1), ('encendedor', 1), ('boleta', 2), ('auriculares', 1), ('audífonos', 1), ('¿debes', 1), ('atún', 3), ('¿oís', 1), ('lomo', 1), ('¿toca', 4), ('¿vende', 1), ('pilas', 2), ('amás', 1), ('ruegue', 1), ('¿trabajas', 2), ('¿usa', 1), ('¿alguno', 2), ('¿nadie', 2), ('entierran', 1), ('huesos', 2), ('irracional', 1), ('muerdas', 1), ('cortes', 2), ('cortés', 2), ('ostiones', 1), ('hilo', 1), ('dental', 1), ('involucres', 1), ('aleje', 1), ('bromees', 1), ('apoyes', 2), ('menee', 1), ('descubras', 1), ('maldigas', 1), ('público', 7), ('hablés', 1), ('toquen', 1), ('extraños', 4), ('pruebes', 1), ('malgasten', 1), ('clic', 2), ('ícono', 2), ('ruina', 1), ('lléveme', 1), ('estrógeno', 1), ('hormona', 1), ('artistas', 1), ('bajaron', 3), ('bajito', 1), ('oscureció', 2), ('acudieron', 2), ('consíganme', 1), ('quítalo', 2), ('quítame', 2), ('¡devuélveme', 1), ('entrégale', 1), ('universo', 3), ('adiviná', 1), ('adivinen', 4), ('cenaste', 1), ('admiró', 1), ('admitió', 2), ('adoptó', 1), ('gastó', 4), ('izquierdo', 3), ('varias', 4), ('inglaterra', 2), ('distribuye', 1), ('muebles', 8), ('lágrima', 1), ('grúa', 1), ('10000', 1), ('cobra', 2), ('recibe', 2), ('medicamentos', 2), ('afilada', 2), ('rueda', 3), ('nacimiento', 4), ('heroína', 2), ('heroinómano', 1), ('tirador', 1), ('agudo', 2), ('futbolista', 2), ('entusiasta', 1), ('ordinario', 3), ('faltan', 2), ('jugadores', 4), ('enseñando', 4), ('incapaz', 3), ('gacho', 1), ('chupó', 3), ('buscó', 1), ('tierras', 3), ('descansó', 2), ('vendría', 3), ('rascó', 3), ('¡salgan', 1), ('¡sale', 1), ('indicó', 1), ('unirá', 1), ('fracase', 1), ('presentará', 1), ('bronce', 2), ('maravillosamente', 1), ('arrancará', 1), ('remate', 1), ('llanto', 2), ('levantando', 2), ('sonrojaron', 1), ('mofletes', 1), ('contados', 2), ('ruedas', 4), ('suenan', 1), ('alocadas', 1), ('firmeza', 2), ('ocurrir', 5), ('profundos', 2), ('brincar', 1), ('tarda', 2), ('pesas', 2), ('mantengo', 4), ('cepillando', 5), ('cosechando', 1), ('calentando', 3), ('vendiendo', 1), ('vendrían', 1), ('asumí', 4), ('deditos', 1), ('curry', 1), ('milagros', 3), ('florero', 1), ('oler', 1), ('océano', 2), ('atestiguar', 1), ('deshacer', 3), ('prometer', 1), ('tolero', 1), ('estornudar', 1), ('cargué', 1), ('alcancé', 1), ('considero', 4), ('hacerla', 1), ('definitivamente', 5), ('ascenso', 3), ('sobrevivir', 2), ('atreví', 1), ('atrevía', 1), ('doné', 1), ('caché', 1), ('talla', 8), ('estudié', 4), ('correspondencia', 1), ('brécol', 1), ('licores', 1), ('oboe', 1), ('afeito', 2), ('sueco', 1), ('expliqué', 1), ('prohíbo', 2), ('salgas', 4), ('descubrí', 3), ('hallé', 1), ('sedante', 1), ('obtengo', 1), ('11', 1), ('perforé', 1), ('ocultar', 6), ('precocida', 1), ('recados', 1), ('habilidades', 4), ('destreza', 1), ('propias', 2), ('secar', 1), ('alimentar', 2), ('recuperarlo', 1), ('debajo', 6), ('pegué', 2), ('mentón', 1), ('barbilla', 1), ('importe', 1), ('entiendas', 2), ('comprendas', 1), ('cuántos', 4), ('vivís', 2), ('platicar', 1), ('esmerado', 1), ('teñirme', 2), ('futbol', 2), ('inspiración', 2), ('interpretar', 1), ('músicos', 1), ('romance', 1), ('clavos', 2), ('intérprete', 1), ('cápsulas', 1), ('impresionar', 1), ('arrendar', 1), ('olvido', 2), ('biología', 2), ('exámenes', 1), ('pospuse', 1), ('evento', 3), ('arruiné', 1), ('haberla', 3), ('lavarme', 2), ('cometo', 3), ('recomiendo', 2), ('oeste', 3), ('afané', 1), ('conversé', 2), ('frenillos', 2), ('bulo', 1), ('apañaremos', 1), ('apañamos', 1), ('deshice', 3), ('encendí', 2), ('pomo', 1), ('disgustaba', 1), ('tercera', 5), ('explicación', 7), ('adelgazar', 2), ('corea', 1), ('madures', 1), ('beses', 1), ('leerlos', 1), ('acusaron', 1), ('injustamente', 1), ('montaña', 9), ('asistiré', 3), ('aceptaré', 2), ('volaré', 1), ('alemania', 3), ('necesitaré', 2), ('¡quisiera', 1), ('denunciare', 1), ('denunciar', 1), ('dormiré', 2), ('embajada', 1), ('mcdonalds', 1), ('agradado', 1), ('conduzcas', 2), ('golpearía', 2), ('aconsejas', 1), ('apetezca', 1), ('obtendré', 1), ('prepararé', 2), ('firmaré', 1), ('enseñaré', 3), ('contaré', 8), ('contarte', 2), ('regar', 1), ('abuelo', 7), ('fan', 1), ('concejal', 1), ('alturas', 3), ('agotaron', 1), ('trucos', 1), ('avergüenzo', 4), ('restaurante', 4), ('atraído', 1), ('acuerdes', 1), ('besaré', 1), ('extraoficialmente', 1), ('septimo', 1), ('matando', 6), ('pizca', 1), ('materialista', 2), ('cansé', 3), ('agobiado', 1), ('ritmo', 1), ('habituado', 1), ('negado', 3), ('decepcionada', 1), ('hambrita', 1), ('descubrimiento', 1), ('fijado', 1), ('organizado', 2), ('sangrar', 2), ('ocupé', 1), ('maneras', 1), ('¿sucede', 1), ('martes', 2), ('instalar', 1), ('¿realmente', 8), ('instalaciones', 1), ('ciertos', 1), ('tela', 4), ('heló', 1), ('pelos', 3), ('punta', 1), ('confirmado', 2), ('confirmada', 1), ('crucero', 1), ('desgarra', 1), ('interiormente', 1), ('forzada', 2), ('imponente', 1), ('sofocantemente', 1), ('dificilísimo', 1), ('valió', 3), ('intencional', 1), ('dejará', 2), ('inversión', 2), ('descolorido', 1), ('cultural', 1), ('estallar', 3), ('aunque', 1), ('pela', 3), ('verá', 1), ('recompensado', 1), ('sucediendo', 1), ('completo', 8), ('olimpíadas', 1), ('obligación', 2), ('notorio', 1), ('estresante', 2), ('autoexplicativo', 1), ('empezando', 5), ('picante', 5), ('frustrante', 1), ('esperábamos', 2), ('júpiter', 1), ('cadena', 2), ('¡prosigue', 1), ('buitreé', 1), ('apréndete', 1), ('frases', 1), ('sácalo', 1), ('entorna', 1), ('déjenme', 2), ('cargar', 2), ('jueguen', 1), ('dejemos', 4), ('decida', 1), ('construyamos', 1), ('llamémosle', 1), ('snoopy', 1), ('llamemos', 1), ('bajémonos', 1), ('¡vámonos', 2), ('ayudémonos', 1), ('dejémosla', 1), ('juntémonos', 1), ('emocionemos', 1), ('abramos', 1), ('quemadas', 1), ('voleibol', 7), ('repasar', 1), ('5', 1), ('ajustar', 1), ('viajemos', 1), ('apaguemos', 1), ('palo', 2), ('astilla', 1), ('sentite', 1), ('siéntete', 1), ('siéntase', 2), ('disgustada', 2), ('rechazados', 1), ('exesposa', 1), ('abuela', 4), ('peluquera', 1), ('trofeo', 2), ('oncóloga', 1), ('hilando', 1), ('lana', 1), ('besara', 3), ('concedes', 1), ('baile', 3), ('mike', 1), ('tyson', 1), ('boxeador', 1), ('agitado', 2), ('rige', 1), ('gobierna', 1), ('reparado', 3), ('encantará', 1), ('celular', 8), ('apagado', 1), ('instinto', 2), ('abogada', 3), ('agenda', 1), ('desgastados', 2), ('comprometió', 3), ('aprecia', 1), ('controlarnos', 1), ('incumbencia', 4), ('escuchaba', 2), ('obviamente', 5), ('tuberías', 1), ('reventaron', 1), ('encontremos', 1), ('adopta', 6), ('adopte', 3), ('adoptá', 2), ('adoptad', 1), ('adopten', 3), ('micho', 1), ('michín', 1), ('misho', 1), ('reparte', 2), ('plancha', 3), ('planchá', 1), ('mantenlo', 1), ('medidor', 1), ('repare', 1), ('prenda', 1), ('prendan', 1), ('despiértame', 2), ('presenta', 1), ('argumentos', 1), ('intimidad', 1), ('persigue', 1), ('intereses', 2), ('deseche', 1), ('temores', 1), ('¡bajen', 2), ('queráis', 6), ('quieran', 2), ('reproducen', 1), ('rapidamente', 1), ('transmiten', 2), ('epidemia', 1), ('vuélvelo', 1), ('sentadas', 1), ('sentada', 1), ('recuérdate', 1), ('acuérdate', 1), ('reformule', 1), ('lenguaje', 1), ('llano', 1), ('840', 1), ('mándanos', 1), ('impresión', 3), ('apártame', 1), ('actuó', 10), ('suicidarse', 4), ('apaleó', 1), ('tarado', 1), ('español', 5), ('obsequio', 3), ('entregó', 3), ('ceceo', 1), ('cintura', 2), ('almuerza', 1), ('muchísimo', 8), ('nadadora', 2), ('diecisiete', 3), ('víctima', 1), ('emparentada', 1), ('pariente', 1), ('cosiendo', 1), ('visitando', 2), ('baloncesto', 6), ('agonía', 1), ('desafina', 1), ('estudiase', 1), ('analgésico', 1), ('besarlo', 1), ('besarle', 2), ('depresión', 1), ('despistada', 1), ('enséñeme', 3), ('abandonas', 1), ('ganaré', 1), ('renacuajos', 1), ('convierten', 1), ('ranas', 2), ('aliste', 1), ('¡contame', 1), ('unírtenos', 1), ('avisarme', 1), ('maca', 1), ('tardó', 1), ('miserable', 2), ('faltado', 2), ('detalle', 2), ('desalentador', 1), ('suposición', 1), ('pensábamos', 1), ('cañería', 1), ('comprensible', 1), ('sinsentido', 1), ('jackson', 4), ('vía', 2), ('láctea', 1), ('inmensa', 1), ('impidió', 1), ('estrepitosamente', 1), ('dixie', 1), ('funcionaban', 2), ('cumplirá', 1), ('limpieza', 1), ('comparación', 1), ('apropiada', 2), ('dato', 2), ('alentador', 1), ('mordiendo', 1), ('alcantarilla', 3), ('obstruida', 1), ('precipitó', 3), ('goteando', 2), ('mutuo', 1), ('archivos', 2), ('inundación', 1), ('tremenda', 1), ('dorado', 1), ('halcón', 1), ('espeso', 2), ('tetera', 1), ('pava', 1), ('extensa', 1), ('ilimitada', 1), ('reuniones', 6), ('malísimo', 1), ('entristeció', 1), ('rechazada', 2), ('agravó', 1), ('secado', 2), ('laguna', 2), ('bendijo', 1), ('proceso', 1), ('régimen', 1), ('caído', 4), ('falsos', 1), ('situación', 12), ('salada', 3), ('creíble', 2), ('amena', 1), ('confesó', 6), ('ilegible', 1), ('marea', 1), ('tratado', 3), ('firmado', 1), ('quitaron', 1), ('tumor', 5), ('removieron', 2), ('tifón', 1), ('arrasó', 1), ('unánime', 1), ('1945', 1), ('1954', 1), ('ejemplos', 1), ('mancha', 3), ('grasa', 3), ('dificultad', 2), ('sustituto', 1), ('alumnas', 1), ('difíciles', 2), ('lucían', 1), ('armaron', 1), ('bombones', 3), ('comparten', 1), ('confabularon', 1), ('cargaron', 2), ('castigados', 1), ('castigar', 1), ('evitaron', 1), ('despreciaron', 1), ('repartieron', 1), ('lavan', 1), ('carcajadas', 1), ('faltos', 1), ('estrictos', 1), ('criminales', 1), ('peligrosos', 5), ('peligrosas', 2), ('arreglado', 2), ('calentador', 1), ('abanico', 2), ('manchado', 1), ('inapropiado', 2), ('preciada', 1), ('creación', 1), ('deprimente', 1), ('impactantes', 1), ('imponentes', 1), ('suyas', 1), ('sana', 1), ('heridas', 2), ('almorzó', 4), ('restos', 2), ('completos', 1), ('católico', 1), ('cepilló', 1), ('permitirse', 1), ('maní', 1), ('casualmente', 1), ('compuso', 1), ('soneto', 1), ('autocorrigió', 1), ('faltó', 2), ('recompensa', 1), ('abdominales', 1), ('dormía', 2), ('compasión', 4), ('accedió', 1), ('barro', 1), ('coqueteó', 1), ('camisas', 3), ('casillas', 1), ('taburete', 2), ('diplomó', 1), ('creció', 4), ('ajetreada', 1), ('leyeron', 1), ('palma', 1), ('jet', 1), ('lacio', 1), ('primas', 1), ('hijastro', 2), ('altivo', 1), ('cardiólogo', 1), ('atleta', 2), ('cuadripléjico', 1), ('humorista', 1), ('conflictivo', 1), ('cociendo', 1), ('claustrofobia', 1), ('consolando', 1), ('divorciándose', 1), ('donando', 1), ('calificando', 1), ('bastantes', 3), ('aporreado', 1), ('entonado', 1), ('sumo', 1), ('sarcástico', 1), ('divertirse', 3), ('quiché', 1), ('laptop', 3), ('conectó', 1), ('enchufó', 1), ('pulsó', 2), ('apestaba', 1), ('intentaría', 2), ('restregó', 1), ('últimamente', 5), ('ánimo', 1), ('empacar', 2), ('recriminado', 1), ('pagarlo', 2), ('mostraba', 2), ('arrepentimiento', 1), ('raspó', 1), ('resolvió', 2), ('acarició', 1), ('pensó', 5), ('abrazar', 2), ('tergiversó', 1), ('descorchó', 1), ('subestimó', 2), ('listón', 1), ('culparnos', 1), ('casarse', 10), ('sentarse', 4), ('enterrado', 3), ('desconsiderado', 1), ('mirándome', 3), ('indudablemente', 1), ('triatlón', 1), ('prefiere', 4), ('premonición', 1), ('presta', 2), ('sitios', 1), ('desocupados', 2), ('explotó', 1), ('1939', 3), ('estalló', 2), ('¿hizo', 1), ('aceptado', 1), ('angustiábamos', 1), ('instancia', 1), ('moriremos', 2), ('deseamos', 3), ('molestándole', 1), ('futbolistas', 1), ('capturamos', 1), ('cima', 2), ('continuamos', 1), ('seguimos', 2), ('derrotamos', 1), ('exigimos', 1), ('condujimos', 2), ('emborrachamos', 1), ('pusimos', 2), ('navegación', 1), ('arrodillamos', 1), ('adoramos', 1), ('descansamos', 1), ('solíamos', 3), ('caminamos', 4), ('rescate', 1), ('decepcionaremos', 1), ('preparemos', 2), ('volveremos', 1), ('viviremos', 1), ('reyes', 1), ('perderemos', 1), ('trataremos', 1), ('progresando', 2), ('descubiertos', 1), ('¿estuviste', 4), ('¿estuvisteis', 1), ('levantadas', 1), ('desilusión', 1), ('espantoso', 5), ('atrocidad', 1), ('síntomas', 1), ('hechas', 1), ('ruidos', 1), ('insinuando', 1), ('tejiendo', 1), ('pasatiempos', 2), ('trajiste', 3), ('descubriste', 2), ('contaste', 1), ('recomendarías', 2), ('refiere', 2), ('serviría', 1), ('grado', 3), ('aprendido', 3), ('disparate', 1), ('idioma', 2), ('abres', 1), ('demoró', 1), ('llevado', 2), ('averiguaste', 1), ('llegarán', 1), ('muletas', 1), ('duchas', 3), ('servicios', 2), ('creciste', 1), ('diablos', 1), ('¿donde', 2), ('cruz', 2), ('presidente', 6), ('bronceador', 1), ('testigos', 2), ('¿contra', 1), ('pelean', 1), ('muñeco', 2), ('descubrió', 9), ('comerás', 1), ('susurrando', 1), ('melancólico', 1), ('comes', 4), ('estacionaste', 1), ('preguntastes', 1), ('pensás', 2), ('entrás', 1), ('pasas', 4), ('creces', 1), ('acompañarnos', 1), ('unes', 1), ('callas', 1), ('sucedería', 1), ('lastimarías', 1), ('querer', 4), ('¿volveremos', 1), ('acompañarás', 1), ('¿recibís', 1), ('¿recibe', 1), ('¡caramba', 1), ('guau', 1), ('anótalo', 1), ('iniciado', 1), ('sesión', 1), ('500', 1), ('hacerte', 4), ('gobernar', 1), ('sentaros', 2), ('domesticar', 1), ('pudiste', 1), ('suenas', 2), ('genios', 2), ('aguantarse', 1), ('agotada', 1), ('cumplir', 5), ('haberlos', 1), ('seguirme', 1), ('creiste', 1), ('siembra', 1), ('tempestades', 1), ('recoges', 2), ('siembras', 3), ('cosechas', 1), ('recuperaste', 1), ('habérmelo', 4), ('nadas', 2), ('nadan', 2), ('parecéis', 1), ('debéis', 2), ('castigada', 1), ('acostumbraréis', 1), ('cantas', 2), ('invencible', 2), ('predecible', 1), ('monda', 1), ('idealista', 1), ('inflexible', 3), ('hermosísima', 3), ('observador', 1), ('escéptica', 2), ('reclama', 1), ('retrasan', 1), ('napia', 1), ('manchada', 1), ('desatados', 3), ('adelanta', 1), ('2539', 1), ('salvaje', 1), ('imán', 1), ('mosquito', 1), ('picar', 2), ('zancudo', 1), ('requiere', 1), ('contraseña', 2), ('conejo', 3), ('esponja', 4), ('hablarme', 2), ('bastarán', 1), ('domesticado', 1), ('bebía', 1), ('reservados', 1), ('buses', 3), ('llenos', 7), ('bondis', 2), ('maduros', 1), ('asustan', 1), ('¿dejas', 1), ('apuntando', 1), ('grabando', 1), ('ingleses', 1), ('destruida', 1), ('caen', 2), ('tejones', 1), ('cavan', 2), ('caerte', 1), ('revistas', 2), ('comprá', 1), ('leelo', 1), ('¿podré', 1), ('burlar', 1), ('traerte', 1), ('almohadón', 1), ('entregan', 1), ('pasármelo', 1), ('entregármelo', 1), ('planeta', 1), ('trepar', 1), ('omelet', 2), ('contabilidad', 1), ('¿habrás', 1), ('acercar', 1), ('garantizar', 2), ('cuidar', 4), ('solucionar', 3), ('plátano', 2), ('análisis', 1), ('cocine', 1), ('gramos', 1), ('podar', 2), ('pasear', 4), ('¿recibió', 1), ('¿encontraron', 1), ('¿terminaste', 1), ('metiste', 1), ('¿necesitabas', 1), ('¿revisaste', 1), ('¿nadaste', 1), ('¿quería', 1), ('¿queríais', 1), ('¿querían', 1), ('¿trabajaste', 1), ('operación', 2), ('¿esos', 1), ('ovnis', 2), ('¿venís', 1), ('¿soñás', 1), ('¿sueñas', 1), ('¿tomas', 3), ('entregas', 1), ('¿traes', 1), ('cicatrices', 1), ('manual', 2), ('arca', 1), ('noé', 1), ('¿saben', 1), ('cappelletis', 1), ('¿practicas', 1), ('¿tocáis', 1), ('¿lees', 1), ('¿reconoces', 1), ('mapache', 1), ('esperanto', 2), ('diariamente', 1), ('¿pensás', 5), ('caramelo', 2), ('matarme', 4), ('besarme', 2), ('¿escribes', 2), ('¿escribís', 1), ('pusilánime', 1), ('nieva', 1), ('estupidez', 1), ('leales', 1), ('maltrates', 1), ('halagues', 1), ('dejéis', 1), ('escape', 1), ('asuste', 1), ('permitas', 1), ('desanime', 1), ('consientas', 1), ('atemorice', 1), ('estribos', 1), ('prometas', 1), ('pulsar', 1), ('mandes', 1), ('falten', 2), ('¿ok', 1), ('malcríes', 1), ('relaje', 4), ('arrojes', 1), ('traten', 1), ('subestimes', 4), ('subestiméis', 1), ('malgaste', 1), ('¿jamás', 2), ('¿nunca', 4), ('callás', 1), ('sobrante', 1), ('lucen', 2), ('títeres', 1), ('permanecieron', 1), ('relativo', 1), ('encontrarte', 4), ('descubre', 2), ('plega', 1), ('salvajes', 1), ('consigan', 1), ('agarren', 1), ('palas', 1), ('cuelgue', 1), ('ropas', 2), ('123', 1), ('sucedido', 1), ('¿alimentaste', 1), ('lunático', 3), ('derrota', 2), ('entera', 2), ('nivel', 2), ('mundial', 3), ('sopló', 1), ('docena', 3), ('desistió', 1), ('espíritus', 1), ('hangzhou', 1), ('periódicos', 1), ('exigió', 1), ('paraba', 1), ('vestía', 4), ('derrochó', 1), ('vaga', 1), ('anchos', 1), ('bretaña', 1), ('pesos', 1), ('dispositivo', 1), ('violinista', 1), ('destinado', 2), ('fluido', 5), ('asesinato', 10), ('recostó', 1), ('aparece', 1), ('milton', 1), ('tocaba', 2), ('finge', 1), ('demostró', 1), ('arrepiente', 1), ('repara', 1), ('retira', 1), ('jubila', 1), ('ahorra', 1), ('apartado', 2), ('tragó', 2), ('orgullo', 2), ('física', 2), ('asignaron', 1), ('felizmente', 1), ('acariciaba', 1), ('visiblemente', 1), ('dentista', 2), ('acabará', 1), ('creería', 1), ('presión', 2), ('perdonará', 2), ('beisbolista', 1), ('devoto', 1), ('cadete', 1), ('topo', 1), ('espiarnos', 1), ('apoya', 1), ('entreteniendo', 1), ('paredes', 1), ('porta', 3), ('ruidosa', 3), ('descartado', 1), ('negativa', 1), ('paraíso', 1), ('sorprendieron', 1), ('sereno', 1), ('apago', 1), ('torre', 5), ('pronuncia', 1), ('costaron', 1), ('bebes', 4), ('6', 2), ('melancólica', 1), ('descargando', 1), ('pepino', 1), ('prendiendo', 1), ('memorizando', 2), ('dieciséis', 3), ('empantanado', 1), ('ordenando', 3), ('apruebo', 1), ('ayudara', 3), ('llamaras', 1), ('llamarais', 1), ('llamara', 1), ('llamaran', 1), ('armo', 1), ('motores', 2), ('solito', 1), ('asistí', 1), ('rogué', 1), ('cuidarte', 2), ('aguantar', 3), ('ganáramos', 1), ('agarrado', 1), ('catarro', 2), ('atroz', 1), ('elegí', 1), ('contacté', 1), ('incorrectamente', 2), ('critiqué', 1), ('chapoteo', 1), ('gasté', 5), ('céntimo', 2), ('centavo', 1), ('desagrada', 1), ('cocino', 4), ('apariencia', 1), ('donación', 1), ('acabé', 2), ('disfrutado', 1), ('temblar', 1), ('sacudirse', 2), ('cobré', 1), ('alhajas', 1), ('arreglara', 1), ('par', 10), ('inflamado', 1), ('terribles', 2), ('e', 9), ('5000', 1), ('cepillar', 1), ('peinarme', 2), ('chaveta', 1), ('auxilio', 1), ('llamaban', 1), ('cerrarse', 1), ('estén', 2), ('conformes', 1), ('consigamos', 1), ('logremos', 1), ('resulte', 1), ('heredé', 1), ('ascender', 1), ('guardo', 1), ('reaccionar', 3), ('serías', 3), ('tendrías', 1), ('volverías', 1), ('personalmente', 10), ('diferentes', 3), ('lesionó', 1), ('lograr', 1), ('sombrilla', 1), ('obama', 1), ('clásica', 1), ('medianamente', 1), ('sorprenderme', 1), ('masticar', 2), ('observar', 3), ('rural', 1), ('americanas', 1), ('navideñas', 1), ('pudín', 1), ('tapioca', 1), ('emití', 2), ('conciencia', 3), ('precipitado', 3), ('aseguré', 1), ('acueste', 1), ('enfadara', 1), ('major', 1), ('norteamericana', 1), ('necesite', 3), ('vea', 4), ('botiquín', 1), ('asesoramiento', 1), ('usb', 2), ('cubiertos', 1), ('documentos', 3), ('prepararme', 1), ('hacerle', 3), ('arriendo', 1), ('pasta', 3), ('acordeón', 2), ('toqué', 2), ('prometo', 4), ('carnada', 1), ('cebo', 1), ('esposé', 1), ('cancha', 1), ('entero', 5), ('deprimí', 1), ('reconocí', 1), ('arrepentí', 1), ('actualicé', 1), ('acordé', 1), ('regresé', 2), ('chamba', 1), ('millas', 2), ('liz', 1), ('golpear', 1), ('rebaño', 1), ('ovejas', 1), ('lejana', 1), ('escaparse', 1), ('revista', 6), ('puesta', 5), ('apreté', 2), ('estudiéis', 1), ('terapia', 1), ('competente', 2), ('movieran', 1), ('movieras', 1), ('quedaras', 4), ('llevé', 1), ('anduve', 2), ('pretendido', 1), ('protegerte', 2), ('plenamente', 1), ('mantenerme', 2), ('informada', 1), ('frescos', 1), ('cocinarte', 1), ('recepción', 1), ('alegré', 1), ('preguntaras', 1), ('recordando', 1), ('contendiente', 1), ('regañaba', 1), ('criaron', 1), ('requeteafortunada', 1), ('60', 1), ('distinto', 3), ('conociera', 1), ('hawái', 1), ('hubieras', 3), ('fueras', 4), ('chantajeen', 1), ('fallaré', 1), ('fracasaré', 1), ('invitar', 4), ('preguntaba', 1), ('asesor', 2), ('consultor', 1), ('lastimaría', 1), ('probaría', 1), ('ofrecido', 1), ('aconsejaría', 1), ('apostaría', 1), ('entraría', 1), ('repetiría', 1), ('pensaría', 1), ('despierte', 1), ('mediana', 1), ('reemplazarlo', 1), ('guardaespaldas', 1), ('mantendré', 3), ('horario', 4), ('decidiré', 1), ('explicaré', 5), ('contactaré', 1), ('compondré', 1), ('pondré', 1), ('perdonaré', 3), ('enviar', 3), ('enviaré', 1), ('estudiaré', 2), ('próximo', 14), ('hablaré', 2), ('gluten', 1), ('autorizo', 1), ('solicitando', 1), ('avergüenza', 2), ('fascinan', 1), ('estuvieras', 2), ('cooperar', 1), ('sedienta', 1), ('terapeuta', 1), ('desorden', 2), ('meditar', 1), ('acordarme', 3), ('analizado', 2), ('jugado', 1), ('desgasté', 1), ('incentivo', 1), ('logrará', 1), ('reciente', 1), ('¿sólo', 1), ('¿queda', 5), ('objeción', 2), ('vergonzoso', 1), ('mangos', 1), ('ocurrirte', 1), ('ocurriros', 2), ('ocurrirle', 2), ('sorprende', 1), ('olía', 1), ('jerusalén', 1), ('roca', 1), ('narices', 2), ('llovía', 2), ('dulcemente', 1), ('excitante', 1), ('premeditado', 1), ('monumental', 1), ('estereotipo', 1), ('despejarse', 1), ('moda', 2), ('ocurriendo', 2), ('opuesto', 1), ('biodegradable', 1), ('procedimiento', 1), ('rutina', 1), ('vital', 1), ('importancia', 4), ('john', 5), ('contagiosa', 1), ('preguntemos', 1), ('crucemos', 1), ('meollo', 1), ('cambiemos', 1), ('corramos', 2), ('azar', 2), ('escuchame', 1), ('pizarra', 1), ('telefónica', 1), ('apariencias', 4), ('engañosas', 1), ('definir', 1), ('mojó', 1), ('lubricó', 1), ('animadora', 2), ('regordete', 1), ('maryam', 1), ('presentarme', 1), ('bañarme', 3), ('quitar', 2), ('¡métete', 2), ('asuntos', 5), ('¡meteos', 2), ('¡metete', 2), ('¡zapatero', 1), ('mayoría', 3), ('gps', 1), ('cochera', 5), ('asombrosos', 1), ('latir', 1), ('aceleradamente', 1), ('cortas', 1), ('incondicionales', 1), ('gruñendo', 2), ('york', 4), ('concordó', 1), ('sustituirte', 1), ('llorones', 1), ('matado', 2), ('honestos', 1), ('placentera', 1), ('averiado', 1), ('incendió', 2), ('complicada', 2), ('repita', 2), ('barred', 1), ('barran', 1), ('alacena', 1), ('ordena', 2), ('limitada', 1), ('líneas', 1), ('modere', 1), ('ímpetus', 1), ('meza', 1), ('remar', 1), ('corré', 1), ('comienzan', 2), ('abril', 3), ('330', 1), ('¿arreglo', 1), ('¿cierro', 1), ('magra', 1), ('marcadamente', 1), ('resfriaba', 1), ('pareció', 4), ('calzaba', 1), ('blando', 2), ('hermosos', 3), ('talentosa', 1), ('divulgó', 1), ('conozca', 1), ('interruptor', 2), ('depiló', 1), ('axilas', 1), ('costado', 2), ('carrilla', 2), ('bélgica', 1), ('tembló', 1), ('toneladas', 1), ('maquillaje', 5), ('aliviará', 1), ('marketing', 1), ('precioso', 3), ('glamorosa', 1), ('individualista', 1), ('asear', 1), ('yéndote', 1), ('gusanos', 1), ('capullos', 2), ('cántanos', 2), ('perjudica', 1), ('interrumpirte', 1), ('prohíbe', 2), ('escupir', 1), ('fronteras', 1), ('extienda', 1), ('ardillas', 2), ('mueven', 1), ('velozmente', 1), ('comerte', 1), ('morderte', 1), ('engañarte', 1), ('hurgarte', 1), ('produce', 2), ('engendra', 1), ('suministros', 2), ('¡tomá', 1), ('llévenme', 1), ('bolsas', 4), ('corran', 1), ('llevale', 1), ('¡díselo', 1), ('diles', 3), ('muchísimas', 2), ('invitarme', 1), ('rescatarme', 1), ('comentario', 3), ('entretenida', 1), ('cocinado', 1), ('tonta', 6), ('¿cierto', 5), ('preocupación', 1), ('interés', 2), ('halagador', 1), ('proseguía', 1), ('reventar', 1), ('coñac', 1), ('abrirse', 3), ('descolorida', 1), ('desaparecerán', 1), ('cubrieron', 1), ('taparon', 1), ('plazo', 1), ('cazador', 1), ('filoso', 1), ('nación', 1), ('negociación', 2), ('terminada', 1), ('acusó', 1), ('héroes', 1), ('usados', 1), ('empeoró', 3), ('atardecer', 1), ('estatua', 1), ('mercados', 1), ('financieros', 1), ('brillaba', 1), ('descarriló', 2), ('ferozmente', 1), ('supone', 2), ('ganancia', 1), ('factores', 1), ('sobrevivientes', 2), ('explosión', 2), ('puentes', 3), ('patrón', 2), ('faro', 1), ('echaron', 1), ('perlas', 1), ('corbatas', 2), ('teniendo', 4), ('paseando', 2), ('entenderme', 1), ('podían', 1), ('pudieron', 2), ('huido', 1), ('detestan', 1), ('cobertizo', 2), ('fallaron', 2), ('dirigieron', 1), ('escondieron', 1), ('sótano', 2), ('lanzaron', 2), ('rememorar', 1), ('cambios', 2), ('cargos', 2), ('acusaciones', 1), ('instrucciones', 2), ('poseen', 1), ('elevaron', 1), ('afincaron', 1), ('viajaron', 1), ('protección', 2), ('tomados', 2), ('alegrarán', 1), ('comerán', 1), ('cuidadosas', 1), ('atrasados', 1), ('llegan', 1), ('mejorar', 1), ('eléctrico', 3), ('impermeable', 1), ('incorrecta', 6), ('deliciosa', 6), ('discriminación', 1), ('eternidad', 1), ('rematadamente', 1), ('pésima', 6), ('gratuito', 3), ('musical', 2), ('bellísima', 2), ('hedor', 1), ('reservada', 1), ('abrirá', 3), ('balazos', 1), ('agotador', 1), ('regañadientes', 2), ('costa', 2), ('retiró', 3), ('abotonó', 3), ('calefactor', 2), ('dejarnos', 1), ('felicitó', 1), ('disfrazado', 1), ('protestar', 1), ('lagartijas', 1), ('vano', 2), ('recordaba', 1), ('rugby', 1), ('zambulló', 2), ('soñó', 1), ('forzó', 1), ('rehenes', 1), ('aburrió', 1), ('pobreza', 1), ('cardíaco', 1), ('agregar', 1), ('cejas', 2), ('peludas', 1), ('foco', 2), ('concentración', 1), ('planea', 2), ('esposas', 3), ('nieto', 1), ('ballet', 1), ('hipocondríaco', 1), ('karate', 1), ('manojo', 2), ('mimado', 1), ('muro', 3), ('tiñendo', 1), ('abanicando', 1), ('amateur', 1), ('atómico', 1), ('progresos', 1), ('analgésicos', 1), ('estacionando', 1), ('recogiendo', 2), ('planificando', 1), ('obstinado', 1), ('contando', 3), ('recula', 1), ('retroceder', 1), ('jogging', 1), ('precipicio', 1), ('quienes', 3), ('chupaba', 1), ('ojeó', 2), ('arquitectura', 1), ('captura', 1), ('marca', 3), ('trasplante', 1), ('descuidó', 1), ('lastima', 1), ('inocencia', 1), ('infló', 1), ('neumático', 1), ('zarandea', 1), ('gasolina', 6), ('rendirse', 1), ('rentó', 1), ('tabla', 2), ('alquiló', 1), ('snowboard', 1), ('dimitido', 1), ('reescribió', 2), ('urgente', 5), ('haberse', 2), ('compartía', 1), ('desconchó', 1), ('camarón', 1), ('vertió', 1), ('exprimió', 1), ('pisó', 1), ('víbora', 1), ('pastilla', 2), ('sorbo', 2), ('desenchufó', 2), ('ileso', 1), ('conoceros', 1), ('conocerle', 2), ('conocerles', 1), ('sepas', 1), ('microscopio', 1), ('abrazado', 1), ('desaparecer', 1), ('mudarse', 1), ('decirte', 5), ('apasionaba', 1), ('proporcionará', 1), ('ganará', 1), ('pedirá', 1), ('defraudará', 1), ('visitará', 2), ('deshace', 1), ('colilla', 1), ('postales', 1), ('voceó', 1), ('trasplantes', 1), ('espéreme', 1), ('congela', 1), ('0°c', 1), ('obramos', 1), ('regresamos', 2), ('consolamos', 1), ('pudimos', 4), ('debatimos', 1), ('perdemos', 1), ('disfrutábamos', 1), ('diferencias', 1), ('disgustó', 2), ('relación', 1), ('cerrándose', 3), ('reíamos', 2), ('cometimos', 1), ('sake', 1), ('marchamos', 1), ('levantarnos', 2), ('acatar', 1), ('respetar', 1), ('miembro', 3), ('platicamos', 1), ('pospusimos', 1), ('preferimos', 1), ('torno', 1), ('platillo', 1), ('volador', 1), ('repartimos', 1), ('tareas', 2), ('callarnos', 1), ('valoramos', 1), ('malgastamos', 1), ('escribimos', 1), ('discutiremos', 2), ('actuaremos', 1), ('mostraremos', 1), ('orgullosos', 5), ('desayunando', 1), ('divertirnos', 1), ('investigando', 2), ('alcanzando', 1), ('alegramos', 2), ('desanimados', 1), ('caras', 5), ('¿eras', 2), ('hicieras', 2), ('despilfarro', 1), ('gasto', 1), ('derroche', 1), ('iniciales', 1), ('recomendaste', 1), ('trataste', 1), ('onu', 1), ('exacta', 1), ('infringido', 1), ('cierran', 1), ('sales', 2), ('modos', 1), ('apellido', 3), ('calza', 1), ('asfalto', 2), ('¿pero', 1), ('costo', 1), ('actual', 2), ('sanguíneo', 5), ('filosofía', 1), ('terminaste', 3), ('pavo', 2), ('papás', 1), ('equivocó', 1), ('obtuviste', 1), ('subo', 2), ('venís', 3), ('cafetería', 1), ('bibliotecaria', 1), ('sentabas', 1), ('encajar', 1), ('vagón', 1), ('fundó', 1), ('disneyland', 2), ('tostadas', 1), ('haceros', 1), ('preocupadas', 1), ('tartamudeas', 1), ('sonríes', 2), ('atacaste', 1), ('dejaste', 5), ('delataste', 1), ('preguntáis', 1), ('preguntan', 1), ('sientas', 2), ('confías', 3), ('confiáis', 1), ('¿durará', 1), ('¿nadarás', 1), ('¿sería', 1), ('¿querrías', 1), ('¿jugarías', 1), ('congresista', 2), ('escríbele', 1), ('sorprendés', 1), ('oyendo', 1), ('elegida', 1), ('reemplazable', 1), ('tomarte', 4), ('ocupar', 2), ('odiar', 2), ('hipnotizarme', 1), ('podríais', 1), ('rindes', 2), ('¡chicos', 1), ('daros', 1), ('sobra', 3), ('aguadas', 1), ('trapo', 1), ('alternativas', 2), ('creernos', 1), ('parecés', 4), ('papión', 6), ('babuino', 1), ('mandril', 1), ('odiás', 1), ('alzado', 2), ('consumir', 1), ('agarraste', 1), ('ridículos', 1), ('escondidas', 3), ('arrogantes', 1), ('lastimar', 1), ('creerás', 1), ('estarías', 6), ('¡mejor', 1), ('empiezas', 1), ('comenzaras', 1), ('empieces', 1), ('arruinar', 2), ('entenderás', 4), ('avergonzando', 1), ('encantar', 2), ('interrumpiendo', 1), ('sonrojar', 1), ('veloces', 1), ('arruinando', 1), ('atractivo', 2), ('perspicaz', 1), ('posesivo', 1), ('callada', 4), ('salados', 1), ('oes', 1), ('aes', 1), ('denegada', 1), ('arrugada', 2), ('interjección', 1), ('susurró', 1), ('reunió', 1), ('hexágono', 1), ('usan', 1), ('cuadrado', 2), ('alcoholismo', 1), ('incurable', 2), ('cajas', 3), ('sinceros', 1), ('demostrar', 1), ('actúan', 1), ('parientes', 1), ('¿quedamos', 1), ('colando', 1), ('enamorando', 1), ('¿cocinas', 1), ('refieres', 2), ('refiriendo', 1), ('siguen', 3), ('enojadas', 1), ('temes', 2), ('asistencia', 2), ('obligatoria', 1), ('austria', 1), ('aliados', 2), ('traen', 1), ('comprarle', 1), ('tractor', 1), ('comprarnos', 1), ('resolver', 11), ('¿podrás', 2), ('¿alcanzas', 1), ('cuadro', 3), ('desatar', 5), ('¿hablan', 1), ('collares', 1), ('cárgalo', 1), ('juegan', 2), ('juguetes', 2), ('concisión', 1), ('considérame', 1), ('considéreme', 1), ('considérenme', 1), ('considérate', 1), ('corrígeme', 2), ('prestás', 3), ('llamarme', 18), ('hacerme', 6), ('pasarme', 4), ('¿podríais', 1), ('reduce', 1), ('grasientas', 1), ('¿herí', 2), ('¿intentó', 1), ('apoyaba', 2), ('¿llamasteis', 1), ('limpiado', 1), ('¿limpiaste', 1), ('conseguiste', 1), ('¿mencionaste', 1), ('¿estudiaste', 1), ('¿tocaste', 1), ('lavaste', 1), ('lavado', 2), ('predicho', 1), ('predijo', 2), ('papi', 1), ('¿venden', 1), ('mandarinas', 1), ('harina', 3), ('cuenco', 2), ('¿lleva', 1), ('boletos', 2), ('sr', 1), ('macedonia', 1), ('¿requieres', 1), ('baña', 1), ('traduces', 1), ('letras', 1), ('divertir', 2), ('compartirlo', 4), ('esquives', 1), ('molestéis', 2), ('molesten', 2), ('cruces', 1), ('desobedezca', 1), ('incumplas', 1), ('oscurezca', 1), ('engañen', 1), ('movimientos', 1), ('bruscos', 1), ('fósforos', 1), ('nades', 1), ('desquites', 1), ('silbes', 1), ('preocupe', 1), ('baseball', 1), ('cometer', 4), ('negociable', 3), ('contactarme', 1), ('averigua', 1), ('prevenido', 1), ('sáquelo', 1), ('¡salí', 1), ('¡rápido', 1), ('¿escogiste', 1), ('abusa', 2), ('ayudáramos', 1), ('anocheciera', 1), ('cabo', 2), ('resfría', 2), ('ascendido', 1), ('demuestra', 1), ('disfrutó', 1), ('hobbys', 1), ('hokkaido', 2), ('vigoroso', 1), ('dibujo', 6), ('detestado', 1), ('toro', 2), ('codos', 2), ('lujos', 1), ('bromeó', 1), ('repisa', 1), ('azafata', 1), ('popeye', 1), ('descuida', 1), ('estudios', 1), ('alentadoramente', 1), ('opuso', 3), ('saltarse', 1), ('únicamente', 1), ('hoteles', 1), ('ahorró', 1), ('entrecortado', 1), ('lenguas', 7), ('creído', 2), ('retorció', 1), ('bigote', 1), ('desabotonó', 4), ('destruirlo', 1), ('sordos', 1), ('ruegos', 1), ('súplicas', 3), ('instantánea', 1), ('reelegido', 1), ('poseyó', 1), ('enviaron', 1), ('combatir', 1), ('esmoquin', 2), ('melodía', 1), ('chifló', 1), ('sinoamericano', 1), ('ciudadano', 6), ('fluidamente', 3), ('perdidamente', 1), ('médula', 1), ('comprensivo', 1), ('amabilidad', 2), ('elogió', 2), ('pedazo', 2), ('niñez', 1), ('latía', 1), ('alumnos', 1), ('sostenelo', 1), ('prevenirlo', 1), ('denuncio', 1), ('tardar', 1), ('pesa', 2), ('¡apresúrate', 1), ('reto', 1), ('lombriz', 1), ('viruela', 1), ('andarme', 1), ('rodeos', 5), ('perdones', 2), ('perdonéis', 1), ('amistad', 2), ('nintendo', 1), ('3ds', 1), ('cielorraso', 1), ('cuota', 2), ('honorarios', 1), ('acostumbrarme', 1), ('quererla', 1), ('hospitales', 2), ('diferenciarlos', 1), ('confieso', 1), ('bailé', 1), ('similar', 3), ('colgué', 1), ('fijo', 3), ('ram', 1), ('frita', 1), ('moratón', 1), ('ningunos', 1), ('moretones', 1), ('variedad', 1), ('presionarte', 1), ('muera', 3), ('entrometerme', 2), ('vomitar', 2), ('enamoré', 1), ('crié', 3), ('infancia', 4), ('sangrado', 1), ('racha', 1), ('desayuné', 1), ('730', 1), ('dispararle', 1), ('notado', 3), ('¡odio', 1), ('suegra', 1), ('cronograma', 1), ('ajustado', 1), ('revuelto', 1), ('escalado', 1), ('habilidad', 1), ('as', 3), ('tréboles', 1), ('preocuparme', 1), ('duchar', 2), ('medicamento', 1), ('medicinas', 1), ('remedios', 1), ('adolescentes', 1), ('amigables', 1), ('valga', 1), ('estéis', 1), ('diviertan', 1), ('resultaría', 1), ('dibujar', 2), ('ordeñar', 1), ('barbaridad', 2), ('npr', 1), ('construir', 1), ('villancicos', 1), ('secretaria', 3), ('correcciones', 1), ('compensé', 1), ('nade', 1), ('reuní', 1), ('¡perdí', 1), ('escolar', 1), ('acercándome', 2), ('recuperarlos', 2), ('mantenerte', 2), ('cooperación', 1), ('visito', 2), ('oídas', 1), ('encargué', 1), ('1000', 1), ('parcialmente', 1), ('tailandesa', 1), ('enfáticamente', 1), ('abstengo', 1), ('negué', 1), ('monociclo', 3), ('andé', 1), ('contaría', 1), ('serruchando', 1), ('serrando', 1), ('riéndome', 1), ('trizas', 1), ('documento', 4), ('estiré', 1), ('mareé', 1), ('retiro', 1), ('odiabas', 1), ('sabíais', 1), ('preocuparas', 1), ('preocupaseis', 1), ('inquietase', 1), ('intentaba', 2), ('disuadir', 1), ('acostumbro', 1), ('hermanito', 1), ('golosina', 1), ('gominola', 1), ('honesta', 4), ('spaghetti', 1), ('deshacerme', 1), ('unirme', 1), ('guardarlo', 1), ('parecerme', 2), ('confesara', 1), ('gustarte', 1), ('tráfico', 7), ('youtube', 1), ('kobe', 1), ('secaré', 1), ('camiseta', 1), ('hablaras', 1), ('ocurra', 5), ('sorprendería', 3), ('recomendaría', 1), ('ayudaras', 1), ('sugerencias', 1), ('llegaré', 2), ('meteré', 1), ('conseguiré', 1), ('internen', 1), ('prestaré', 1), ('decepcionaré', 2), ('mostrar', 3), ('comenzaré', 1), ('memorizarlo', 1), ('visitaré', 3), ('cacahuates', 2), ('cacahuetes', 2), ('estrés', 1), ('cruzando', 2), ('emocionalmente', 1), ('harta', 2), ('pudieras', 1), ('disfrutaras', 1), ('devuelvo', 1), ('dificultades', 2), ('protegeros', 1), ('octavo', 2), ('reparando', 1), ('tantísimo', 1), ('perdieses', 1), ('perdieras', 1), ('admirado', 3), ('licencia', 1), ('estúpidas', 3), ('prioridades', 1), ('demasiadas', 2), ('llorá', 1), ('¿cuesta', 1), ('recuperando', 1), ('detuviste', 3), ('630', 1), ('interrumpía', 1), ('manuscrito', 1), ('sensación', 4), ('accidental', 1), ('informático', 1), ('macizo', 1), ('oscuras', 1), ('distaba', 1), ('alcance', 1), ('enfermizo', 1), ('aberración', 1), ('ocasión', 3), ('delicado', 1), ('fastidio', 1), ('quince', 2), ('consta', 1), ('visible', 1), ('expresión', 1), ('contrato', 3), ('petróleo', 1), ('conservar', 1), ('kennedy', 1), ('patea', 1), ('decidle', 1), ('díganle', 1), ('conduzcamos', 1), ('pidamos', 2), ('discutamos', 1), ('botellas', 1), ('supongamos', 1), ('esclavitud', 2), ('lichis', 1), ('uva', 1), ('decoró', 2), ('pestañas', 1), ('novios', 1), ('jubilada', 1), ('preguntarte', 5), ('navaja', 4), ('dejáis', 1), ('dejan', 1), ('telefonearle', 1), ('cortinas', 7), ('colgar', 1), ('sacarte', 1), ('tomarle', 1), ('puedan', 1), ('tengamos', 1), ('engañada', 1), ('agricultura', 2), ('divorciaron', 1), ('furiosos', 3), ('calcetas', 1), ('dañó', 2), ('vegetariana', 1), ('apretes', 1), ('excepto', 5), ('escapa', 3), ('fines', 2), ('cancelado', 2), ('poseer', 1), ('chuchito', 1), ('pregúntaselo', 2), ('cómprame', 1), ('extender', 1), ('inserte', 1), ('mantenelo', 1), ('suélteme', 1), ('salúdame', 1), ('envíeme', 2), ('polonia', 1), ('baratas', 3), ('súbitamente', 1), ('presione', 1), ('pulsa', 1), ('¡apaguen', 1), ('repetid', 1), ('repitan', 1), ('enrolle', 1), ('aplican', 2), ('aumentado', 1), ('sueldos', 1), ('brasileños', 1), ('brasileñas', 1), ('inclinando', 1), ('irrumpió', 1), ('centró', 1), ('tímidamente', 2), ('country', 1), ('seria', 2), ('educada', 3), ('chantajeándole', 1), ('mandado', 1), ('broche', 1), ('proverbios', 1), ('reveló', 3), ('resfriada', 2), ('ahuyentó', 1), ('mostro', 1), ('apartó', 1), ('presenció', 2), ('intentará', 1), ('inadecuada', 2), ('salto', 2), ('miedito', 1), ('cuadra', 2), ('ortográficos', 1), ('intrusión', 1), ('disculpame', 1), ('llamás', 1), ('deletree', 1), ('avellanas', 1), ('acero', 1), ('ilegales', 1), ('torturarte', 1), ('desmayé', 1), ('conocimiento', 3), ('sidney', 1), ('¡cuídense', 1), ('sácate', 1), ('acepta', 1), ('temor', 1), ('evitarse', 1), ('comestible', 1), ('distrae', 1), ('insensatez', 1), ('memorable', 1), ('conveniente', 2), ('césar', 1), ('derrocado', 1), ('españoles', 1), ('viciado', 1), ('embajador', 1), ('subasta', 1), ('autor', 2), ('brasileño', 1), ('gatear', 1), ('globos', 1), ('nido', 1), ('agujereada', 1), ('capturó', 1), ('templado', 2), ('criminal', 2), ('delincuente', 1), ('mandaron', 1), ('ladrar', 3), ('sacudía', 1), ('meneaba', 1), ('caminaba', 5), ('collar', 2), ('abriendo', 3), ('propagó', 1), ('marchitaron', 1), ('polvorientos', 1), ('mobiliario', 2), ('acercan', 1), ('impostor', 2), ('retroiluminado', 1), ('aterrizaje', 1), ('incesante', 1), ('chances', 2), ('organización', 1), ('empanadilla', 1), ('curda', 1), ('impresora', 2), ('proverbio', 1), ('encargo', 1), ('rebajas', 1), ('anclas', 1), ('despejará', 1), ('amainaba', 1), ('hablada', 1), ('inundadas', 1), ('título', 1), ('ruinas', 1), ('congestionado', 1), ('rastro', 1), ('enfriado', 1), ('innegable', 1), ('saldrá', 1), ('hervir', 3), ('agujetas', 1), ('ventas', 2), ('habido', 2), ('vías', 1), ('férreas', 1), ('supervivientes', 2), ('higiénico', 2), ('originales', 1), ('cortan', 1), ('calzan', 1), ('renunciaron', 1), ('aceptaron', 2), ('adoptaron', 2), ('acordaban', 1), ('acordaron', 1), ('recordaban', 1), ('recordaron', 1), ('tendieron', 1), ('nueces', 1), ('preparan', 1), ('sensatas', 1), ('paces', 1), ('ahuyentaron', 1), ('actuaron', 1), ('rapidez', 1), ('maltrataron', 1), ('subrepticia', 1), ('cautelosamente', 1), ('meter', 1), ('aplastaron', 1), ('pelearon', 1), ('lucharon', 4), ('liberaron', 1), ('almohadas', 1), ('conocieron', 3), ('secundaria', 1), ('avanzaron', 1), ('fatigados', 1), ('balearon', 1), ('corrieron', 2), ('pasaportes', 1), ('confundidos', 1), ('persiguiendo', 1), ('¡pensá', 1), ('amigable', 1), ('tuerca', 1), ('policíaca', 1), ('presagio', 1), ('abandonada', 1), ('tremendamente', 1), ('perfección', 1), ('despedí', 1), ('interesarte', 1), ('desconcertante', 1), ('mantendrá', 2), ('estornino', 1), ('cebras', 1), ('vendó', 1), ('hirvió', 2), ('patoso', 1), ('rebanó', 1), ('antiguas', 2), ('creérselo', 1), ('admiración', 1), ('impensable', 1), ('importarle', 1), ('97', 1), ('bañó', 1), ('escalofríos', 1), ('vistió', 2), ('bañera', 1), ('mensajeando', 1), ('novias', 2), ('desempacado', 1), ('pololo', 2), ('paracaidista', 1), ('cocainómano', 1), ('guitarrista', 2), ('bebedor', 1), ('social', 1), ('fiscal', 1), ('tosco', 1), ('alimentando', 1), ('hiperventilando', 1), ('cantina', 1), ('almacén', 1), ('manipulando', 1), ('escudriñando', 1), ('intensidad', 1), ('manager', 1), ('reflexionando', 1), ('sociable', 1), ('maru', 1), ('experimentar', 1), ('lente', 1), ('eventos', 1), ('deportivos', 1), ('hamburguesas', 4), ('tiende', 4), ('desplumó', 1), ('marisco', 1), ('haberle', 3), ('duchó', 1), ('lonchas', 1), ('chasqueó', 1), ('escupió', 1), ('estrujó', 2), ('alocado', 1), ('desatascó', 1), ('desenfundó', 1), ('desabrochó', 1), ('voluntarió', 1), ('escenario', 2), ('agradecerte', 4), ('viésemos', 1), ('viéramos', 1), ('hundido', 1), ('pensamientos', 3), ('sumido', 1), ('enfrascado', 1), ('2010', 1), ('bromeaba', 1), ('reacio', 1), ('regó', 1), ('ostra', 1), ('quedará', 2), ('competencia', 2), ('arqueología', 1), ('plataforma', 1), ('petrolífera', 1), ('confiscado', 2), ('fachero', 1), ('surtió', 1), ('efecto', 2), ('procure', 1), ('controlarte', 2), ('faros', 1), ('capa', 1), ('¿eran', 1), ('apreciamos', 2), ('equilibrio', 1), ('pensamos', 2), ('cenamos', 2), ('conferencia', 2), ('secreta', 2), ('¡traemos', 1), ('estupendas', 1), ('analizar', 1), ('proactivos', 1), ('mantenernos', 1), ('esperarle', 1), ('vigilantes', 1), ('aumentar', 2), ('chanza', 1), ('reportamos', 1), ('agradecimos', 1), ('tranquilamente', 1), ('perfeccionistas', 1), ('únicos', 2), ('ocaso', 3), ('anochecer', 1), ('pasarla', 1), ('tendremos', 1), ('sintiéndonos', 2), ('campeones', 1), ('navegamos', 2), ('íntimos', 1), ('orgullosas', 1), ('¿naciste', 1), ('establo', 1), ('¿estaban', 2), ('¿saliste', 2), ('sentando', 1), ('propones', 2), ('hablabais', 1), ('letrero', 2), ('compone', 1), ('nacionalidad', 3), ('ocupación', 1), ('equipos', 1), ('jugaban', 1), ('reacción', 2), ('nacisteis', 1), ('hacés', 1), ('causando', 1), ('zumbido', 1), ('aparador', 1), ('vuelves', 1), ('botes', 2), ('fotografías', 3), ('cepillo', 1), ('¿desde', 1), ('comedor', 1), ('prefieres', 4), ('buscáis', 1), ('esperas', 3), ('provocó', 1), ('políticas', 1), ('mueble', 1), ('tango', 1), ('insegura', 4), ('inseguros', 1), ('inseguras', 1), ('qués', 1), ('paranoicos', 2), ('cocinas', 2), ('confiás', 1), ('esperás', 1), ('castigando', 1), ('diantres', 2), ('mataría', 1), ('querrías', 1), ('triunfará', 2), ('fracasará', 2), ('¿hará', 1), ('ayudarías', 1), ('ganadores', 1), ('consumen', 1), ('cables', 1), ('trabajadores', 3), ('trazarías', 1), ('banano', 1), ('banana', 2), ('¿desea', 2), ('ordenar', 3), ('¿dejarás', 1), ('teclear', 1), ('progreso', 2), ('cobrado', 1), ('merecés', 1), ('apresurarte', 3), ('fumas', 2), ('¿сierto', 1), ('manejaste', 1), ('hábilmente', 1), ('mensajes', 3), ('educados', 1), ('afrontar', 1), ('leerte', 1), ('aprendes', 1), ('conveniencia', 1), ('dolería', 1), ('enfrentarte', 1), ('enfrentar', 1), ('¡deberías', 1), ('espiar', 1), ('fisgonear', 1), ('escapará', 1), ('creelo', 1), ('meterás', 1), ('superarás', 1), ('pasarás', 2), ('aprenderás', 1), ('comprenderás', 1), ('rompiendo', 1), ('manejando', 2), ('terminasteis', 1), ('asustando', 1), ('desperdiciando', 1), ('podido', 1), ('ingles', 1), ('esfuerzos', 1), ('fantástica', 1), ('graciosas', 1), ('mencionaron', 1), ('deseos', 1), ('«¡protesto»', 1), ('«se', 1), ('admite»', 1), ('86400', 1), ('floja', 1), ('ángulos', 1), ('meses', 3), ('inevitables', 1), ('pimienta', 3), ('consumieron', 1), ('provisiones', 1), ('ira', 1), ('equivocarse', 1), ('¿mis', 1), ('secos', 1), ('¿estas', 1), ('tazas', 3), ('porcelana', 1), ('resolverla', 1), ('¿serás', 1), ('¿entras', 1), ('¿pasas', 1), ('coqueteando', 1), ('zorreando', 1), ('pitorreando', 1), ('cachondeando', 1), ('bancos', 1), ('cerraron', 1), ('ladrador', 1), ('mordedor', 1), ('mecánicas', 1), ('distancias', 1), ('suelen', 1), ('búfalos', 1), ('bush', 1), ('mantequilla', 5), ('repollo', 1), ('bomberos', 2), ('mandolina', 1), ('usuario', 1), ('posponer', 1), ('copiarlo', 1), ('explicármelo', 2), ('darnos', 1), ('mantenerlo', 1), ('prestarme', 2), ('alcanzas', 1), ('alcanza', 1), ('ukelele', 1), ('lanzar', 1), ('cancelen', 1), ('reservas', 1), ('nocturnos', 1), ('fabrica', 1), ('visitarme', 5), ('posibilidad', 1), ('custer', 1), ('darwin', 1), ('transformó', 1), ('¿dejé', 1), ('¿ayer', 3), ('gatito', 3), ('cepillaste', 1), ('¡¿alcanzaste', 1), ('divertisteis', 1), ('pasasteis', 1), ('¿tuvo', 2), ('¿pagaste', 2), ('cosiste', 1), ('dioxina', 1), ('peligrosa', 4), ('responsabilidad', 2), ('¿haces', 2), ('¿esperas', 1), ('violenta', 2), ('¿andas', 1), ('lúcidos', 1), ('¿llevas', 1), ('¿pegas', 1), ('¿pegáis', 1), ('celta', 1), ('mexicana', 1), ('frutillas', 1), ('¿requiere', 1), ('similitud', 1), ('¿cantas', 1), ('hablás', 2), ('ciegos', 1), ('calculadora', 1), ('conteste', 1), ('salvarlos', 1), ('venderlos', 3), ('lleguéis', 1), ('canal', 1), ('regreséis', 1), ('quejándote', 2), ('escribirme', 2), ('asusten', 1), ('mirés', 1), ('burléis', 1), ('jueges', 1), ('recurras', 1), ('asustes', 1), ('apagues', 2), ('cansás', 1), ('cansas', 1), ('reconoces', 1), ('folio', 1), ('trazá', 2), ('educación', 5), ('entusiasmo', 1), ('asistir', 2), ('elogian', 1), ('anduvo', 1), ('montañas', 2), ('fidelidad', 1), ('indica', 1), ('pliego', 1), ('solicitud', 3), ('cubra', 1), ('jarros', 1), ('transforma', 1), ('desperdiciar', 1), ('microbios', 1), ('provocar', 1), ('enfermedades', 1), ('aula', 4), ('tiza', 3), ('convencerlo', 3), ('estudian', 1), ('¡excelente', 1), ('distribuido', 1), ('¿he', 1), ('explicado', 1), ('claridad', 1), ('reunido', 2), ('¿ocultaste', 1), ('¿tomaste', 1), ('aconsejó', 3), ('agosto', 1), ('critica', 2), ('colgaran', 1), ('decepcionó', 1), ('modestia', 1), ('enamoró', 1), ('cortante', 1), ('rechazaran', 1), ('empeñar', 1), ('respiratorios', 1), ('batió', 2), ('record', 1), ('titubeó', 1), ('instante', 2), ('hablador', 1), ('alardeando', 1), ('décimo', 1), ('quinto', 3), ('inmediata', 1), ('raramente', 2), ('gasta', 1), ('través', 4), ('participó', 1), ('1998', 1), ('influenciado', 1), ('muertito', 2), ('achacaron', 1), ('culpado', 2), ('ahorcado', 1), ('judío', 1), ('mantenido', 1), ('cautiverio', 1), ('humilló', 2), ('pasivo', 1), ('silbaba', 1), ('seguirá', 1), ('regresará', 1), ('siguientes', 1), ('categoría', 1), ('acciones', 2), ('argumento', 2), ('gastada', 1), ('acumulándose', 1), ('desgastado', 1), ('gabardina', 1), ('desgastada', 1), ('granjeros', 1), ('¡detente', 1), ('andan', 1), ('deshago', 1), ('subiste', 1), ('detenemos', 1), ('gorras', 1), ('sombreros', 1), ('cortaste', 1), ('kilo', 1), ('libra', 2), ('obtener', 1), ('antigüedad', 1), ('afectará', 1), ('prohibida', 1), ('caza', 1), ('actué', 1), ('capturo', 1), ('afilando', 2), ('exprimiendo', 1), ('limpiando', 3), ('sarampión', 1), ('persuasivo', 1), ('cantarlo', 1), ('cantarla', 1), ('comprármelo', 2), ('mirarte', 1), ('maletín', 2), ('lógica', 1), ('quitarme', 1), ('revelar', 2), ('fuentes', 2), ('escogí', 1), ('escalé', 1), ('queriendo', 1), ('apetecía', 1), ('existía', 1), ('descortés', 2), ('golpearlo', 1), ('muriera', 1), ('dislocado', 1), ('atrevo', 1), ('hablarle', 1), ('afecte', 1), ('autostop', 1), ('largos', 1), ('afecta', 1), ('fío', 2), ('herirla', 1), ('perderos', 1), ('perderte', 3), ('recordarlo', 1), ('contároslo', 1), ('contártelo', 1), ('reparto', 1), ('peleo', 1), ('aniversario', 1), ('averigüé', 2), ('demandas', 1), ('autoescuela', 1), ('portátil', 4), ('interior', 1), ('chorreando', 1), ('infarto', 2), ('considerado', 3), ('contradecirte', 1), ('contradecirle', 1), ('contradecirles', 1), ('paquete', 2), ('tapada', 1), ('corazones', 1), ('picas', 1), ('cepillarme', 1), ('lustrarme', 1), ('bolear', 1), ('pensármelo', 2), ('varios', 3), ('pisadas', 1), ('explosiones', 1), ('diversas', 1), ('opiniones', 1), ('vajilla', 1), ('mejore', 1), ('juzgarte', 1), ('organizar', 1), ('ilusionaría', 1), ('defraudado', 1), ('barcos', 1), ('pintores', 1), ('aprendo', 1), ('extranjeras', 1), ('policíacas', 1), ('barrio', 1), ('espontáneo', 1), ('amarillo', 1), ('conversaciones', 1), ('vestís', 1), ('coleccionar', 1), ('vainilla', 1), ('demasiados', 1), ('mismísimo', 1), ('príncipe', 1), ('acortar', 1), ('protegerme', 2), ('dejaras', 1), ('usualmente', 1), ('murmuro', 1), ('eléctrica', 2), ('telas', 1), ('lisas', 1), ('invitación', 5), ('cruzar', 1), ('compartí', 1), ('comencé', 2), ('¡aún', 2), ('¡todavía', 1), ('enseñé', 4), ('presuntuoso', 2), ('cuco', 1), ('confiabas', 1), ('tuvieras', 1), ('participé', 1), ('respete', 1), ('escalar', 1), ('sentirme', 1), ('sirviente', 1), ('lucir', 1), ('formar', 1), ('reservar', 1), ('pensarlo', 1), ('estemos', 1), ('caves', 1), ('sigas', 1), ('sorprenderla', 1), ('sorprenderte', 1), ('esperase', 1), ('supermercado', 3), ('atracado', 1), ('poseído', 1), ('avaricia', 1), ('arañó', 1), ('reunirme', 1), ('mayo', 1), ('regalaré', 1), ('tolerarlo', 1), ('acabe', 1), ('mencionaré', 1), ('soportaré', 1), ('inventado', 1), ('iría', 2), ('devolver', 1), ('hojear', 1), ('ojear', 1), ('estrangular', 1), ('fueses', 1), ('acordaré', 3), ('responderé', 1), ('confeccionaré', 1), ('estropearé', 1), ('indicaré', 1), ('usaré', 1), ('habilitado', 1), ('recordaste', 1), ('contraria', 1), ('chupatintas', 3), ('despido', 1), ('busco', 2), ('hablante', 1), ('nativo', 1), ('ayudarlas', 1), ('inspirada', 1), ('molestado', 2), ('haberos', 3), ('importunado', 2), ('molestarle', 1), ('disfrutarlo', 1), ('gustarme', 1), ('curso', 2), ('danza', 1), ('traducir', 1), ('valgo', 1), ('probé', 1), ('despedirme', 1), ('faena', 1), ('alquilé', 1), ('merced', 1), ('inspire', 1), ('¿papá', 1), ('¿mil', 1), ('suficientes', 1), ('aplicación', 1), ('impuesto', 1), ('capciosa', 1), ('aceptable', 1), ('spaguetti', 1), ('máquina', 5), ('perteneció', 1), ('riñón', 3), ('costaba', 2), ('anochece', 1), ('maravillas', 1), ('embargo', 1), ('mansión', 1), ('necesariamente', 1), ('desafortunadamente', 3), ('pasadas', 1), ('windows', 1), ('principios', 1), ('rayos', 2), ('¡el', 3), ('certero', 1), ('equivocación', 1), ('empezaba', 1), ('metros', 1), ('publicado', 1), ('1969', 1), ('oscurecerá', 1), ('acomodada', 1), ('evidentemente', 1), ('arrójala', 1), ('descabellado', 2), ('asiático', 1), ('koko', 1), ('gorila', 1), ('hembra', 1), ('presentarte', 2), ('aclare', 1), ('avísame', 1), ('déjelos', 1), ('¡juntémonos', 1), ('¡volvamos', 1), ('juntarnos', 1), ('démosle', 3), ('campito', 1), ('démosles', 1), ('mantengamos', 1), ('desanimemos', 1), ('juntemos', 1), ('republicano', 1), ('langostas', 1), ('crustáceos', 1), ('científicos', 1), ('senadores', 1), ('opusieron', 1), ('mesero', 2), ('madrastra', 1), ('hermanastra', 1), ('hurgando', 1), ('pediros', 1), ('borrador', 1), ('borrar', 2), ('debiéramos', 1), ('hayas', 1), ('michael', 1), ('monroe', 1), ('votos', 1), ('vocación', 1), ('novato', 1), ('reparación', 2), ('ardilla', 1), ('remuerde', 1), ('construye', 1), ('permitirá', 1), ('fregar', 1), ('sobreprotectora', 1), ('multi', 1), ('desataron', 1), ('trota', 1), ('lavarropa', 1), ('lavarropas', 1), ('lavadora', 1), ('exacto', 2), ('retrasarte', 1), ('descubrir', 1), ('retendrá', 1), ('distraerá', 1), ('pasarlo', 2), ('divertirte', 1), ('levantan', 2), ('aprobada', 1), ('registradora', 1), ('persistencia', 1), ('frutos', 1), ('mueren', 1), ('revele', 1), ('fumen', 1), ('desperdicie', 1), ('envíen', 1), ('lústrese', 1), ('lústrate', 1), ('visitame', 1), ('visítame', 1), ('visíteme', 1), ('praga', 1), ('seguían', 1), ('sacerdotes', 1), ('curas', 1), ('comportarte', 1), ('secas', 1), ('leída', 1), ('republicanos', 1), ('roosevelt', 1), ('samsung', 1), ('tiburones', 1), ('nadadores', 2), ('supuestamente', 1), ('engordar', 1), ('bolearon', 1), ('universitaria', 1), ('obstinada', 2), ('dibujando', 2), ('poetisa', 1), ('apurada', 1), ('especializó', 1), ('mendiga', 1), ('declinó', 2), ('desayunar', 3), ('avanzó', 1), ('daños', 3), ('desvió', 1), ('adularme', 1), ('acusada', 1), ('soltura', 1), ('dolorosamente', 1), ('delgada', 1), ('criada', 3), ('enjugó', 1), ('tacón', 1), ('museos', 1), ('aturde', 1), ('implicas', 1), ('fuman', 1), ('atrapadas', 1), ('sudáfrica', 1), ('controlaba', 1), ('florida', 1), ('golpearte', 1), ('disuelve', 1), ('suzhou', 2), ('avisame', 1), ('termines', 1), ('tensiones', 1), ('aumentaban', 1), ('recogerme', 1), ('entenderlo', 2), ('comprenderlo', 1), ('agradecemos', 1), ('áspera', 1), ('enloquece', 1), ('¡ese', 1), ('intrigó', 1), ('descompuso', 1), ('solemne', 1), ('difícilmente', 2), ('preferida', 1), ('hilton', 1), ('airbag', 1), ('flecha', 2), ('aun', 1), ('hemorragia', 1), ('ajustó', 1), ('repleto', 1), ('canasto', 1), ('resucitó', 1), ('aplazada', 1), ('caseta', 1), ('enfriando', 2), ('reírse', 1), ('gobernador', 1), ('derritiendo', 2), ('cancelada', 1), ('monjes', 1), ('destrozada', 1), ('enfermeras', 1), ('simpáticas', 1), ('orquesta', 1), ('estacionamiento', 1), ('decayendo', 1), ('triunfó', 2), ('descartados', 1), ('enchufada', 1), ('sorprendentes', 1), ('servidor', 1), ('estructura', 1), ('váter', 1), ('cisterna', 3), ('garantizado', 1), ('enlodaron', 1), ('salvada', 1), ('temer', 1), ('necesidad', 1), ('pertenecen', 2), ('¡estas', 1), ('consiguieron', 1), ('amables', 1), ('sanas', 1), ('enchiladas', 1), ('convirtieron', 1), ('capturaron', 1), ('robando', 1), ('consideran', 1), ('tales', 1), ('distintas', 1), ('invadieron', 1), ('pisos', 1), ('odiarme', 1), ('artículos', 1), ('echarlos', 1), ('tradujeron', 1), ('zelanda', 1), ('gastaban', 1), ('pedirían', 1), ('rendirían', 1), ('creyeron', 2), ('promedio', 1), ('marchando', 2), ('monto', 1), ('incluye', 1), ('contraría', 2), ('parecido', 1), ('gruesa', 1), ('habitaciones', 1), ('ejemplar', 1), ('sentencia', 1), ('interno', 1), ('estrecha', 1), ('planchada', 1), ('queroseno', 1), ('material', 2), ('sillas', 6), ('rapidísimo', 1), ('búsqueda', 2), ('direcciones', 1), ('asistió', 2), ('vengó', 1), ('abrochó', 1), ('razonar', 1), ('aseguró', 1), ('sugeriste', 1), ('investigó', 1), ('destacado', 1), ('necesitó', 1), ('treintas', 1), ('sucesor', 1), ('aparenta', 1), ('ocupa', 2), ('esteroides', 2), ('alistó', 2), ('llenó', 1), ('espacios', 1), ('desvío', 1), ('británico', 1), ('admirador', 2), ('temperamento', 1), ('regañina', 1), ('maritales', 1), ('cantado', 3), ('heredó', 1), ('exesposo', 1), ('yerno', 1), ('compulsivo', 2), ('convicto', 1), ('amistosa', 1), ('imprudente', 2), ('desconocido', 2), ('parpadeando', 1), ('masticando', 2), ('cortando', 1), ('lamentarlo', 1), ('recostado', 1), ('rival', 1), ('podando', 1), ('firmando', 1), ('cabro', 1), ('encenagado', 1), ('conversando', 1), ('fracaso', 2), ('patadas', 1), ('tacho', 1), ('decoroso', 1), ('necesitado', 2), ('movimiento', 1), ('batuta', 1), ('chatarra', 1), ('deambulaba', 1), ('remoto', 1), ('planeó', 1), ('fingía', 2), ('disfraz', 1), ('refregó', 1), ('lechuga', 3), ('desplomó', 1), ('enojarse', 1), ('esperara', 2), ('sorbito', 1), ('brandi', 1), ('rescatar', 2), ('pedigüeño', 1), ('exigente', 1), ('dirigió', 1), ('podio', 1), ('probarse', 1), ('comandante', 1), ('tanques', 1), ('enviado', 1), ('irak', 1), ('mero', 1), ('apuñalado', 1), ('campeonato', 1), ('dejaba', 1), ('erróneas', 1), ('compañías', 1), ('caminá', 1), ('lavate', 1), ('mudaremos', 1), ('escalamos', 1), ('empinada', 1), ('leve', 1), ('disneylandia', 1), ('problemilla', 1), ('apretado', 1), ('stock', 1), ('existencias', 1), ('gastado', 1), ('crema', 2), ('solucionarlo', 1), ('positivos', 1), ('importamos', 1), ('recomenzar', 1), ('ordenamos', 1), ('reposamos', 1), ('propensos', 1), ('creíamos', 1), ('sacamos', 1), ('convencerle', 1), ('tratamos', 1), ('atrapar', 2), ('cases', 2), ('peli', 1), ('descansaremos', 1), ('vendremos', 1), ('visitarte', 2), ('tomaremos', 1), ('emplearemos', 1), ('prácticamente', 1), ('añoramos', 1), ('¡bienvenido', 1), ('mas', 1), ('arcoíris', 1), ('declaración', 1), ('celebras', 1), ('celebrando', 4), ('celebráis', 1), ('celebra', 1), ('celebran', 1), ('buscás', 1), ('esperan', 2), ('miras', 2), ('intenciones', 1), ('soñaste', 1), ('planeas', 2), ('opinas', 1), ('usas', 2), ('buscas', 1), ('urss', 1), ('aparato', 1), ('cartel', 1), ('anterior', 1), ('objeto', 1), ('sospechar', 1), ('disfrutas', 1), ('despiertas', 1), ('usarás', 1), ('escampó', 1), ('intermedio', 1), ('dirigen', 1), ('aprendió', 1), ('venían', 1), ('solicitar', 1), ('correos', 3), ('patito', 1), ('elegirá', 1), ('escogerá', 1), ('vecinas', 1), ('dividió', 1), ('átomo', 1), ('combustible', 4), ('postor', 1), ('interrumpió', 1), ('comprasteis', 1), ('enfadaste', 1), ('abriste', 2), ('informaste', 1), ('cogemos', 1), ('entendéis', 1), ('creerte', 1), ('¿será', 1), ('¿saldrás', 1), ('enseñarás', 2), ('moriríamos', 1), ('dejarías', 1), ('250', 1), ('pedirle', 2), ('¡puede', 1), ('cogerte', 1), ('utilizar', 2), ('contarme', 1), ('escaparte', 1), ('respondas', 1), ('escuchas', 1), ('revelaste', 1), ('recibes', 1), ('consigues', 1), ('regular', 1), ('decisiones', 2), ('alegraste', 1), ('habérsete', 1), ('perdérselo', 2), ('perderla', 1), ('necesitabas', 1), ('ejercitarte', 1), ('derrotarás', 1), ('venceréis', 1), ('arrepentirás', 1), ('oponente', 1), ('engañando', 1), ('especialito', 1), ('tiquismiquis', 1), ('arruinas', 1), ('atmósfera', 1), ('recia', 1), ('comprará', 1), ('espléndido', 1), ('—vamos', 1), ('—me', 1), ('iluminaba', 1), ('cocodrilo', 1), ('indicación', 1), ('añade', 1), ('daña', 1), ('autobuses', 1), ('engañan', 1), ('¿vais', 1), ('excepción', 3), ('gallinas', 1), ('negras', 1), ('peleas', 2), ('limítrofes', 1), ('comunes', 1), ('bourbon', 1), ('búlgaro', 1), ('nata', 1), ('manteca', 1), ('llámenme', 1), ('llámeme', 1), ('párpados', 1), ('permitírnoslo', 1), ('sumar', 1), ('números', 1), ('disculpan', 1), ('grapadora', 1), ('tope', 1), ('pedirlos', 1), ('alojar', 1), ('recomendar', 1), ('enseñarnos', 1), ('vigilar', 1), ('considérense', 1), ('proveen', 1), ('bailad', 1), ('darcy', 1), ('detroit', 1), ('¿interrumpí', 1), ('¿dije', 1), ('arrestó', 1), ('¿compusieron', 1), ('¿repararon', 1), ('decoración', 1), ('¿llegaste', 1), ('criaste', 1), ('¿creciste', 1), ('crió', 2), ('¿creció', 1), ('¿dormiste', 1), ('¿percibiste', 1), ('alquilado', 1), ('¿devolviste', 1), ('dinosaurios', 1), ('actualmente', 1), ('extintos', 1), ('caminás', 1), ('imitarla', 1), ('imitarle', 1), ('hadas', 1), ('respaldo', 1), ('tazón', 1), ('acaso', 1), ('alergia', 2), ('vacantes', 1), ('vacante', 1), ('¿conocés', 1), ('¿conocen', 1), ('san', 2), ('francisco', 2), ('tatuajes', 1), ('¿pensas', 1), ('langostinos', 1), ('camarones', 1), ('ejercitas', 1), ('regularmente', 2), ('derramada', 1), ('fritas', 1), ('fracasas', 1), ('cuelgues', 1), ('sujetes', 1), ('bajes', 1), ('desprecies', 1), ('castigue', 1), ('manilla', 1), ('atrevas', 2), ('burros', 1), ('bravos', 1), ('dibujad', 1), ('taquilla', 1), ('casillero', 1), ('frescas', 1), ('espinas', 1), ('embuste', 1), ('confirma', 1), ('halcones', 1), ('presa', 1), ('felicja', 1), ('granjas', 1), ('sinceramente', 1), ('alcanzo', 2), ('utilizada', 1), ('lavaros', 1), ('asearse', 1), ('adivine', 2), ('adivinad', 1), ('gancho', 1), ('cenado', 2), ('asaltado', 1), ('meditado', 1), ('justamente', 1), ('asumió', 1), ('garantizó', 1), ('nacional', 1), ('naturalidad', 1), ('alarde', 1), ('récord', 2), ('mudaba', 1), ('culpas', 1), ('taló', 2), ('cerezo', 1), ('causas', 2), ('naturales', 2), ('cadillac', 2), ('rosado', 1), ('malversó', 1), ('enoja', 1), ('chiripa', 1), ('graduado', 2), ('magnífica', 1), ('acumulado', 1), ('celulares', 1), ('móviles', 1), ('criado', 1), ('guapos', 1), ('novelista', 1), ('prometedor', 1), ('cocaína', 1), ('apasionadamente', 1), ('bailes', 1), ('folclóricos', 1), ('encendido', 1), ('burla', 1), ('voley', 1), ('adversario', 1), ('esforzó', 1), ('dominar', 2), ('furia', 1), ('amoratado', 1), ('condenaron', 1), ('sudor', 1), ('orador', 1), ('castigaron', 1), ('1970', 1), ('alegrarse', 1), ('call', 1), ('center', 1), ('reelecciones', 1), ('elevando', 1), ('volantines', 1), ('buscado', 1), ('coraje', 2), ('respaldaba', 1), ('teñido', 1), ('cenizas', 1), ('enterradas', 1), ('condición', 2), ('crítica', 2), ('conducta', 1), ('admirable', 1), ('físico', 1), ('reconfortó', 1), ('entretuvo', 1), ('significado', 1), ('¿quisiera', 1), ('abuelos', 1), ('desquitarme', 1), ('cínico', 1), ('quererme', 1), ('permití', 2), ('pasara', 1), ('convenciste', 2), ('resuelvo', 1), ('chinatown', 2), ('¿exactamente', 2), ('edades', 1), ('acusé', 1), ('sapporo', 1), ('explicando', 1), ('holanda', 1), ('catorce', 1), ('colgando', 1), ('interesan', 1), ('involucrando', 1), ('sirviendo', 1), ('eterna', 1), ('capacidades', 1), ('facultades', 1), ('deportivo', 2), ('rescatarte', 1), ('cuidarme', 2), ('imaginármelo', 1), ('dártelos', 1), ('mintiéndole', 1), ('leáis', 1), ('confisqué', 1), ('ordenarte', 1), ('atravesé', 1), ('guardaste', 1), ('herirlo', 1), ('ofenderte', 1), ('contarle', 1), ('despertarte', 1), ('extraterrestres', 1), ('políticos', 2), ('asustarte', 1), ('entrés', 1), ('litro', 1), ('hallo', 1), ('reparé', 1), ('8', 1), ('reparen', 1), ('tientas', 1), ('fotografíen', 1), ('sensibilidad', 1), ('acidez', 1), ('planearlo', 1), ('páginas', 1), ('ajustarme', 1), ('cinturón', 1), ('trastes', 1), ('enteré', 1), ('planché', 1), ('avisarte', 2), ('experimento', 2), ('técnica', 1), ('duerma', 1), ('instrumental', 1), ('mejicana', 1), ('modificaciones', 1), ('decirles', 2), ('estirar', 1), ('pretendí', 1), ('herirte', 1), ('deshojé', 1), ('margarita', 1), ('modernos', 1), ('new', 1), ('times', 1), ('diciéndotelo', 1), ('propios', 1), ('familiares', 1), ('interrumpo', 1), ('quemándose', 1), ('fumaba', 1), ('analfabeto', 1), ('paperas', 1), ('formamos', 1), ('dormida', 2), ('dormidas', 1), ('astronauta', 1), ('paguen', 1), ('ananá', 1), ('piña', 1), ('rascarme', 1), ('telegrama', 1), ('levemente', 1), ('atropella', 1), ('consternado', 1), ('interesaba', 1), ('kawagoe', 1), ('actuaré', 1), ('según', 1), ('pelearé', 1), ('cuidaré', 1), ('hubieses', 1), ('podré', 1), ('ayudaría', 1), ('petrolera', 1), ('contestaré', 1), ('incidente', 1), ('prenderé', 1), ('anestesia', 2), ('inyectaré', 1), ('cambiarme', 1), ('distraerlos', 1), ('transformaré', 1), ('instituto', 1), ('terremotos', 1), ('adjuntando', 1), ('acosado', 1), ('acosada', 1), ('opongo', 1), ('rotundamente', 1), ('terminando', 4), ('sociología', 1), ('revueltos', 1), ('alivia', 1), ('gritado', 2), ('confundí', 1), ('comparando', 1), ('lamentos', 1), ('concentrarme', 1), ('endeudado', 1), ('pescuezo', 1), ('jirafa', 1), ('arco', 1), ('iris', 1), ('repentinamente', 1), ('ay', 1), ('mueres', 2), ('calientas', 1), ('119', 1), ('mercurio', 1), ('oxford', 1), ('contexto', 2), ('cagar', 1), ('valido', 1), ('okinawa', 1), ('sonaba', 1), ('inalcanzable', 1), ('septiembre', 1), ('serán', 1), ('acusación', 2), ('gracia', 2), ('sorprender', 1), ('piramidal', 1), ('mencionarlo', 1), ('momentos', 1), ('temporal', 1), ('enérgicamente', 1), ('cántaros', 1), ('intuitivo', 1), ('virtualmente', 1), ('barajar', 1), ('juan', 1), ('cruzados', 1), ('tendámosle', 1), ('echémosle', 1), ('ayudemos', 1), ('aplauso', 1), ('sombra', 1), ('malgastemos', 1), ('trasnochemos', 1), ('asar', 1), ('castañas', 1), ('410', 1), ('polar', 1), ('llevaban', 1), ('aguardaban', 1), ('36', 1), ('ciernes', 1), ('cepillándose', 1), ('maquillando', 1), ('pendientes', 3), ('floreada', 1), ('maltrataba', 1), ('preguntaros', 1), ('preguntarles', 1), ('veme', 1), ('menores', 1), ('prematuramente', 1), ('dormitorios', 1), ('fracasaron', 1), ('miserablemente', 1), ('escuchará', 1), ('temblaba', 1), ('rendirá', 1), ('entenderle', 1), ('sospechaba', 1), ('deshonestos', 1), ('pasarte', 1), ('comprender', 1), ('actualidad', 1), ('escasea', 1), ('reja', 1), ('huéspedes', 1), ('prende', 1), ('relato', 2), ('pelícanos', 1), ('picos', 1), ('duran', 1), ('contácteme', 1), ('malentiendas', 1), ('malentiendan', 1), ('endóseme', 1), ('endósame', 1), ('apagá', 1), ('prométeme', 1), ('deposita', 1), ('abandonan', 1), ('desarrolla', 1), ('absténgase', 1), ('manga', 1), ('mándeme', 1), ('factura', 1), ('discusiones', 2), ('docenas', 2), ('alegró', 1), ('moral', 1), ('mecanógrafo', 1), ('honores', 2), ('tendió', 1), ('desertor', 1), ('inteligencia', 1), ('ágil', 1), ('cientos', 1), ('visitado', 1), ('psíquicas', 2), ('conductora', 1), ('contigua', 1), ('renunciara', 1), ('testificó', 2), ('hablaría', 1), ('refunfuñando', 1), ('mostrales', 1), ('prestá', 1), ('empape', 1), ('afeitan', 1), ('volante', 1), ('tráguelo', 1), ('mastique', 1), ('aguántalo', 1), ('cazuela', 1), ('colocar', 1), ('¡muchísimas', 1), ('pellejo', 1), ('corrección', 1), ('chimenea', 2), ('rabo', 1), ('fruto', 1), ('malhablado', 1), ('traía', 1), ('frito', 1), ('fracasar', 1), ('tentador', 1), ('desaparecerá', 1), ('inadecuado', 1), ('ofrecemos', 1), ('absoluta', 2), ('desconsideración', 1), ('congreso', 1), ('1812', 1), ('correctas', 2), ('madura', 1), ('sonado', 1), ('desplegó', 1), ('contenía', 1), ('freno', 1), ('dirigía', 1), ('avanzaba', 1), ('lamiendo', 1), ('aplausos', 1), ('ensordecedores', 1), ('pintaba', 1), ('chile', 1), ('competición', 1), ('feroz', 1), ('predeterminado', 1), ('olfateó', 1), ('alcantarillas', 1), ('obstruidas', 1), ('bailaban', 2), ('neblina', 1), ('envolvía', 1), ('investigación', 2), ('deshabitada', 1), ('abusaba', 1), ('refrigerador', 1), ('afectó', 1), ('aumentó', 1), ('población', 2), ('aumenta', 1), ('respondida', 1), ('extendieron', 1), ('admitían', 1), ('oscurecerse', 1), ('seguidos', 1), ('valientemente', 1), ('encendieron', 1), ('faroles', 1), ('trueno', 1), ('obstruyó', 1), ('océanos', 1), ('infectó', 1), ('destinos', 1), ('entrelazados', 1), ('fáciles', 1), ('pudrieron', 1), ('podridas', 1), ('preciosos', 1), ('corrigieron', 1), ('1997', 1), ('vetaron', 1), ('malograron', 1), ('rocky', 1), ('crearon', 1), ('gobierno', 1), ('sentían', 1), ('olvidaron', 1), ('despertarme', 1), ('avenida', 1), ('asintieron', 1), ('hundieron', 1), ('naves', 1), ('cultura', 2), ('boquiabiertos', 1), ('asustadas', 1), ('porte', 1), ('ishikawa', 1), ('interrogando', 1), ('sorprendentemente', 1), ('entusiastas', 1), ('descatalogado', 1), ('acceso', 1), ('restringido', 1), ('automática', 1), ('hipótesis', 1), ('sartén', 2), ('usos', 2), ('excepcional', 1), ('rescatadas', 1), ('devuelta', 1), ('abstuvo', 1), ('apostó', 1), ('traidora', 1), ('vencernos', 1), ('compite', 1), ('completó', 1), ('condena', 1), ('notó', 1), ('setentas', 1), ('desayuna', 1), ('apresurarse', 1), ('falsificó', 1), ('reportes', 1), ('bruces', 1), ('tratamiento', 1), ('padece', 1), ('espiándome', 1), ('montones', 1), ('freelance', 1), ('esquiador', 1), ('comprador', 1), ('litera', 1), ('desplumando', 1), ('esquilando', 1), ('atendiendo', 1), ('mejicano', 1), ('tirantes', 1), ('chismoseando', 1), ('cotorreando', 1), ('balbuceando', 1), ('burlándose', 1), ('mostrador', 1), ('pañal', 1), ('domigos', 1), ('feneció', 1), ('pantalla', 1), ('practica', 1), ('cría', 1), ('árabes', 1), ('mojados', 2), ('mojadas', 2), ('denunció', 1), ('desaparición', 1), ('párrafo', 1), ('dueto', 1), ('liberarse', 1), ('forcejeo', 1), ('forcejeó', 1), ('liberación', 1), ('estaríais', 1), ('estarían', 1), ('consolar', 1), ('matarse', 1), ('ocupó', 1), ('económico', 1), ('exitoso', 1), ('respetado', 1), ('donar', 1), ('teñirse', 1), ('celda', 1), ('eligieron', 1), ('cercano', 2), ('sentenciado', 1), ('inanición', 1), ('sobreviviente', 1), ('toallas', 1), ('tangente', 1), ('abandonaría', 1), ('excéntrica', 1), ('pelado', 3), ('tratá', 1), ('quedaban', 2), ('montamos', 1), ('calentadores', 3), ('ensamblamos', 1), ('armamos', 1), ('desayunamos', 2), ('abandonarlos', 1), ('agradecerles', 1), ('podíamos', 1), ('brecha', 1), ('campanas', 1), ('aprendemos', 1), ('ofrecimos', 2), ('pintado', 2), ('zambullimos', 1), ('despertamos', 1), ('abandonaremos', 1), ('separadas', 1), ('protegerles', 1), ('primeras', 1), ('dispuestos', 1), ('esperable', 1), ('cómica', 1), ('mascando', 1), ('tratas', 1), ('conclusiones', 1), ('atisbar', 1), ('chela', 1), ('pretende', 1), ('depara', 1), ('consiste', 2), ('recórcholis', 1), ('sostienes', 1), ('marchas', 1), ('marcháis', 1), ('últimas', 1), ('tardas', 1), ('preferido', 2), ('aterrizar', 1), ('visitaste', 1), ('desayunáis', 1), ('pretendes', 1), ('sobres', 1), ('aprendieron', 1), ('terminal', 1), ('cercana', 2), ('quedaréis', 1), ('escogerás', 1), ('central', 1), ('park', 1), ('alentando', 1), ('homicidio', 1), ('porción', 1), ('enviaría', 1), ('cabreado', 1), ('cabreada', 1), ('cabreados', 1), ('cabreadas', 1), ('rompisteis', 1), ('creíste', 1), ('despertaste', 1), ('aceptas', 1), ('adelantas', 1), ('¿estará', 1), ('calmar', 1), ('frotarías', 1), ('despertarás', 1), ('¿estarías', 1), ('levantarías', 1), ('¿dirías', 1), ('anotá', 1), ('distraes', 1), ('subestimando', 1), ('podrás', 1), ('ganarle', 1), ('ayuntamiento', 1), ('desprecias', 1), ('almorzaste', 1), ('escribiste', 1), ('ticket', 1), ('telefonearme', 1), ('envolverlo', 1), ('total', 1), ('llevarnos', 1), ('regularidad', 3), ('arriesgarte', 1), ('kimono', 1), ('tomasteis', 1), ('adecuada', 1), ('cometiste', 1), ('apretar', 1), ('entrenar', 1), ('distraída', 1), ('vegetales', 1), ('vestir', 1), ('vestirte', 1), ('tomarse', 2), ('guardaespalda', 1), ('descanses', 1), ('entenderéis', 1), ('atentos', 1), ('contagiado', 1), ('vehículos', 1), ('vota', 1), ('intentos', 1), ('pobladores', 1), ('excavó', 1), ('vasija', 1), ('pasándola', 1), ('acostados', 1), ('astronautas', 1), ('trajes', 1), ('espaciales', 1), ('libramos', 1), ('impedimento', 1), ('edificios', 1), ('boxeadores', 1), ('reflejos', 1), ('raros', 1), ('tijera', 1), ('gerente', 1), ('pequeñito', 1), ('enmarcar', 2), ('receta', 1), ('medir', 1), ('arrojar', 2), ('tomarnos', 1), ('caros', 1), ('aprenden', 1), ('circunstancias', 1), ('retomarán', 1), ('¡vuelve', 2), ('¡volved', 2), ('¡vuelva', 2), ('¡vuelvan', 2), ('¡anda', 1), ('¡ea', 1), ('considere', 1), ('autógrafo', 1), ('destornillador', 1), ('enviarlo', 1), ('deletrearlo', 1), ('destruye', 1), ('¿trajiste', 1), ('secador', 2), ('¿trajeron', 1), ('telefoneaste', 1), ('trabajaste', 1), ('¿pasaste', 1), ('¿tuviste', 1), ('¿abriste', 1), ('solicitaste', 1), ('¿apagaste', 2), ('pronunciar', 1), ('¿aceptáis', 1), ('tarjetas', 1), ('créditos', 1), ('económica', 1), ('incendios', 2), ('ikea', 1), ('artístico', 1), ('practicar', 1), ('colegas', 1), ('marches', 1), ('depilas', 1), ('acordás', 1), ('continue', 1), ('odie', 1), ('matemos', 1), ('doctores', 1), ('extrajeron', 1), ('masticas', 1), ('masticás', 1), ('andes', 2), ('ramas', 4), ('andéis', 2), ('ande', 2), ('anden', 2), ('directos', 2), ('creas', 1), ('mezcle', 1), ('juzgues', 2), ('severidad', 4), ('juzguéis', 1), ('juzgue', 1), ('juzguen', 1), ('distraiga', 1), ('manipularme', 1), ('sécate', 1), ('eterno', 1), ('ancla', 1), ('admiraban', 1), ('ejercitarse', 1), ('beneficios', 1), ('exportaciones', 1), ('ralentizando', 1), ('adictiva', 1), ('fatiga', 1), ('cuestionario', 1)])\n"
          ],
          "name": "stdout"
        }
      ]
    },
    {
      "cell_type": "markdown",
      "metadata": {
        "id": "T3eYhQQbkoHd",
        "colab_type": "text"
      },
      "source": [
        "Given below is a function to prepare the sequences. It will also perform sequence padding to a maximum sentence length as mentioned above. "
      ]
    },
    {
      "cell_type": "code",
      "metadata": {
        "id": "ra6VLnlxkoHe",
        "colab_type": "code",
        "colab": {}
      },
      "source": [
        "# encode and pad sequences\n",
        "def encode_sequences(tokenizer, length, lines):\n",
        "    # integer encode sequences\n",
        "    seq = tokenizer.texts_to_sequences(lines)\n",
        "    # pad sequences with 0 values\n",
        "    seq = pad_sequences(seq, maxlen=length, padding='post')\n",
        "    print(seq)\n",
        "    print(len(seq))\n",
        "    return seq"
      ],
      "execution_count": 0,
      "outputs": []
    },
    {
      "cell_type": "code",
      "metadata": {
        "id": "C4mHs735koHf",
        "colab_type": "code",
        "outputId": "012d8786-df39-4537-e9a2-f113c6447a10",
        "colab": {}
      },
      "source": [
        ""
      ],
      "execution_count": 0,
      "outputs": [
        {
          "output_type": "stream",
          "text": [
            "<bound method Tokenizer.texts_to_sequences of <keras_preprocessing.text.Tokenizer object at 0x000001D5AD17AA08>>\n"
          ],
          "name": "stdout"
        }
      ]
    },
    {
      "cell_type": "markdown",
      "metadata": {
        "id": "QMrls2iCkoHg",
        "colab_type": "text"
      },
      "source": [
        "### Model Building"
      ]
    },
    {
      "cell_type": "markdown",
      "metadata": {
        "id": "YgvXISM1koHh",
        "colab_type": "text"
      },
      "source": [
        "We will now split the data into train and test set for model training and evaluation, respectively."
      ]
    },
    {
      "cell_type": "code",
      "metadata": {
        "id": "MbOYF-FqkoHh",
        "colab_type": "code",
        "colab": {}
      },
      "source": [
        "from sklearn.model_selection import train_test_split\n",
        "train, test = train_test_split(deu_eng, test_size=0.2, random_state = 12)"
      ],
      "execution_count": 0,
      "outputs": []
    },
    {
      "cell_type": "markdown",
      "metadata": {
        "id": "q7VMqm_GkoHj",
        "colab_type": "text"
      },
      "source": [
        "It's time to encode the sentences. We will encode German sentences as the input sequences and English sentences as the target sequences. It will be done for both train and test datasets."
      ]
    },
    {
      "cell_type": "code",
      "metadata": {
        "id": "7mXlOv4KkoHj",
        "colab_type": "code",
        "outputId": "0a4e9fa0-e379-4607-fe00-49c0ffe7c7ee",
        "colab": {
          "base_uri": "https://localhost:8080/",
          "height": 286
        }
      },
      "source": [
        "# prepare training data\n",
        "trainX = encode_sequences(spa_tokenizer, spa_length, train[:, 1])\n",
        "trainY = encode_sequences(engnew_tokenizer, engnew_length, train[:, 0])"
      ],
      "execution_count": 19,
      "outputs": [
        {
          "output_type": "stream",
          "text": [
            "[[   1    2  991  209    4   36]\n",
            " [  12   14  780    6 1508 2845]\n",
            " [  29  471   13   10   94  224]\n",
            " ...\n",
            " [   9 3304    8  658    0    0]\n",
            " [4396   13   42  275   10 1452]\n",
            " [  76  389  258    0    0    0]]\n",
            "40000\n",
            "[[   3  490   68   40    0    0]\n",
            " [   9  316   44 1026 1029    0]\n",
            " [   1   19   69   23    2   52]\n",
            " ...\n",
            " [   2  316   13  690    0    0]\n",
            " [1190  150  734  150    2   26]\n",
            " [   1   52    7  216   76    0]]\n",
            "40000\n"
          ],
          "name": "stdout"
        }
      ]
    },
    {
      "cell_type": "code",
      "metadata": {
        "id": "iQKg_d5OkoHl",
        "colab_type": "code",
        "outputId": "1fdbf780-9df8-4e37-99c5-1bb838de8921",
        "colab": {
          "base_uri": "https://localhost:8080/",
          "height": 50
        }
      },
      "source": [
        "print(trainX.shape)\n",
        "print(trainY.shape)"
      ],
      "execution_count": 75,
      "outputs": [
        {
          "output_type": "stream",
          "text": [
            "(40000, 6)\n",
            "(40000, 6)\n"
          ],
          "name": "stdout"
        }
      ]
    },
    {
      "cell_type": "code",
      "metadata": {
        "id": "yS6lYMNXkoHn",
        "colab_type": "code",
        "outputId": "c122e807-6ac7-479f-aedc-2baa2abaeb1b",
        "colab": {
          "base_uri": "https://localhost:8080/",
          "height": 286
        }
      },
      "source": [
        "# prepare validation data\n",
        "testX = encode_sequences(spa_tokenizer, spa_length, test[:, 1])\n",
        "testY = encode_sequences(engnew_tokenizer, engnew_length, test[:, 0])"
      ],
      "execution_count": 20,
      "outputs": [
        {
          "output_type": "stream",
          "text": [
            "[[1045   80 1202   26    0    0]\n",
            " [  22   83   27    0    0    0]\n",
            " [  70   20  795    0    0    0]\n",
            " ...\n",
            " [1207  161   24 3848    0    0]\n",
            " [  37  248    6  997    0    0]\n",
            " [   3  273  145  130    0    0]]\n",
            "10000\n",
            "[[  82   51   34   11  330    0]\n",
            " [   1  110   37    0    0    0]\n",
            " [  72  520    2    0    0    0]\n",
            " ...\n",
            " [  12    2   27 2315    0    0]\n",
            " [   2   19  659  941    0    0]\n",
            " [   9    4  217    7   50    0]]\n",
            "10000\n"
          ],
          "name": "stdout"
        }
      ]
    },
    {
      "cell_type": "code",
      "metadata": {
        "id": "QCQ3ZJBmkoHs",
        "colab_type": "code",
        "outputId": "ad069ad5-8c07-4ea0-b5b2-9ab3cc5507d5",
        "colab": {
          "base_uri": "https://localhost:8080/",
          "height": 50
        }
      },
      "source": [
        "print(testX.shape)\n",
        "print(testY.shape)"
      ],
      "execution_count": 21,
      "outputs": [
        {
          "output_type": "stream",
          "text": [
            "(10000, 6)\n",
            "(10000, 6)\n"
          ],
          "name": "stdout"
        }
      ]
    },
    {
      "cell_type": "markdown",
      "metadata": {
        "id": "GkbXF5QZkoHu",
        "colab_type": "text"
      },
      "source": [
        "Now comes the exciting part! Let us define our Seq2Seq model architecture. We are using an Embedding layer and an LSTM layer as our encoder and another LSTM layer followed by a Dense layer as the decoder.  "
      ]
    },
    {
      "cell_type": "code",
      "metadata": {
        "id": "ep0K3_f7koHv",
        "colab_type": "code",
        "colab": {}
      },
      "source": [
        "# build NMT model\n",
        "def build_model(in_vocab, out_vocab, in_timesteps, out_timesteps, units):\n",
        "    model = Sequential()\n",
        "    model.add(Embedding(in_vocab, units, input_length=in_timesteps, mask_zero=True))\n",
        "    model.add(LSTM(units))\n",
        "    model.add(RepeatVector(out_timesteps))    \n",
        "    model.add(LSTM(units, return_sequences=True))\n",
        "    model.add(Dense(out_vocab, activation='softmax'))\n",
        "    return model"
      ],
      "execution_count": 0,
      "outputs": []
    },
    {
      "cell_type": "code",
      "metadata": {
        "id": "zeEKjs8OQcR-",
        "colab_type": "code",
        "colab": {
          "base_uri": "https://localhost:8080/",
          "height": 265
        },
        "outputId": "c707fd00-b7e9-4663-c4c4-384320687c18"
      },
      "source": [
        "plt.plot(history.history['loss'])\n",
        "plt.plot(history.history['val_loss'])\n",
        "plt.legend(['train','validation'])\n",
        "plt.show()"
      ],
      "execution_count": 79,
      "outputs": [
        {
          "output_type": "display_data",
          "data": {
            "image/png": "[encoded data removed]",
            "text/plain": [
              "<Figure size 432x288 with 1 Axes>"
            ]
          },
          "metadata": {
            "tags": [],
            "needs_background": "light"
          }
        }
      ]
    },
    {
      "cell_type": "code",
      "metadata": {
        "id": "fRAYlPtS63bw",
        "colab_type": "code",
        "colab": {}
      },
      "source": [
        "\n",
        "# build NMT model\n",
        "def build_model(in_vocab, out_vocab, in_timesteps, out_timesteps, units):\n",
        "    model = Sequential()\n",
        "    model.add(Embedding(in_vocab, units, input_length=in_timesteps, mask_zero=True))\n",
        "    model.add(GRU(units))\n",
        "    model.add(RepeatVector(out_timesteps))    \n",
        "    model.add(GRU(units, return_sequences=True))\n",
        "    model.add(Dense(out_vocab, activation='softmax'))\n",
        "    return model"
      ],
      "execution_count": 0,
      "outputs": []
    },
    {
      "cell_type": "code",
      "metadata": {
        "id": "RLyVzbo8Qc6F",
        "colab_type": "code",
        "colab": {
          "base_uri": "https://localhost:8080/",
          "height": 265
        },
        "outputId": "949460a1-31b8-4b31-f075-74c26e937c96"
      },
      "source": [
        "plt.plot(history.history['loss'])\n",
        "plt.plot(history.history['val_loss'])\n",
        "plt.legend(['train','validation'])\n",
        "plt.show()"
      ],
      "execution_count": 87,
      "outputs": [
        {
          "output_type": "display_data",
          "data": {
            "image/png": "[encoded data removed]",
            "text/plain": [
              "<Figure size 432x288 with 1 Axes>"
            ]
          },
          "metadata": {
            "tags": [],
            "needs_background": "light"
          }
        }
      ]
    },
    {
      "cell_type": "code",
      "metadata": {
        "id": "QoIXvn8763mw",
        "colab_type": "code",
        "colab": {}
      },
      "source": [
        "# build NMT model\n",
        "def build_model(in_vocab, out_vocab, in_timesteps, out_timesteps, units):\n",
        "    model = Sequential()\n",
        "    model.add(Embedding(in_vocab, units, input_length=in_timesteps, mask_zero=True))\n",
        "    model.add(SimpleRNN(units))\n",
        "    model.add(RepeatVector(out_timesteps))    \n",
        "    model.add(SimpleRNN(units, return_sequences=True))\n",
        "    model.add(Dense(out_vocab, activation='softmax'))\n",
        "    return model\n"
      ],
      "execution_count": 0,
      "outputs": []
    },
    {
      "cell_type": "code",
      "metadata": {
        "id": "6_nTM8mSQdbO",
        "colab_type": "code",
        "colab": {
          "base_uri": "https://localhost:8080/",
          "height": 265
        },
        "outputId": "044a78fd-919f-481c-a69e-e5c6dd7d2c14"
      },
      "source": [
        "plt.plot(history.history['loss'])\n",
        "plt.plot(history.history['val_loss'])\n",
        "plt.legend(['train','validation'])\n",
        "plt.show()"
      ],
      "execution_count": 24,
      "outputs": [
        {
          "output_type": "display_data",
          "data": {
            "image/png": "[encoded data removed]",
            "text/plain": [
              "<Figure size 432x288 with 1 Axes>"
            ]
          },
          "metadata": {
            "tags": [],
            "needs_background": "light"
          }
        }
      ]
    },
    {
      "cell_type": "markdown",
      "metadata": {
        "id": "QkSrLhfskoHx",
        "colab_type": "text"
      },
      "source": [
        "Details about the RepeatVector :  https://campus.datacamp.com/courses/machine-translation-in-python/implementing-an-encoder-decoder-model-with-keras?ex=6"
      ]
    },
    {
      "cell_type": "markdown",
      "metadata": {
        "id": "Zo4em_TukoHx",
        "colab_type": "text"
      },
      "source": [
        "We are using RMSprop optimizer in this model as it is usually a good choice for recurrent neural networks."
      ]
    },
    {
      "cell_type": "code",
      "metadata": {
        "id": "3RrtC6XckoHy",
        "colab_type": "code",
        "outputId": "f6b551bf-57eb-44c1-8ff6-abd5e78b871d",
        "colab": {
          "base_uri": "https://localhost:8080/",
          "height": 84
        }
      },
      "source": [
        "print(spa_vocab_size)\n",
        "print(engnew_vocab_size)\n",
        "print(spa_length)\n",
        "print(engnew_length)"
      ],
      "execution_count": 23,
      "outputs": [
        {
          "output_type": "stream",
          "text": [
            "13923\n",
            "6793\n",
            "6\n",
            "6\n"
          ],
          "name": "stdout"
        }
      ]
    },
    {
      "cell_type": "code",
      "metadata": {
        "id": "bEY3xQuJA47a",
        "colab_type": "code",
        "colab": {}
      },
      "source": [
        ""
      ],
      "execution_count": 0,
      "outputs": []
    },
    {
      "cell_type": "code",
      "metadata": {
        "id": "dqK8CwcOkoH0",
        "colab_type": "code",
        "colab": {}
      },
      "source": [
        "model = build_model(spa_vocab_size, engnew_vocab_size, spa_length, engnew_length, 512)\n",
        "rms = optimizers.RMSprop(lr=0.001)\n",
        "model.compile(optimizer=rms, loss='sparse_categorical_crossentropy')"
      ],
      "execution_count": 0,
      "outputs": []
    },
    {
      "cell_type": "markdown",
      "metadata": {
        "id": "zT-APYNhkoH2",
        "colab_type": "text"
      },
      "source": [
        "Please note that we have used __'sparse_categorical_crossentropy'__ as the loss function because it allows us to use the target sequence as it is instead of one hot encoded format. One hot encoding the target sequences with such a huge vocabulary might consume our system's entire memory."
      ]
    },
    {
      "cell_type": "markdown",
      "metadata": {
        "id": "j1hAl9dtkoH3",
        "colab_type": "text"
      },
      "source": [
        "It seems we are all set to start training our model. We will train it for 30 epochs and with a batch size of 512. You may change and play these hyperparameters. We will also be using __ModelCheckpoint()__ to save the best model with lowest validation loss. I personally prefer this method over early stopping."
      ]
    },
    {
      "cell_type": "code",
      "metadata": {
        "scrolled": true,
        "id": "joWJn0e0koH3",
        "colab_type": "code",
        "outputId": "25f8074b-09f1-42a0-9bd6-7c5ac13bec7c",
        "colab": {
          "base_uri": "https://localhost:8080/",
          "height": 1000
        }
      },
      "source": [
        "filename = 'model.h1.24_jan_19'\n",
        "checkpoint = ModelCheckpoint(filename, monitor='val_loss', verbose=1, save_best_only=True, mode='min')\n",
        "\n",
        "history = model.fit(trainX, trainY.reshape(trainY.shape[0], trainY.shape[1], 1), \n",
        "          epochs=30, batch_size=512, \n",
        "          validation_split = 0.2,\n",
        "          callbacks=[checkpoint], verbose=1)"
      ],
      "execution_count": 23,
      "outputs": [
        {
          "output_type": "stream",
          "text": [
            "/usr/local/lib/python3.6/dist-packages/tensorflow/python/framework/indexed_slices.py:434: UserWarning: Converting sparse IndexedSlices to a dense Tensor of unknown shape. This may consume a large amount of memory.\n",
            "  \"Converting sparse IndexedSlices to a dense Tensor of unknown shape. \"\n"
          ],
          "name": "stderr"
        },
        {
          "output_type": "stream",
          "text": [
            "Train on 32000 samples, validate on 8000 samples\n",
            "Epoch 1/30\n",
            "32000/32000 [==============================] - 155s 5ms/step - loss: 4.6656 - val_loss: 4.3262\n",
            "\n",
            "Epoch 00001: val_loss improved from inf to 4.32622, saving model to model.h1.24_jan_19\n",
            "Epoch 2/30\n",
            "32000/32000 [==============================] - 154s 5ms/step - loss: 4.1199 - val_loss: 4.0206\n",
            "\n",
            "Epoch 00002: val_loss improved from 4.32622 to 4.02061, saving model to model.h1.24_jan_19\n",
            "Epoch 3/30\n",
            "32000/32000 [==============================] - 155s 5ms/step - loss: 3.8812 - val_loss: 3.8500\n",
            "\n",
            "Epoch 00003: val_loss improved from 4.02061 to 3.85004, saving model to model.h1.24_jan_19\n",
            "Epoch 4/30\n",
            "32000/32000 [==============================] - 155s 5ms/step - loss: 3.6255 - val_loss: 3.6288\n",
            "\n",
            "Epoch 00004: val_loss improved from 3.85004 to 3.62883, saving model to model.h1.24_jan_19\n",
            "Epoch 5/30\n",
            "32000/32000 [==============================] - 154s 5ms/step - loss: 3.3740 - val_loss: 3.5108\n",
            "\n",
            "Epoch 00005: val_loss improved from 3.62883 to 3.51083, saving model to model.h1.24_jan_19\n",
            "Epoch 6/30\n",
            "32000/32000 [==============================] - 157s 5ms/step - loss: 3.1388 - val_loss: 3.2945\n",
            "\n",
            "Epoch 00006: val_loss improved from 3.51083 to 3.29454, saving model to model.h1.24_jan_19\n",
            "Epoch 7/30\n",
            "32000/32000 [==============================] - 154s 5ms/step - loss: 2.9345 - val_loss: 3.1215\n",
            "\n",
            "Epoch 00007: val_loss improved from 3.29454 to 3.12154, saving model to model.h1.24_jan_19\n",
            "Epoch 8/30\n",
            "32000/32000 [==============================] - 156s 5ms/step - loss: 2.7162 - val_loss: 3.0434\n",
            "\n",
            "Epoch 00008: val_loss improved from 3.12154 to 3.04338, saving model to model.h1.24_jan_19\n",
            "Epoch 9/30\n",
            "32000/32000 [==============================] - 158s 5ms/step - loss: 2.5319 - val_loss: 2.9420\n",
            "\n",
            "Epoch 00009: val_loss improved from 3.04338 to 2.94197, saving model to model.h1.24_jan_19\n",
            "Epoch 10/30\n",
            "32000/32000 [==============================] - 156s 5ms/step - loss: 2.3405 - val_loss: 2.7762\n",
            "\n",
            "Epoch 00010: val_loss improved from 2.94197 to 2.77616, saving model to model.h1.24_jan_19\n",
            "Epoch 11/30\n",
            "32000/32000 [==============================] - 156s 5ms/step - loss: 2.1577 - val_loss: 2.7219\n",
            "\n",
            "Epoch 00011: val_loss improved from 2.77616 to 2.72191, saving model to model.h1.24_jan_19\n",
            "Epoch 12/30\n",
            "32000/32000 [==============================] - 154s 5ms/step - loss: 1.9890 - val_loss: 2.5977\n",
            "\n",
            "Epoch 00012: val_loss improved from 2.72191 to 2.59765, saving model to model.h1.24_jan_19\n",
            "Epoch 13/30\n",
            "32000/32000 [==============================] - 159s 5ms/step - loss: 1.8286 - val_loss: 2.5269\n",
            "\n",
            "Epoch 00013: val_loss improved from 2.59765 to 2.52691, saving model to model.h1.24_jan_19\n",
            "Epoch 14/30\n",
            "32000/32000 [==============================] - 155s 5ms/step - loss: 1.6807 - val_loss: 2.4664\n",
            "\n",
            "Epoch 00014: val_loss improved from 2.52691 to 2.46643, saving model to model.h1.24_jan_19\n",
            "Epoch 15/30\n",
            "32000/32000 [==============================] - 154s 5ms/step - loss: 1.5377 - val_loss: 2.4300\n",
            "\n",
            "Epoch 00015: val_loss improved from 2.46643 to 2.42997, saving model to model.h1.24_jan_19\n",
            "Epoch 16/30\n",
            "32000/32000 [==============================] - 154s 5ms/step - loss: 1.4085 - val_loss: 2.3818\n",
            "\n",
            "Epoch 00016: val_loss improved from 2.42997 to 2.38179, saving model to model.h1.24_jan_19\n",
            "Epoch 17/30\n",
            "32000/32000 [==============================] - 159s 5ms/step - loss: 1.2877 - val_loss: 2.3387\n",
            "\n",
            "Epoch 00017: val_loss improved from 2.38179 to 2.33867, saving model to model.h1.24_jan_19\n",
            "Epoch 18/30\n",
            "32000/32000 [==============================] - 155s 5ms/step - loss: 1.1754 - val_loss: 2.3896\n",
            "\n",
            "Epoch 00018: val_loss did not improve from 2.33867\n",
            "Epoch 19/30\n",
            "32000/32000 [==============================] - 156s 5ms/step - loss: 1.0731 - val_loss: 2.3023\n",
            "\n",
            "Epoch 00019: val_loss improved from 2.33867 to 2.30226, saving model to model.h1.24_jan_19\n",
            "Epoch 20/30\n",
            "32000/32000 [==============================] - 155s 5ms/step - loss: 0.9783 - val_loss: 2.3278\n",
            "\n",
            "Epoch 00020: val_loss did not improve from 2.30226\n",
            "Epoch 21/30\n",
            "32000/32000 [==============================] - 158s 5ms/step - loss: 0.8905 - val_loss: 2.2973\n",
            "\n",
            "Epoch 00021: val_loss improved from 2.30226 to 2.29728, saving model to model.h1.24_jan_19\n",
            "Epoch 22/30\n",
            "32000/32000 [==============================] - 155s 5ms/step - loss: 0.8097 - val_loss: 2.3002\n",
            "\n",
            "Epoch 00022: val_loss did not improve from 2.29728\n",
            "Epoch 23/30\n",
            "32000/32000 [==============================] - 156s 5ms/step - loss: 0.7342 - val_loss: 2.3063\n",
            "\n",
            "Epoch 00023: val_loss did not improve from 2.29728\n",
            "Epoch 24/30\n",
            "32000/32000 [==============================] - 155s 5ms/step - loss: 0.6679 - val_loss: 2.3048\n",
            "\n",
            "Epoch 00024: val_loss did not improve from 2.29728\n",
            "Epoch 25/30\n",
            "32000/32000 [==============================] - 159s 5ms/step - loss: 0.6034 - val_loss: 2.2864\n",
            "\n",
            "Epoch 00025: val_loss improved from 2.29728 to 2.28637, saving model to model.h1.24_jan_19\n",
            "Epoch 26/30\n",
            "32000/32000 [==============================] - 155s 5ms/step - loss: 0.5483 - val_loss: 2.3565\n",
            "\n",
            "Epoch 00026: val_loss did not improve from 2.28637\n",
            "Epoch 27/30\n",
            "32000/32000 [==============================] - 155s 5ms/step - loss: 0.4965 - val_loss: 2.3158\n",
            "\n",
            "Epoch 00027: val_loss did not improve from 2.28637\n",
            "Epoch 28/30\n",
            "32000/32000 [==============================] - 155s 5ms/step - loss: 0.4490 - val_loss: 2.3262\n",
            "\n",
            "Epoch 00028: val_loss did not improve from 2.28637\n",
            "Epoch 29/30\n",
            "32000/32000 [==============================] - 159s 5ms/step - loss: 0.4047 - val_loss: 2.3498\n",
            "\n",
            "Epoch 00029: val_loss did not improve from 2.28637\n",
            "Epoch 30/30\n",
            "32000/32000 [==============================] - 155s 5ms/step - loss: 0.3652 - val_loss: 2.3458\n",
            "\n",
            "Epoch 00030: val_loss did not improve from 2.28637\n"
          ],
          "name": "stdout"
        }
      ]
    },
    {
      "cell_type": "markdown",
      "metadata": {
        "id": "N1w2E6LPkoH5",
        "colab_type": "text"
      },
      "source": [
        "Let's compare the training loss and the validation loss."
      ]
    },
    {
      "cell_type": "markdown",
      "metadata": {
        "id": "4NublhxpkoH7",
        "colab_type": "text"
      },
      "source": [
        "### Make Predictions"
      ]
    },
    {
      "cell_type": "markdown",
      "metadata": {
        "id": "UhqtBsJmkoH8",
        "colab_type": "text"
      },
      "source": [
        "Let's load the saved model to make predictions."
      ]
    },
    {
      "cell_type": "code",
      "metadata": {
        "id": "GkH3hwLfkoH8",
        "colab_type": "code",
        "outputId": "decaf6d3-3a46-4064-e195-db5c8adc291b",
        "colab": {
          "base_uri": "https://localhost:8080/",
          "height": 70
        }
      },
      "source": [
        "model = load_model('model.h1.24_jan_19')\n",
        "preds = model.predict_classes(testX.reshape((testX.shape[0],testX.shape[1])))"
      ],
      "execution_count": 29,
      "outputs": [
        {
          "output_type": "stream",
          "text": [
            "/usr/local/lib/python3.6/dist-packages/tensorflow/python/framework/indexed_slices.py:434: UserWarning: Converting sparse IndexedSlices to a dense Tensor of unknown shape. This may consume a large amount of memory.\n",
            "  \"Converting sparse IndexedSlices to a dense Tensor of unknown shape. \"\n"
          ],
          "name": "stderr"
        }
      ]
    },
    {
      "cell_type": "code",
      "metadata": {
        "id": "Mpw1aKwRkoH-",
        "colab_type": "code",
        "colab": {}
      },
      "source": [
        "def get_word(n, tokenizer):\n",
        "    for word, index in tokenizer.word_index.items():\n",
        "        if index == n:\n",
        "            return word\n",
        "    return None"
      ],
      "execution_count": 0,
      "outputs": []
    },
    {
      "cell_type": "code",
      "metadata": {
        "id": "PkcBinxQkoIB",
        "colab_type": "code",
        "colab": {
          "base_uri": "https://localhost:8080/",
          "height": 229
        },
        "outputId": "d70c8172-087f-4ea1-dd54-7e06a463c808"
      },
      "source": [
        "# convert predictions into text (English)\n",
        "preds_text = []\n",
        "for i in preds:\n",
        "    temp = []\n",
        "    for j in range(len(i)):\n",
        "        t = get_word(i[j], eng_tokenizer)\n",
        "        if j > 0:\n",
        "            if (t == get_word(i[j-1], eng_tokenizer)) or (t == None):\n",
        "                temp.append('')\n",
        "            else:\n",
        "                temp.append(t)\n",
        "             \n",
        "        else:\n",
        "            if(t == None):\n",
        "                temp.append('')\n",
        "            else:\n",
        "                temp.append(t)            \n",
        "        \n",
        "    preds_text.append(' '.join(temp))"
      ],
      "execution_count": 31,
      "outputs": [
        {
          "output_type": "error",
          "ename": "NameError",
          "evalue": "ignored",
          "traceback": [
            "\u001b[0;31m---------------------------------------------------------------------------\u001b[0m",
            "\u001b[0;31mNameError\u001b[0m                                 Traceback (most recent call last)",
            "\u001b[0;32m<ipython-input-31-1eaf9ef7b302>\u001b[0m in \u001b[0;36m<module>\u001b[0;34m()\u001b[0m\n\u001b[1;32m      3\u001b[0m     \u001b[0mtemp\u001b[0m \u001b[0;34m=\u001b[0m \u001b[0;34m[\u001b[0m\u001b[0;34m]\u001b[0m\u001b[0;34m\u001b[0m\u001b[0;34m\u001b[0m\u001b[0m\n\u001b[1;32m      4\u001b[0m     \u001b[0;32mfor\u001b[0m \u001b[0mj\u001b[0m \u001b[0;32min\u001b[0m \u001b[0mrange\u001b[0m\u001b[0;34m(\u001b[0m\u001b[0mlen\u001b[0m\u001b[0;34m(\u001b[0m\u001b[0mi\u001b[0m\u001b[0;34m)\u001b[0m\u001b[0;34m)\u001b[0m\u001b[0;34m:\u001b[0m\u001b[0;34m\u001b[0m\u001b[0;34m\u001b[0m\u001b[0m\n\u001b[0;32m----> 5\u001b[0;31m         \u001b[0mt\u001b[0m \u001b[0;34m=\u001b[0m \u001b[0mget_word\u001b[0m\u001b[0;34m(\u001b[0m\u001b[0mi\u001b[0m\u001b[0;34m[\u001b[0m\u001b[0mj\u001b[0m\u001b[0;34m]\u001b[0m\u001b[0;34m,\u001b[0m \u001b[0meng_tokenizer\u001b[0m\u001b[0;34m)\u001b[0m\u001b[0;34m\u001b[0m\u001b[0;34m\u001b[0m\u001b[0m\n\u001b[0m\u001b[1;32m      6\u001b[0m         \u001b[0;32mif\u001b[0m \u001b[0mj\u001b[0m \u001b[0;34m>\u001b[0m \u001b[0;36m0\u001b[0m\u001b[0;34m:\u001b[0m\u001b[0;34m\u001b[0m\u001b[0;34m\u001b[0m\u001b[0m\n\u001b[1;32m      7\u001b[0m             \u001b[0;32mif\u001b[0m \u001b[0;34m(\u001b[0m\u001b[0mt\u001b[0m \u001b[0;34m==\u001b[0m \u001b[0mget_word\u001b[0m\u001b[0;34m(\u001b[0m\u001b[0mi\u001b[0m\u001b[0;34m[\u001b[0m\u001b[0mj\u001b[0m\u001b[0;34m-\u001b[0m\u001b[0;36m1\u001b[0m\u001b[0;34m]\u001b[0m\u001b[0;34m,\u001b[0m \u001b[0meng_tokenizer\u001b[0m\u001b[0;34m)\u001b[0m\u001b[0;34m)\u001b[0m \u001b[0;32mor\u001b[0m \u001b[0;34m(\u001b[0m\u001b[0mt\u001b[0m \u001b[0;34m==\u001b[0m \u001b[0;32mNone\u001b[0m\u001b[0;34m)\u001b[0m\u001b[0;34m:\u001b[0m\u001b[0;34m\u001b[0m\u001b[0;34m\u001b[0m\u001b[0m\n",
            "\u001b[0;31mNameError\u001b[0m: name 'eng_tokenizer' is not defined"
          ]
        }
      ]
    },
    {
      "cell_type": "code",
      "metadata": {
        "id": "kAjF9ZfAkoID",
        "colab_type": "code",
        "colab": {}
      },
      "source": [
        "pred_df = pd.DataFrame({'actual' : test[:,0], 'predicted' : preds_text})"
      ],
      "execution_count": 0,
      "outputs": []
    },
    {
      "cell_type": "code",
      "metadata": {
        "id": "mKoLk1a1koIF",
        "colab_type": "code",
        "colab": {}
      },
      "source": [
        "pd.set_option('display.max_colwidth', 200)"
      ],
      "execution_count": 0,
      "outputs": []
    },
    {
      "cell_type": "code",
      "metadata": {
        "id": "u0b-_xpCkoIH",
        "colab_type": "code",
        "outputId": "d4caee11-2c6f-4390-d795-19468004eb4f",
        "colab": {
          "base_uri": "https://localhost:8080/",
          "height": 491
        }
      },
      "source": [
        "pred_df.head(15)"
      ],
      "execution_count": 0,
      "outputs": [
        {
          "output_type": "execute_result",
          "data": {
            "text/html": [
              "<div>\n",
              "<style scoped>\n",
              "    .dataframe tbody tr th:only-of-type {\n",
              "        vertical-align: middle;\n",
              "    }\n",
              "\n",
              "    .dataframe tbody tr th {\n",
              "        vertical-align: top;\n",
              "    }\n",
              "\n",
              "    .dataframe thead th {\n",
              "        text-align: right;\n",
              "    }\n",
              "</style>\n",
              "<table border=\"1\" class=\"dataframe\">\n",
              "  <thead>\n",
              "    <tr style=\"text-align: right;\">\n",
              "      <th></th>\n",
              "      <th>actual</th>\n",
              "      <th>predicted</th>\n",
              "    </tr>\n",
              "  </thead>\n",
              "  <tbody>\n",
              "    <tr>\n",
              "      <th>0</th>\n",
              "      <td>so how did this happen</td>\n",
              "      <td>good me  very</td>\n",
              "    </tr>\n",
              "    <tr>\n",
              "      <th>1</th>\n",
              "      <td>i eat here</td>\n",
              "      <td>i can go</td>\n",
              "    </tr>\n",
              "    <tr>\n",
              "      <th>2</th>\n",
              "      <td>who helped you</td>\n",
              "      <td>didnt canadian you</td>\n",
              "    </tr>\n",
              "    <tr>\n",
              "      <th>3</th>\n",
              "      <td>smoke appeared</td>\n",
              "      <td>he lazy all</td>\n",
              "    </tr>\n",
              "    <tr>\n",
              "      <th>4</th>\n",
              "      <td>they went to new zealand</td>\n",
              "      <td>your read to money</td>\n",
              "    </tr>\n",
              "    <tr>\n",
              "      <th>5</th>\n",
              "      <td>can you explain it to me</td>\n",
              "      <td>you strong do to do</td>\n",
              "    </tr>\n",
              "    <tr>\n",
              "      <th>6</th>\n",
              "      <td>four times five is twenty</td>\n",
              "      <td>sky sugar iphone is surgery</td>\n",
              "    </tr>\n",
              "    <tr>\n",
              "      <th>7</th>\n",
              "      <td>i just wanted to see you</td>\n",
              "      <td>will children to an you</td>\n",
              "    </tr>\n",
              "    <tr>\n",
              "      <th>8</th>\n",
              "      <td>im a little crazy</td>\n",
              "      <td>this a friend stand</td>\n",
              "    </tr>\n",
              "    <tr>\n",
              "      <th>9</th>\n",
              "      <td>im sorry for what i did</td>\n",
              "      <td>shoes good in i want</td>\n",
              "    </tr>\n",
              "    <tr>\n",
              "      <th>10</th>\n",
              "      <td>hes too drunk</td>\n",
              "      <td>he is one</td>\n",
              "    </tr>\n",
              "    <tr>\n",
              "      <th>11</th>\n",
              "      <td>tom saw me</td>\n",
              "      <td>tom from do</td>\n",
              "    </tr>\n",
              "    <tr>\n",
              "      <th>12</th>\n",
              "      <td>tom was dying</td>\n",
              "      <td>tom are happen</td>\n",
              "    </tr>\n",
              "    <tr>\n",
              "      <th>13</th>\n",
              "      <td>this is weird</td>\n",
              "      <td>me is weight</td>\n",
              "    </tr>\n",
              "    <tr>\n",
              "      <th>14</th>\n",
              "      <td>lets hit the hay</td>\n",
              "      <td>where know</td>\n",
              "    </tr>\n",
              "  </tbody>\n",
              "</table>\n",
              "</div>"
            ],
            "text/plain": [
              "                       actual                    predicted\n",
              "0      so how did this happen               good me  very \n",
              "1                  i eat here                   i can go  \n",
              "2              who helped you         didnt canadian you  \n",
              "3              smoke appeared                he lazy all  \n",
              "4    they went to new zealand          your read to money \n",
              "5    can you explain it to me          you strong do to do\n",
              "6   four times five is twenty  sky sugar iphone is surgery\n",
              "7    i just wanted to see you      will children to an you\n",
              "8           im a little crazy         this a friend stand \n",
              "9     im sorry for what i did         shoes good in i want\n",
              "10              hes too drunk                  he is one  \n",
              "11                 tom saw me                tom from do  \n",
              "12              tom was dying             tom are happen  \n",
              "13              this is weird               me is weight  \n",
              "14           lets hit the hay                where know   "
            ]
          },
          "metadata": {
            "tags": []
          },
          "execution_count": 169
        }
      ]
    },
    {
      "cell_type": "code",
      "metadata": {
        "id": "B4JNBfprkoIK",
        "colab_type": "code",
        "outputId": "689c63d1-b37e-49e6-f9da-b7e9e5381c3c",
        "colab": {
          "base_uri": "https://localhost:8080/",
          "height": 491
        }
      },
      "source": [
        "pred_df.tail(15)"
      ],
      "execution_count": 0,
      "outputs": [
        {
          "output_type": "execute_result",
          "data": {
            "text/html": [
              "<div>\n",
              "<style scoped>\n",
              "    .dataframe tbody tr th:only-of-type {\n",
              "        vertical-align: middle;\n",
              "    }\n",
              "\n",
              "    .dataframe tbody tr th {\n",
              "        vertical-align: top;\n",
              "    }\n",
              "\n",
              "    .dataframe thead th {\n",
              "        text-align: right;\n",
              "    }\n",
              "</style>\n",
              "<table border=\"1\" class=\"dataframe\">\n",
              "  <thead>\n",
              "    <tr style=\"text-align: right;\">\n",
              "      <th></th>\n",
              "      <th>actual</th>\n",
              "      <th>predicted</th>\n",
              "    </tr>\n",
              "  </thead>\n",
              "  <tbody>\n",
              "    <tr>\n",
              "      <th>9985</th>\n",
              "      <td>you really are nuts</td>\n",
              "      <td>this bicycle you</td>\n",
              "    </tr>\n",
              "    <tr>\n",
              "      <th>9986</th>\n",
              "      <td>they kept running</td>\n",
              "      <td>be travel all</td>\n",
              "    </tr>\n",
              "    <tr>\n",
              "      <th>9987</th>\n",
              "      <td>all of these are mine</td>\n",
              "      <td>come youre keep im bought</td>\n",
              "    </tr>\n",
              "    <tr>\n",
              "      <th>9988</th>\n",
              "      <td>youve come too early</td>\n",
              "      <td>you once one  hear</td>\n",
              "    </tr>\n",
              "    <tr>\n",
              "      <th>9989</th>\n",
              "      <td>nobody can stop tom</td>\n",
              "      <td>when not shes tom</td>\n",
              "    </tr>\n",
              "    <tr>\n",
              "      <th>9990</th>\n",
              "      <td>i dont mind waiting</td>\n",
              "      <td>i was with</td>\n",
              "    </tr>\n",
              "    <tr>\n",
              "      <th>9991</th>\n",
              "      <td>happy thanksgiving</td>\n",
              "      <td>this a youre very</td>\n",
              "    </tr>\n",
              "    <tr>\n",
              "      <th>9992</th>\n",
              "      <td>i loved her</td>\n",
              "      <td>i forget were</td>\n",
              "    </tr>\n",
              "    <tr>\n",
              "      <th>9993</th>\n",
              "      <td>did you come here alone</td>\n",
              "      <td>that you need go please</td>\n",
              "    </tr>\n",
              "    <tr>\n",
              "      <th>9994</th>\n",
              "      <td>were surrounded</td>\n",
              "      <td>on against</td>\n",
              "    </tr>\n",
              "    <tr>\n",
              "      <th>9995</th>\n",
              "      <td>i was very busy today</td>\n",
              "      <td>i are for theyre</td>\n",
              "    </tr>\n",
              "    <tr>\n",
              "      <th>9996</th>\n",
              "      <td>i used to be your age</td>\n",
              "      <td>children to  the dangerous</td>\n",
              "    </tr>\n",
              "    <tr>\n",
              "      <th>9997</th>\n",
              "      <td>do you like robots</td>\n",
              "      <td>dont you can picking</td>\n",
              "    </tr>\n",
              "    <tr>\n",
              "      <th>9998</th>\n",
              "      <td>you have until midnight</td>\n",
              "      <td>be is to large</td>\n",
              "    </tr>\n",
              "    <tr>\n",
              "      <th>9999</th>\n",
              "      <td>he is hard to please</td>\n",
              "      <td>what like to lets</td>\n",
              "    </tr>\n",
              "  </tbody>\n",
              "</table>\n",
              "</div>"
            ],
            "text/plain": [
              "                       actual                   predicted\n",
              "9985      you really are nuts          this bicycle you  \n",
              "9986        they kept running             be travel all  \n",
              "9987    all of these are mine   come youre keep im bought\n",
              "9988     youve come too early          you once one  hear\n",
              "9989      nobody can stop tom          when not shes tom \n",
              "9990      i dont mind waiting                i was with  \n",
              "9991       happy thanksgiving          this a youre very \n",
              "9992              i loved her             i forget were  \n",
              "9993  did you come here alone     that you need go please\n",
              "9994          were surrounded               on against   \n",
              "9995    i was very busy today           i are for theyre \n",
              "9996    i used to be your age  children to  the dangerous\n",
              "9997       do you like robots       dont you can picking \n",
              "9998  you have until midnight             be is to large \n",
              "9999     he is hard to please          what like to lets "
            ]
          },
          "metadata": {
            "tags": []
          },
          "execution_count": 170
        }
      ]
    },
    {
      "cell_type": "code",
      "metadata": {
        "id": "BTHhKo55koIL",
        "colab_type": "code",
        "outputId": "8ff4049b-feb7-4509-a00b-122937f47938",
        "colab": {
          "base_uri": "https://localhost:8080/",
          "height": 491
        }
      },
      "source": [
        "pred_df.tail(15)"
      ],
      "execution_count": 0,
      "outputs": [
        {
          "output_type": "execute_result",
          "data": {
            "text/html": [
              "<div>\n",
              "<style scoped>\n",
              "    .dataframe tbody tr th:only-of-type {\n",
              "        vertical-align: middle;\n",
              "    }\n",
              "\n",
              "    .dataframe tbody tr th {\n",
              "        vertical-align: top;\n",
              "    }\n",
              "\n",
              "    .dataframe thead th {\n",
              "        text-align: right;\n",
              "    }\n",
              "</style>\n",
              "<table border=\"1\" class=\"dataframe\">\n",
              "  <thead>\n",
              "    <tr style=\"text-align: right;\">\n",
              "      <th></th>\n",
              "      <th>actual</th>\n",
              "      <th>predicted</th>\n",
              "    </tr>\n",
              "  </thead>\n",
              "  <tbody>\n",
              "    <tr>\n",
              "      <th>9985</th>\n",
              "      <td>you really are nuts</td>\n",
              "      <td>this bicycle you</td>\n",
              "    </tr>\n",
              "    <tr>\n",
              "      <th>9986</th>\n",
              "      <td>they kept running</td>\n",
              "      <td>be travel all</td>\n",
              "    </tr>\n",
              "    <tr>\n",
              "      <th>9987</th>\n",
              "      <td>all of these are mine</td>\n",
              "      <td>come youre keep im bought</td>\n",
              "    </tr>\n",
              "    <tr>\n",
              "      <th>9988</th>\n",
              "      <td>youve come too early</td>\n",
              "      <td>you once one  hear</td>\n",
              "    </tr>\n",
              "    <tr>\n",
              "      <th>9989</th>\n",
              "      <td>nobody can stop tom</td>\n",
              "      <td>when not shes tom</td>\n",
              "    </tr>\n",
              "    <tr>\n",
              "      <th>9990</th>\n",
              "      <td>i dont mind waiting</td>\n",
              "      <td>i was with</td>\n",
              "    </tr>\n",
              "    <tr>\n",
              "      <th>9991</th>\n",
              "      <td>happy thanksgiving</td>\n",
              "      <td>this a youre very</td>\n",
              "    </tr>\n",
              "    <tr>\n",
              "      <th>9992</th>\n",
              "      <td>i loved her</td>\n",
              "      <td>i forget were</td>\n",
              "    </tr>\n",
              "    <tr>\n",
              "      <th>9993</th>\n",
              "      <td>did you come here alone</td>\n",
              "      <td>that you need go please</td>\n",
              "    </tr>\n",
              "    <tr>\n",
              "      <th>9994</th>\n",
              "      <td>were surrounded</td>\n",
              "      <td>on against</td>\n",
              "    </tr>\n",
              "    <tr>\n",
              "      <th>9995</th>\n",
              "      <td>i was very busy today</td>\n",
              "      <td>i are for theyre</td>\n",
              "    </tr>\n",
              "    <tr>\n",
              "      <th>9996</th>\n",
              "      <td>i used to be your age</td>\n",
              "      <td>children to  the dangerous</td>\n",
              "    </tr>\n",
              "    <tr>\n",
              "      <th>9997</th>\n",
              "      <td>do you like robots</td>\n",
              "      <td>dont you can picking</td>\n",
              "    </tr>\n",
              "    <tr>\n",
              "      <th>9998</th>\n",
              "      <td>you have until midnight</td>\n",
              "      <td>be is to large</td>\n",
              "    </tr>\n",
              "    <tr>\n",
              "      <th>9999</th>\n",
              "      <td>he is hard to please</td>\n",
              "      <td>what like to lets</td>\n",
              "    </tr>\n",
              "  </tbody>\n",
              "</table>\n",
              "</div>"
            ],
            "text/plain": [
              "                       actual                   predicted\n",
              "9985      you really are nuts          this bicycle you  \n",
              "9986        they kept running             be travel all  \n",
              "9987    all of these are mine   come youre keep im bought\n",
              "9988     youve come too early          you once one  hear\n",
              "9989      nobody can stop tom          when not shes tom \n",
              "9990      i dont mind waiting                i was with  \n",
              "9991       happy thanksgiving          this a youre very \n",
              "9992              i loved her             i forget were  \n",
              "9993  did you come here alone     that you need go please\n",
              "9994          were surrounded               on against   \n",
              "9995    i was very busy today           i are for theyre \n",
              "9996    i used to be your age  children to  the dangerous\n",
              "9997       do you like robots       dont you can picking \n",
              "9998  you have until midnight             be is to large \n",
              "9999     he is hard to please          what like to lets "
            ]
          },
          "metadata": {
            "tags": []
          },
          "execution_count": 171
        }
      ]
    },
    {
      "cell_type": "code",
      "metadata": {
        "id": "d_MDS7rckoIN",
        "colab_type": "code",
        "outputId": "12296210-cd22-48d5-e01e-6894daed2237",
        "colab": {
          "base_uri": "https://localhost:8080/",
          "height": 491
        }
      },
      "source": [
        "pred_df.sample(15)"
      ],
      "execution_count": 0,
      "outputs": [
        {
          "output_type": "execute_result",
          "data": {
            "text/html": [
              "<div>\n",
              "<style scoped>\n",
              "    .dataframe tbody tr th:only-of-type {\n",
              "        vertical-align: middle;\n",
              "    }\n",
              "\n",
              "    .dataframe tbody tr th {\n",
              "        vertical-align: top;\n",
              "    }\n",
              "\n",
              "    .dataframe thead th {\n",
              "        text-align: right;\n",
              "    }\n",
              "</style>\n",
              "<table border=\"1\" class=\"dataframe\">\n",
              "  <thead>\n",
              "    <tr style=\"text-align: right;\">\n",
              "      <th></th>\n",
              "      <th>actual</th>\n",
              "      <th>predicted</th>\n",
              "    </tr>\n",
              "  </thead>\n",
              "  <tbody>\n",
              "    <tr>\n",
              "      <th>1154</th>\n",
              "      <td>are you thinking about tom</td>\n",
              "      <td>im you shortly home tom</td>\n",
              "    </tr>\n",
              "    <tr>\n",
              "      <th>9636</th>\n",
              "      <td>where will you be going</td>\n",
              "      <td>too no and know</td>\n",
              "    </tr>\n",
              "    <tr>\n",
              "      <th>858</th>\n",
              "      <td>he is unmarried</td>\n",
              "      <td>am is</td>\n",
              "    </tr>\n",
              "    <tr>\n",
              "      <th>4475</th>\n",
              "      <td>is there school tomorrow</td>\n",
              "      <td>is it all</td>\n",
              "    </tr>\n",
              "    <tr>\n",
              "      <th>6489</th>\n",
              "      <td>does it look cloudy today</td>\n",
              "      <td>it show to  started</td>\n",
              "    </tr>\n",
              "    <tr>\n",
              "      <th>157</th>\n",
              "      <td>tom finished his homework</td>\n",
              "      <td>tom is him  bald</td>\n",
              "    </tr>\n",
              "    <tr>\n",
              "      <th>9902</th>\n",
              "      <td>im still busy</td>\n",
              "      <td>this tell house</td>\n",
              "    </tr>\n",
              "    <tr>\n",
              "      <th>3050</th>\n",
              "      <td>do you accept credit cards</td>\n",
              "      <td>that who youre miracle angel</td>\n",
              "    </tr>\n",
              "    <tr>\n",
              "      <th>7939</th>\n",
              "      <td>keep paddling</td>\n",
              "      <td>been</td>\n",
              "    </tr>\n",
              "    <tr>\n",
              "      <th>3013</th>\n",
              "      <td>toms family is eccentric</td>\n",
              "      <td>think  is</td>\n",
              "    </tr>\n",
              "    <tr>\n",
              "      <th>5692</th>\n",
              "      <td>they live in a house</td>\n",
              "      <td>be its  a big</td>\n",
              "    </tr>\n",
              "    <tr>\n",
              "      <th>4273</th>\n",
              "      <td>he laughed</td>\n",
              "      <td>he wake prefer</td>\n",
              "    </tr>\n",
              "    <tr>\n",
              "      <th>4983</th>\n",
              "      <td>i speak a little french</td>\n",
              "      <td>i stay take</td>\n",
              "    </tr>\n",
              "    <tr>\n",
              "      <th>5455</th>\n",
              "      <td>now step back</td>\n",
              "      <td>now a  theyre now</td>\n",
              "    </tr>\n",
              "    <tr>\n",
              "      <th>2057</th>\n",
              "      <td>the kids are asleep</td>\n",
              "      <td>the im</td>\n",
              "    </tr>\n",
              "  </tbody>\n",
              "</table>\n",
              "</div>"
            ],
            "text/plain": [
              "                          actual                     predicted\n",
              "1154  are you thinking about tom       im you shortly home tom\n",
              "9636     where will you be going              too no and know \n",
              "858              he is unmarried                      am is   \n",
              "4475    is there school tomorrow                   is it all  \n",
              "6489   does it look cloudy today           it show to  started\n",
              "157    tom finished his homework              tom is him  bald\n",
              "9902               im still busy             this tell house  \n",
              "3050  do you accept credit cards  that who youre miracle angel\n",
              "7939               keep paddling                      been    \n",
              "3013    toms family is eccentric                   think  is  \n",
              "5692        they live in a house                 be its  a big\n",
              "4273                  he laughed              he wake prefer  \n",
              "4983     i speak a little french                 i stay take  \n",
              "5455               now step back             now a  theyre now\n",
              "2057         the kids are asleep                     the im   "
            ]
          },
          "metadata": {
            "tags": []
          },
          "execution_count": 172
        }
      ]
    },
    {
      "cell_type": "code",
      "metadata": {
        "id": "TzEstXKLkoIQ",
        "colab_type": "code",
        "colab": {}
      },
      "source": [
        ""
      ],
      "execution_count": 0,
      "outputs": []
    }
  ]
}